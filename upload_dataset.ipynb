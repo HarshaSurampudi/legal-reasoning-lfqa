{
 "cells": [
  {
   "cell_type": "code",
   "execution_count": null,
   "metadata": {},
   "outputs": [],
   "source": []
  },
  {
   "cell_type": "code",
   "execution_count": 1,
   "metadata": {},
   "outputs": [],
   "source": [
    "import pandas as pd"
   ]
  },
  {
   "cell_type": "code",
   "execution_count": 2,
   "metadata": {},
   "outputs": [],
   "source": [
    "train_df = pd.read_csv('train_extracted.csv')\n",
    "test_df = pd.read_csv('test_extracted.csv')\n",
    "val_df = pd.read_csv('val_extracted.csv')"
   ]
  },
  {
   "cell_type": "code",
   "execution_count": 3,
   "metadata": {},
   "outputs": [
    {
     "data": {
      "text/html": [
       "<div>\n",
       "<style scoped>\n",
       "    .dataframe tbody tr th:only-of-type {\n",
       "        vertical-align: middle;\n",
       "    }\n",
       "\n",
       "    .dataframe tbody tr th {\n",
       "        vertical-align: top;\n",
       "    }\n",
       "\n",
       "    .dataframe thead th {\n",
       "        text-align: right;\n",
       "    }\n",
       "</style>\n",
       "<table border=\"1\" class=\"dataframe\">\n",
       "  <thead>\n",
       "    <tr style=\"text-align: right;\">\n",
       "      <th></th>\n",
       "      <th>Context</th>\n",
       "      <th>Question</th>\n",
       "      <th>Legal Reasoning</th>\n",
       "      <th>Answer</th>\n",
       "    </tr>\n",
       "  </thead>\n",
       "  <tbody>\n",
       "    <tr>\n",
       "      <th>0</th>\n",
       "      <td>Steel Co. v. Citizens for a Better Env't, 523 ...</td>\n",
       "      <td>Is the Kazakhstan State Committee considered a...</td>\n",
       "      <td>The question at hand revolves around whether t...</td>\n",
       "      <td>The categorization of the Kazakhstan State Com...</td>\n",
       "    </tr>\n",
       "    <tr>\n",
       "      <th>1</th>\n",
       "      <td>in the record when there is no indication in t...</td>\n",
       "      <td>Can a court find plain error in a case where t...</td>\n",
       "      <td>The question pertains to the court's ability t...</td>\n",
       "      <td>No, a court cannot find plain error in a case ...</td>\n",
       "    </tr>\n",
       "    <tr>\n",
       "      <th>2</th>\n",
       "      <td>However, as in Kane, we need not address this ...</td>\n",
       "      <td>Can Monson be held liable for nondischargeabil...</td>\n",
       "      <td>The question revolves around the requirement f...</td>\n",
       "      <td>Yes, Monson can be held liable for nondischarg...</td>\n",
       "    </tr>\n",
       "    <tr>\n",
       "      <th>3</th>\n",
       "      <td>acquired through the knowing use of perjured t...</td>\n",
       "      <td>Can the prosecution be held liable for using p...</td>\n",
       "      <td>The question pertains to the use of perjured t...</td>\n",
       "      <td>Yes, the prosecution can be held liable for us...</td>\n",
       "    </tr>\n",
       "    <tr>\n",
       "      <th>4</th>\n",
       "      <td>Sept. 22] with 26 Cal.App.3d at p. 627 [steel ...</td>\n",
       "      <td>If materials are delivered but not used in the...</td>\n",
       "      <td>The question pertains to whether a materialman...</td>\n",
       "      <td>No, if the materials delivered were not used i...</td>\n",
       "    </tr>\n",
       "  </tbody>\n",
       "</table>\n",
       "</div>"
      ],
      "text/plain": [
       "                                             Context  \\\n",
       "0  Steel Co. v. Citizens for a Better Env't, 523 ...   \n",
       "1  in the record when there is no indication in t...   \n",
       "2  However, as in Kane, we need not address this ...   \n",
       "3  acquired through the knowing use of perjured t...   \n",
       "4  Sept. 22] with 26 Cal.App.3d at p. 627 [steel ...   \n",
       "\n",
       "                                            Question  \\\n",
       "0  Is the Kazakhstan State Committee considered a...   \n",
       "1  Can a court find plain error in a case where t...   \n",
       "2  Can Monson be held liable for nondischargeabil...   \n",
       "3  Can the prosecution be held liable for using p...   \n",
       "4  If materials are delivered but not used in the...   \n",
       "\n",
       "                                     Legal Reasoning  \\\n",
       "0  The question at hand revolves around whether t...   \n",
       "1  The question pertains to the court's ability t...   \n",
       "2  The question revolves around the requirement f...   \n",
       "3  The question pertains to the use of perjured t...   \n",
       "4  The question pertains to whether a materialman...   \n",
       "\n",
       "                                              Answer  \n",
       "0  The categorization of the Kazakhstan State Com...  \n",
       "1  No, a court cannot find plain error in a case ...  \n",
       "2  Yes, Monson can be held liable for nondischarg...  \n",
       "3  Yes, the prosecution can be held liable for us...  \n",
       "4  No, if the materials delivered were not used i...  "
      ]
     },
     "execution_count": 3,
     "metadata": {},
     "output_type": "execute_result"
    }
   ],
   "source": [
    "train_df.head()"
   ]
  },
  {
   "cell_type": "code",
   "execution_count": 4,
   "metadata": {},
   "outputs": [
    {
     "data": {
      "text/html": [
       "<div>\n",
       "<style scoped>\n",
       "    .dataframe tbody tr th:only-of-type {\n",
       "        vertical-align: middle;\n",
       "    }\n",
       "\n",
       "    .dataframe tbody tr th {\n",
       "        vertical-align: top;\n",
       "    }\n",
       "\n",
       "    .dataframe thead th {\n",
       "        text-align: right;\n",
       "    }\n",
       "</style>\n",
       "<table border=\"1\" class=\"dataframe\">\n",
       "  <thead>\n",
       "    <tr style=\"text-align: right;\">\n",
       "      <th></th>\n",
       "      <th>Context</th>\n",
       "      <th>Question</th>\n",
       "      <th>Legal Reasoning</th>\n",
       "      <th>Answer</th>\n",
       "    </tr>\n",
       "  </thead>\n",
       "  <tbody>\n",
       "    <tr>\n",
       "      <th>0</th>\n",
       "      <td>or reopen hearing on the motion. The record is...</td>\n",
       "      <td>In the given context, did the defendant raise ...</td>\n",
       "      <td>The defendant has raised the issue of the alle...</td>\n",
       "      <td>Yes, the defendant adequately raised the issue...</td>\n",
       "    </tr>\n",
       "    <tr>\n",
       "      <th>1</th>\n",
       "      <td>145, 149 (Ind.Ct.App.2005). Further, the propo...</td>\n",
       "      <td>Can a surgeon be granted summary judgment in a...</td>\n",
       "      <td>The question pertains to whether a surgeon can...</td>\n",
       "      <td>No, a surgeon cannot be granted summary judgme...</td>\n",
       "    </tr>\n",
       "    <tr>\n",
       "      <th>2</th>\n",
       "      <td>of twenty years. Given the district court’s re...</td>\n",
       "      <td>Can any fact beyond the mere fact of convictio...</td>\n",
       "      <td>The question pertains to whether any fact beyo...</td>\n",
       "      <td>No, according to precedent set in Almendarez-T...</td>\n",
       "    </tr>\n",
       "    <tr>\n",
       "      <th>3</th>\n",
       "      <td>Hector Roderico Garcia, a native and citizen o...</td>\n",
       "      <td>Did Hector Roderico Garcia exhaust the claims ...</td>\n",
       "      <td>The question pertains to whether Hector Roderi...</td>\n",
       "      <td>No, Hector Roderico Garcia did not exhaust the...</td>\n",
       "    </tr>\n",
       "    <tr>\n",
       "      <th>4</th>\n",
       "      <td>rules), practices, routes, services, and facil...</td>\n",
       "      <td>Can state law remedies be used instead of the ...</td>\n",
       "      <td>The question revolves around the preemption of...</td>\n",
       "      <td>No, state law remedies cannot be used instead ...</td>\n",
       "    </tr>\n",
       "  </tbody>\n",
       "</table>\n",
       "</div>"
      ],
      "text/plain": [
       "                                             Context  \\\n",
       "0  or reopen hearing on the motion. The record is...   \n",
       "1  145, 149 (Ind.Ct.App.2005). Further, the propo...   \n",
       "2  of twenty years. Given the district court’s re...   \n",
       "3  Hector Roderico Garcia, a native and citizen o...   \n",
       "4  rules), practices, routes, services, and facil...   \n",
       "\n",
       "                                            Question  \\\n",
       "0  In the given context, did the defendant raise ...   \n",
       "1  Can a surgeon be granted summary judgment in a...   \n",
       "2  Can any fact beyond the mere fact of convictio...   \n",
       "3  Did Hector Roderico Garcia exhaust the claims ...   \n",
       "4  Can state law remedies be used instead of the ...   \n",
       "\n",
       "                                     Legal Reasoning  \\\n",
       "0  The defendant has raised the issue of the alle...   \n",
       "1  The question pertains to whether a surgeon can...   \n",
       "2  The question pertains to whether any fact beyo...   \n",
       "3  The question pertains to whether Hector Roderi...   \n",
       "4  The question revolves around the preemption of...   \n",
       "\n",
       "                                              Answer  \n",
       "0  Yes, the defendant adequately raised the issue...  \n",
       "1  No, a surgeon cannot be granted summary judgme...  \n",
       "2  No, according to precedent set in Almendarez-T...  \n",
       "3  No, Hector Roderico Garcia did not exhaust the...  \n",
       "4  No, state law remedies cannot be used instead ...  "
      ]
     },
     "execution_count": 4,
     "metadata": {},
     "output_type": "execute_result"
    }
   ],
   "source": [
    "val_df.head()"
   ]
  },
  {
   "cell_type": "code",
   "execution_count": 5,
   "metadata": {},
   "outputs": [
    {
     "data": {
      "text/html": [
       "<div>\n",
       "<style scoped>\n",
       "    .dataframe tbody tr th:only-of-type {\n",
       "        vertical-align: middle;\n",
       "    }\n",
       "\n",
       "    .dataframe tbody tr th {\n",
       "        vertical-align: top;\n",
       "    }\n",
       "\n",
       "    .dataframe thead th {\n",
       "        text-align: right;\n",
       "    }\n",
       "</style>\n",
       "<table border=\"1\" class=\"dataframe\">\n",
       "  <thead>\n",
       "    <tr style=\"text-align: right;\">\n",
       "      <th></th>\n",
       "      <th>Context</th>\n",
       "      <th>Question</th>\n",
       "      <th>Legal Reasoning</th>\n",
       "      <th>Answer</th>\n",
       "    </tr>\n",
       "  </thead>\n",
       "  <tbody>\n",
       "    <tr>\n",
       "      <th>0</th>\n",
       "      <td>and Statistical Manual of Mental Disorders 446...</td>\n",
       "      <td>Can the defendants force Dr. Nadel to provide ...</td>\n",
       "      <td>The issue at hand pertains to the compulsion o...</td>\n",
       "      <td>No, according to the Graham v. Gielchinsky cas...</td>\n",
       "    </tr>\n",
       "    <tr>\n",
       "      <th>1</th>\n",
       "      <td>one of his trial counsel as a witness, so the ...</td>\n",
       "      <td>Did the Appellee's trial counsel have knowledg...</td>\n",
       "      <td>The question at hand pertains to the knowledge...</td>\n",
       "      <td>It is uncertain whether the Appellee's trial c...</td>\n",
       "    </tr>\n",
       "    <tr>\n",
       "      <th>2</th>\n",
       "      <td>Some of Cruikshank’s objections on appeal appe...</td>\n",
       "      <td>Can Cruikshank's objections on the trial court...</td>\n",
       "      <td>The issue at hand pertains to the admissibilit...</td>\n",
       "      <td>No, Cruikshank's objections on the trial court...</td>\n",
       "    </tr>\n",
       "    <tr>\n",
       "      <th>3</th>\n",
       "      <td>noting that the additional materials provided ...</td>\n",
       "      <td>Can the motion to strike filed by PFM be consi...</td>\n",
       "      <td>The question pertains to the categorization of...</td>\n",
       "      <td>Yes, the motion to strike filed by PFM can be ...</td>\n",
       "    </tr>\n",
       "    <tr>\n",
       "      <th>4</th>\n",
       "      <td>The State is within the powers reserved to it ...</td>\n",
       "      <td>Can the State refuse to enter into agreements ...</td>\n",
       "      <td>The question revolves around the State's power...</td>\n",
       "      <td>Yes, the State has the power to refuse to ente...</td>\n",
       "    </tr>\n",
       "  </tbody>\n",
       "</table>\n",
       "</div>"
      ],
      "text/plain": [
       "                                             Context  \\\n",
       "0  and Statistical Manual of Mental Disorders 446...   \n",
       "1  one of his trial counsel as a witness, so the ...   \n",
       "2  Some of Cruikshank’s objections on appeal appe...   \n",
       "3  noting that the additional materials provided ...   \n",
       "4  The State is within the powers reserved to it ...   \n",
       "\n",
       "                                            Question  \\\n",
       "0  Can the defendants force Dr. Nadel to provide ...   \n",
       "1  Did the Appellee's trial counsel have knowledg...   \n",
       "2  Can Cruikshank's objections on the trial court...   \n",
       "3  Can the motion to strike filed by PFM be consi...   \n",
       "4  Can the State refuse to enter into agreements ...   \n",
       "\n",
       "                                     Legal Reasoning  \\\n",
       "0  The issue at hand pertains to the compulsion o...   \n",
       "1  The question at hand pertains to the knowledge...   \n",
       "2  The issue at hand pertains to the admissibilit...   \n",
       "3  The question pertains to the categorization of...   \n",
       "4  The question revolves around the State's power...   \n",
       "\n",
       "                                              Answer  \n",
       "0  No, according to the Graham v. Gielchinsky cas...  \n",
       "1  It is uncertain whether the Appellee's trial c...  \n",
       "2  No, Cruikshank's objections on the trial court...  \n",
       "3  Yes, the motion to strike filed by PFM can be ...  \n",
       "4  Yes, the State has the power to refuse to ente...  "
      ]
     },
     "execution_count": 5,
     "metadata": {},
     "output_type": "execute_result"
    }
   ],
   "source": [
    "test_df.head()"
   ]
  },
  {
   "cell_type": "code",
   "execution_count": 7,
   "metadata": {},
   "outputs": [
    {
     "name": "stdout",
     "output_type": "stream",
     "text": [
      "\n",
      "\u001b[1m[\u001b[0m\u001b[34;49mnotice\u001b[0m\u001b[1;39;49m]\u001b[0m\u001b[39;49m A new release of pip available: \u001b[0m\u001b[31;49m22.3.1\u001b[0m\u001b[39;49m -> \u001b[0m\u001b[32;49m23.2.1\u001b[0m\n",
      "\u001b[1m[\u001b[0m\u001b[34;49mnotice\u001b[0m\u001b[1;39;49m]\u001b[0m\u001b[39;49m To update, run: \u001b[0m\u001b[32;49mpip install --upgrade pip\u001b[0m\n"
     ]
    }
   ],
   "source": [
    "!pip install datasets -q"
   ]
  },
  {
   "cell_type": "code",
   "execution_count": 12,
   "metadata": {},
   "outputs": [
    {
     "name": "stderr",
     "output_type": "stream",
     "text": [
      "Downloading data files: 100%|██████████| 1/1 [00:00<00:00, 11915.64it/s]\n",
      "Extracting data files: 100%|██████████| 1/1 [00:00<00:00, 1673.70it/s]\n",
      "Generating train split: 14991 examples [00:00, 50910.71 examples/s]\n",
      "Downloading data files: 100%|██████████| 1/1 [00:00<00:00, 9118.05it/s]\n",
      "Extracting data files: 100%|██████████| 1/1 [00:00<00:00, 1861.65it/s]\n",
      "Generating train split: 1497 examples [00:00, 42833.47 examples/s]\n",
      "Downloading data files: 100%|██████████| 1/1 [00:00<00:00, 9510.89it/s]\n",
      "Extracting data files: 100%|██████████| 1/1 [00:00<00:00, 1762.31it/s]\n",
      "Generating train split: 1496 examples [00:00, 48249.32 examples/s]\n"
     ]
    }
   ],
   "source": [
    "from datasets import load_dataset\n",
    "\n",
    "train_dataset = load_dataset('csv', data_files='train_extracted.csv', split='train')\n",
    "test_dataset = load_dataset('csv', data_files='test_extracted.csv', split='train')\n",
    "val_dataset = load_dataset('csv', data_files='val_extracted.csv', split='train')"
   ]
  },
  {
   "cell_type": "code",
   "execution_count": 13,
   "metadata": {},
   "outputs": [],
   "source": [
    "dataset_dict = {\n",
    "    'train': train_dataset,\n",
    "    'test': test_dataset,\n",
    "    'validation': val_dataset,\n",
    "}"
   ]
  },
  {
   "cell_type": "code",
   "execution_count": 16,
   "metadata": {},
   "outputs": [
    {
     "name": "stdout",
     "output_type": "stream",
     "text": [
      "Repository URL: https://huggingface.co/harshasurampudi/legal-reasoning-lfqa-synthetic\n"
     ]
    }
   ],
   "source": [
    "from huggingface_hub import create_repo\n",
    "\n",
    "repo_name = \"legal-reasoning-lfqa-synthetic\"\n",
    "repo_url = create_repo(repo_name, private=True)\n",
    "print(\"Repository URL:\", repo_url)"
   ]
  },
  {
   "cell_type": "code",
   "execution_count": 18,
   "metadata": {},
   "outputs": [],
   "source": [
    "from datasets import DatasetDict\n",
    "\n",
    "dataset = DatasetDict(dataset_dict)"
   ]
  },
  {
   "cell_type": "code",
   "execution_count": 22,
   "metadata": {},
   "outputs": [
    {
     "name": "stderr",
     "output_type": "stream",
     "text": [
      "Creating parquet from Arrow format: 100%|██████████| 15/15 [00:00<00:00, 144.85ba/s]\n",
      "Pushing dataset shards to the dataset hub: 100%|██████████| 1/1 [00:13<00:00, 13.40s/it]\n",
      "Creating parquet from Arrow format: 100%|██████████| 2/2 [00:00<00:00, 214.80ba/s]\n",
      "Pushing dataset shards to the dataset hub: 100%|██████████| 1/1 [00:02<00:00,  2.03s/it]\n",
      "Creating parquet from Arrow format: 100%|██████████| 2/2 [00:00<00:00, 99.64ba/s]\n",
      "Pushing dataset shards to the dataset hub: 100%|██████████| 1/1 [00:01<00:00,  1.73s/it]\n"
     ]
    }
   ],
   "source": [
    "dataset.push_to_hub(repo_name, private=True)"
   ]
  },
  {
   "cell_type": "code",
   "execution_count": 20,
   "metadata": {},
   "outputs": [
    {
     "data": {
      "text/plain": [
       "DatasetDict({\n",
       "    train: Dataset({\n",
       "        features: ['Context', 'Question', 'Legal Reasoning', 'Answer'],\n",
       "        num_rows: 14991\n",
       "    })\n",
       "    test: Dataset({\n",
       "        features: ['Context', 'Question', 'Legal Reasoning', 'Answer'],\n",
       "        num_rows: 1497\n",
       "    })\n",
       "    validation: Dataset({\n",
       "        features: ['Context', 'Question', 'Legal Reasoning', 'Answer'],\n",
       "        num_rows: 1496\n",
       "    })\n",
       "})"
      ]
     },
     "execution_count": 20,
     "metadata": {},
     "output_type": "execute_result"
    }
   ],
   "source": [
    "dataset"
   ]
  },
  {
   "cell_type": "code",
   "execution_count": 23,
   "metadata": {},
   "outputs": [
    {
     "name": "stderr",
     "output_type": "stream",
     "text": [
      "Downloading readme: 100%|██████████| 797/797 [00:00<00:00, 8.29MB/s]\n",
      "Downloading data: 100%|██████████| 1.83M/1.83M [00:02<00:00, 665kB/s]\n",
      "Downloading data: 100%|██████████| 18.3M/18.3M [00:16<00:00, 1.11MB/s]\n",
      "Downloading data: 100%|██████████| 1.83M/1.83M [00:02<00:00, 676kB/s]\n",
      "Downloading data files: 100%|██████████| 3/3 [00:21<00:00,  7.32s/it]\n",
      "Extracting data files: 100%|██████████| 3/3 [00:00<00:00, 3056.33it/s]\n",
      "Generating test split: 100%|██████████| 1497/1497 [00:00<00:00, 224912.17 examples/s]\n",
      "Generating train split: 100%|██████████| 14991/14991 [00:00<00:00, 355483.25 examples/s]\n",
      "Generating validation split: 100%|██████████| 1496/1496 [00:00<00:00, 308232.00 examples/s]\n"
     ]
    }
   ],
   "source": [
    "from datasets import load_dataset\n",
    "\n",
    "# If the dataset is gated/private, make sure you have run huggingface-cli login\n",
    "dataset = load_dataset(\"harshasurampudi/legal-reasoning-lfqa-synthetic\")"
   ]
  },
  {
   "cell_type": "code",
   "execution_count": 25,
   "metadata": {},
   "outputs": [
    {
     "data": {
      "text/plain": [
       "DatasetDict({\n",
       "    test: Dataset({\n",
       "        features: ['Context', 'Question', 'Legal Reasoning', 'Answer'],\n",
       "        num_rows: 1497\n",
       "    })\n",
       "    train: Dataset({\n",
       "        features: ['Context', 'Question', 'Legal Reasoning', 'Answer'],\n",
       "        num_rows: 14991\n",
       "    })\n",
       "    validation: Dataset({\n",
       "        features: ['Context', 'Question', 'Legal Reasoning', 'Answer'],\n",
       "        num_rows: 1496\n",
       "    })\n",
       "})"
      ]
     },
     "execution_count": 25,
     "metadata": {},
     "output_type": "execute_result"
    }
   ],
   "source": [
    "dataset"
   ]
  },
  {
   "cell_type": "code",
   "execution_count": null,
   "metadata": {},
   "outputs": [],
   "source": []
  }
 ],
 "metadata": {
  "kernelspec": {
   "display_name": "venv",
   "language": "python",
   "name": "python3"
  },
  "language_info": {
   "codemirror_mode": {
    "name": "ipython",
    "version": 3
   },
   "file_extension": ".py",
   "mimetype": "text/x-python",
   "name": "python",
   "nbconvert_exporter": "python",
   "pygments_lexer": "ipython3",
   "version": "3.10.10"
  },
  "orig_nbformat": 4
 },
 "nbformat": 4,
 "nbformat_minor": 2
}
