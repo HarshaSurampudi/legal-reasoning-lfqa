{
 "cells": [
  {
   "cell_type": "code",
   "execution_count": 2,
   "id": "26e05321-2559-4cad-bccb-60f1c6141c3a",
   "metadata": {
    "execution": {
     "iopub.execute_input": "2023-08-15T13:02:13.621855Z",
     "iopub.status.busy": "2023-08-15T13:02:13.621314Z",
     "iopub.status.idle": "2023-08-15T13:02:37.306593Z",
     "shell.execute_reply": "2023-08-15T13:02:37.306035Z",
     "shell.execute_reply.started": "2023-08-15T13:02:13.621831Z"
    }
   },
   "outputs": [
    {
     "name": "stdout",
     "output_type": "stream",
     "text": [
      "\u001b[33mWARNING: Running pip as the 'root' user can result in broken permissions and conflicting behaviour with the system package manager. It is recommended to use a virtual environment instead: https://pip.pypa.io/warnings/venv\u001b[0m\u001b[33m\n",
      "\u001b[0m\u001b[33mWARNING: Running pip as the 'root' user can result in broken permissions and conflicting behaviour with the system package manager. It is recommended to use a virtual environment instead: https://pip.pypa.io/warnings/venv\u001b[0m\u001b[33m\n",
      "\u001b[0m"
     ]
    }
   ],
   "source": [
    "!pip install -q bitsandbytes datasets accelerate loralib\n",
    "!pip install -q git+https://github.com/huggingface/transformers.git@main git+https://github.com/huggingface/peft.git"
   ]
  },
  {
   "cell_type": "code",
   "execution_count": 3,
   "id": "b62651f8-6c29-44f7-81e0-3db72a0453d9",
   "metadata": {
    "execution": {
     "iopub.execute_input": "2023-08-15T07:44:47.541321Z",
     "iopub.status.busy": "2023-08-15T07:44:47.540717Z",
     "iopub.status.idle": "2023-08-15T07:44:48.105517Z",
     "shell.execute_reply": "2023-08-15T07:44:48.104784Z",
     "shell.execute_reply.started": "2023-08-15T07:44:47.541291Z"
    }
   },
   "outputs": [
    {
     "name": "stdout",
     "output_type": "stream",
     "text": [
      "GPU 0: NVIDIA RTX A6000 (UUID: GPU-7de0cdd4-72bc-b63b-c746-81bfbe469d2a)\n"
     ]
    }
   ],
   "source": [
    "!nvidia-smi -L"
   ]
  },
  {
   "cell_type": "code",
   "execution_count": 4,
   "id": "9fb10ab1-3844-4220-8eab-59a92997519e",
   "metadata": {
    "execution": {
     "iopub.execute_input": "2023-08-15T07:44:53.821775Z",
     "iopub.status.busy": "2023-08-15T07:44:53.821159Z",
     "iopub.status.idle": "2023-08-15T07:50:58.749292Z",
     "shell.execute_reply": "2023-08-15T07:50:58.748553Z",
     "shell.execute_reply.started": "2023-08-15T07:44:53.821751Z"
    }
   },
   "outputs": [
    {
     "data": {
      "application/vnd.jupyter.widget-view+json": {
       "model_id": "69c606178e25419c8ffcab8b522663bb",
       "version_major": 2,
       "version_minor": 0
      },
      "text/plain": [
       "Downloading (…)lve/main/config.json:   0%|          | 0.00/930 [00:00<?, ?B/s]"
      ]
     },
     "metadata": {},
     "output_type": "display_data"
    },
    {
     "data": {
      "application/vnd.jupyter.widget-view+json": {
       "model_id": "4a92a379f3db4a28a8feee79a2e37936",
       "version_major": 2,
       "version_minor": 0
      },
      "text/plain": [
       "Downloading pytorch_model.bin:   0%|          | 0.00/24.2G [00:00<?, ?B/s]"
      ]
     },
     "metadata": {},
     "output_type": "display_data"
    },
    {
     "data": {
      "application/vnd.jupyter.widget-view+json": {
       "model_id": "bf392a2732c9455b8e7a875d99270e29",
       "version_major": 2,
       "version_minor": 0
      },
      "text/plain": [
       "Downloading (…)okenizer_config.json:   0%|          | 0.00/619 [00:00<?, ?B/s]"
      ]
     },
     "metadata": {},
     "output_type": "display_data"
    },
    {
     "data": {
      "application/vnd.jupyter.widget-view+json": {
       "model_id": "da3cd1ecc09845739ce93e048f2d8580",
       "version_major": 2,
       "version_minor": 0
      },
      "text/plain": [
       "Downloading (…)olve/main/vocab.json:   0%|          | 0.00/798k [00:00<?, ?B/s]"
      ]
     },
     "metadata": {},
     "output_type": "display_data"
    },
    {
     "data": {
      "application/vnd.jupyter.widget-view+json": {
       "model_id": "aaa9c309e19c4d49ae74207eacab2e15",
       "version_major": 2,
       "version_minor": 0
      },
      "text/plain": [
       "Downloading (…)olve/main/merges.txt:   0%|          | 0.00/456k [00:00<?, ?B/s]"
      ]
     },
     "metadata": {},
     "output_type": "display_data"
    },
    {
     "data": {
      "application/vnd.jupyter.widget-view+json": {
       "model_id": "a485644ecf814034abf600e666419b28",
       "version_major": 2,
       "version_minor": 0
      },
      "text/plain": [
       "Downloading (…)/main/tokenizer.json:   0%|          | 0.00/1.37M [00:00<?, ?B/s]"
      ]
     },
     "metadata": {},
     "output_type": "display_data"
    },
    {
     "data": {
      "application/vnd.jupyter.widget-view+json": {
       "model_id": "ee6bcc8934f54285905a9841522574f7",
       "version_major": 2,
       "version_minor": 0
      },
      "text/plain": [
       "Downloading (…)in/added_tokens.json:   0%|          | 0.00/4.04k [00:00<?, ?B/s]"
      ]
     },
     "metadata": {},
     "output_type": "display_data"
    },
    {
     "data": {
      "application/vnd.jupyter.widget-view+json": {
       "model_id": "b93ef6db5cd240b59cab0b544aeeb3e6",
       "version_major": 2,
       "version_minor": 0
      },
      "text/plain": [
       "Downloading (…)cial_tokens_map.json:   0%|          | 0.00/357 [00:00<?, ?B/s]"
      ]
     },
     "metadata": {},
     "output_type": "display_data"
    }
   ],
   "source": [
    "import os\n",
    "os.environ[\"CUDA_VISIBLE_DEVICES\"]=\"0\"\n",
    "import torch\n",
    "import torch.nn as nn\n",
    "import bitsandbytes as bnb\n",
    "from transformers import AutoTokenizer, AutoConfig, AutoModelForCausalLM\n",
    "\n",
    "model = AutoModelForCausalLM.from_pretrained(\n",
    "    \"EleutherAI/gpt-j-6b\",\n",
    "    load_in_8bit=True,\n",
    "    device_map='auto',\n",
    ")\n",
    "\n",
    "tokenizer = AutoTokenizer.from_pretrained(\"EleutherAI/gpt-j-6b\")\n",
    "tokenizer.pad_token = tokenizer.eos_token"
   ]
  },
  {
   "cell_type": "code",
   "execution_count": 5,
   "id": "2f1fc7b0-0581-4cf4-bdc7-0b2dbf519c0f",
   "metadata": {
    "execution": {
     "iopub.execute_input": "2023-08-15T07:50:58.753182Z",
     "iopub.status.busy": "2023-08-15T07:50:58.753027Z",
     "iopub.status.idle": "2023-08-15T07:50:58.764618Z",
     "shell.execute_reply": "2023-08-15T07:50:58.764065Z",
     "shell.execute_reply.started": "2023-08-15T07:50:58.753162Z"
    }
   },
   "outputs": [],
   "source": [
    "for param in model.parameters():\n",
    "  param.requires_grad = False  # freeze the model - train adapters later\n",
    "  if param.ndim == 1:\n",
    "    # cast the small parameters (e.g. layernorm) to fp32 for stability\n",
    "    param.data = param.data.to(torch.float32)\n",
    "\n",
    "model.gradient_checkpointing_enable()  # reduce number of stored activations\n",
    "model.enable_input_require_grads()\n",
    "\n",
    "class CastOutputToFloat(nn.Sequential):\n",
    "  def forward(self, x): return super().forward(x).to(torch.float32)\n",
    "model.lm_head = CastOutputToFloat(model.lm_head)"
   ]
  },
  {
   "cell_type": "code",
   "execution_count": 6,
   "id": "f1778062-c64e-40e3-ac84-aeb0a5f25197",
   "metadata": {
    "execution": {
     "iopub.execute_input": "2023-08-15T07:50:58.767529Z",
     "iopub.status.busy": "2023-08-15T07:50:58.767387Z",
     "iopub.status.idle": "2023-08-15T07:50:58.771466Z",
     "shell.execute_reply": "2023-08-15T07:50:58.770792Z",
     "shell.execute_reply.started": "2023-08-15T07:50:58.767514Z"
    }
   },
   "outputs": [],
   "source": [
    "def print_trainable_parameters(model):\n",
    "    \"\"\"\n",
    "    Prints the number of trainable parameters in the model.\n",
    "    \"\"\"\n",
    "    trainable_params = 0\n",
    "    all_param = 0\n",
    "    for _, param in model.named_parameters():\n",
    "        all_param += param.numel()\n",
    "        if param.requires_grad:\n",
    "            trainable_params += param.numel()\n",
    "    print(\n",
    "        f\"trainable params: {trainable_params} || all params: {all_param} || trainable%: {100 * trainable_params / all_param}\"\n",
    "    )"
   ]
  },
  {
   "cell_type": "code",
   "execution_count": null,
   "id": "206229d6-0a44-40ad-9eb9-c40d8e060856",
   "metadata": {
    "execution": {
     "iopub.execute_input": "2023-08-07T18:33:33.801422Z",
     "iopub.status.busy": "2023-08-07T18:33:33.801153Z",
     "iopub.status.idle": "2023-08-07T18:33:40.184306Z",
     "shell.execute_reply": "2023-08-07T18:33:40.183391Z",
     "shell.execute_reply.started": "2023-08-07T18:33:33.801400Z"
    }
   },
   "outputs": [],
   "source": [
    "from peft import LoraConfig, get_peft_model\n",
    "\n",
    "config = LoraConfig(\n",
    "    r=16, #attention heads\n",
    "    lora_alpha=32, #alpha scaling\n",
    "    # target_modules=[\"q_proj\", \"v_proj\"], #if you know the\n",
    "    lora_dropout=0.05,\n",
    "    bias=\"none\",\n",
    "    task_type=\"CAUSAL_LM\" # set this for CLM or Seq2Seq\n",
    ")\n",
    "\n",
    "model = get_peft_model(model, config)\n",
    "print_trainable_parameters(model)"
   ]
  },
  {
   "cell_type": "code",
   "execution_count": 8,
   "id": "93c2a358-9bd3-4083-a97b-b1ddc722a912",
   "metadata": {
    "execution": {
     "iopub.execute_input": "2023-08-15T07:51:56.855604Z",
     "iopub.status.busy": "2023-08-15T07:51:56.855080Z",
     "iopub.status.idle": "2023-08-15T07:52:25.295737Z",
     "shell.execute_reply": "2023-08-15T07:52:25.295100Z",
     "shell.execute_reply.started": "2023-08-15T07:51:56.855584Z"
    }
   },
   "outputs": [
    {
     "name": "stderr",
     "output_type": "stream",
     "text": [
      "/usr/local/lib/python3.9/dist-packages/transformers/data/datasets/language_modeling.py:53: FutureWarning: This dataset will be removed from the library soon, preprocessing should be handled with the 🤗 Datasets library. You can have a look at this example script for pointers: https://github.com/huggingface/transformers/blob/main/examples/pytorch/language-modeling/run_mlm.py\n",
      "  warnings.warn(\n",
      "Token indices sequence length is longer than the specified maximum sequence length for this model (6576023 > 2048). Running this sequence through the model will result in indexing errors\n"
     ]
    }
   ],
   "source": [
    "from transformers import TextDataset, DataCollatorForLanguageModeling\n",
    "\n",
    "# Load the datasets\n",
    "train_dataset = TextDataset(\n",
    "    tokenizer=tokenizer,\n",
    "    file_path=\"../data/preprocessed/train_with_reasoning.csv\",\n",
    "    block_size=256,\n",
    ")\n",
    "\n",
    "val_dataset = TextDataset(\n",
    "    tokenizer=tokenizer,\n",
    "    file_path=\"../data/preprocessed/val_with_reasoning.csv\",\n",
    "    block_size=256,\n",
    ")\n",
    "\n",
    "# Define data collator\n",
    "data_collator = DataCollatorForLanguageModeling(\n",
    "    tokenizer=tokenizer, mlm=False,\n",
    ")"
   ]
  },
  {
   "cell_type": "code",
   "execution_count": 9,
   "id": "a611f76e-4717-4a35-adf6-68eb482815c6",
   "metadata": {
    "execution": {
     "iopub.execute_input": "2023-08-15T07:53:21.811811Z",
     "iopub.status.busy": "2023-08-15T07:53:21.811220Z",
     "iopub.status.idle": "2023-08-15T07:53:22.033649Z",
     "shell.execute_reply": "2023-08-15T07:53:22.033085Z",
     "shell.execute_reply.started": "2023-08-15T07:53:21.811789Z"
    }
   },
   "outputs": [],
   "source": [
    "from transformers import Trainer, TrainingArguments\n",
    "\n",
    "# Define the parameters for fine-tuning\n",
    "lr = 1e-5\n",
    "end_lr = 2e-6\n",
    "num_train_epochs = 1\n",
    "warmup_steps = 100\n",
    "\n",
    "trainer = Trainer(\n",
    "    model=model,\n",
    "    args=TrainingArguments(\n",
    "        output_dir='gptj-with-reasoning-results',\n",
    "        per_device_train_batch_size=8,\n",
    "        per_device_eval_batch_size=8,\n",
    "        gradient_accumulation_steps=4,\n",
    "        warmup_steps=warmup_steps,\n",
    "        num_train_epochs=num_train_epochs,\n",
    "        learning_rate=lr,\n",
    "        weight_decay=0.1,\n",
    "        fp16=True,\n",
    "        logging_steps=10,\n",
    "        logging_dir='./logs',\n",
    "        evaluation_strategy=\"steps\",\n",
    "        eval_steps=50,\n",
    "        \n",
    "    ),\n",
    "    data_collator=data_collator,\n",
    "    train_dataset=train_dataset,\n",
    "    eval_dataset=val_dataset\n",
    ")\n",
    "model.config.use_cache = False"
   ]
  },
  {
   "cell_type": "code",
   "execution_count": 10,
   "id": "bd311555-ec52-4524-8f16-3fb942d6351c",
   "metadata": {
    "execution": {
     "iopub.execute_input": "2023-08-15T07:53:30.430033Z",
     "iopub.status.busy": "2023-08-15T07:53:30.429260Z",
     "iopub.status.idle": "2023-08-15T10:56:08.938407Z",
     "shell.execute_reply": "2023-08-15T10:56:08.937809Z",
     "shell.execute_reply.started": "2023-08-15T07:53:30.430007Z"
    }
   },
   "outputs": [
    {
     "name": "stdout",
     "output_type": "stream",
     "text": [
      "huggingface/tokenizers: The current process just got forked, after parallelism has already been used. Disabling parallelism to avoid deadlocks...\n",
      "To disable this warning, you can either:\n",
      "\t- Avoid using `tokenizers` before the fork if possible\n",
      "\t- Explicitly set the environment variable TOKENIZERS_PARALLELISM=(true | false)\n"
     ]
    },
    {
     "name": "stderr",
     "output_type": "stream",
     "text": [
      "\u001b[34m\u001b[1mwandb\u001b[0m: Logging into wandb.ai. (Learn how to deploy a W&B server locally: https://wandb.me/wandb-server)\n",
      "\u001b[34m\u001b[1mwandb\u001b[0m: You can find your API key in your browser here: https://wandb.ai/authorize\n",
      "\u001b[34m\u001b[1mwandb\u001b[0m: Paste an API key from your profile and hit enter, or press ctrl+c to quit:"
     ]
    },
    {
     "name": "stdout",
     "output_type": "stream",
     "text": [
      "  ········································\n"
     ]
    },
    {
     "name": "stderr",
     "output_type": "stream",
     "text": [
      "\u001b[34m\u001b[1mwandb\u001b[0m: Appending key for api.wandb.ai to your netrc file: /root/.netrc\n"
     ]
    },
    {
     "name": "stdout",
     "output_type": "stream",
     "text": [
      "huggingface/tokenizers: The current process just got forked, after parallelism has already been used. Disabling parallelism to avoid deadlocks...\n",
      "To disable this warning, you can either:\n",
      "\t- Avoid using `tokenizers` before the fork if possible\n",
      "\t- Explicitly set the environment variable TOKENIZERS_PARALLELISM=(true | false)\n",
      "huggingface/tokenizers: The current process just got forked, after parallelism has already been used. Disabling parallelism to avoid deadlocks...\n",
      "To disable this warning, you can either:\n",
      "\t- Avoid using `tokenizers` before the fork if possible\n",
      "\t- Explicitly set the environment variable TOKENIZERS_PARALLELISM=(true | false)\n"
     ]
    },
    {
     "data": {
      "text/html": [
       "wandb version 0.15.8 is available!  To upgrade, please run:\n",
       " $ pip install wandb --upgrade"
      ],
      "text/plain": [
       "<IPython.core.display.HTML object>"
      ]
     },
     "metadata": {},
     "output_type": "display_data"
    },
    {
     "data": {
      "text/html": [
       "Tracking run with wandb version 0.13.4"
      ],
      "text/plain": [
       "<IPython.core.display.HTML object>"
      ]
     },
     "metadata": {},
     "output_type": "display_data"
    },
    {
     "data": {
      "text/html": [
       "Run data is saved locally in <code>/notebooks/legal-lfqa/wandb/run-20230815_075349-f3i3a2mp</code>"
      ],
      "text/plain": [
       "<IPython.core.display.HTML object>"
      ]
     },
     "metadata": {},
     "output_type": "display_data"
    },
    {
     "data": {
      "text/html": [
       "Syncing run <strong><a href=\"https://wandb.ai/harshasurampudi/huggingface/runs/f3i3a2mp\" target=\"_blank\">soft-resonance-21</a></strong> to <a href=\"https://wandb.ai/harshasurampudi/huggingface\" target=\"_blank\">Weights & Biases</a> (<a href=\"https://wandb.me/run\" target=\"_blank\">docs</a>)<br/>"
      ],
      "text/plain": [
       "<IPython.core.display.HTML object>"
      ]
     },
     "metadata": {},
     "output_type": "display_data"
    },
    {
     "name": "stderr",
     "output_type": "stream",
     "text": [
      "/usr/local/lib/python3.9/dist-packages/bitsandbytes/autograd/_functions.py:322: UserWarning: MatMul8bitLt: inputs will be cast from torch.float32 to float16 during quantization\n",
      "  warnings.warn(f\"MatMul8bitLt: inputs will be cast from {A.dtype} to float16 during quantization\")\n"
     ]
    },
    {
     "data": {
      "text/html": [
       "\n",
       "    <div>\n",
       "      \n",
       "      <progress value='802' max='802' style='width:300px; height:20px; vertical-align: middle;'></progress>\n",
       "      [802/802 3:02:06, Epoch 0/1]\n",
       "    </div>\n",
       "    <table border=\"1\" class=\"dataframe\">\n",
       "  <thead>\n",
       " <tr style=\"text-align: left;\">\n",
       "      <th>Step</th>\n",
       "      <th>Training Loss</th>\n",
       "      <th>Validation Loss</th>\n",
       "    </tr>\n",
       "  </thead>\n",
       "  <tbody>\n",
       "    <tr>\n",
       "      <td>50</td>\n",
       "      <td>2.121100</td>\n",
       "      <td>2.118749</td>\n",
       "    </tr>\n",
       "    <tr>\n",
       "      <td>100</td>\n",
       "      <td>2.049500</td>\n",
       "      <td>2.041663</td>\n",
       "    </tr>\n",
       "    <tr>\n",
       "      <td>150</td>\n",
       "      <td>1.917400</td>\n",
       "      <td>1.908586</td>\n",
       "    </tr>\n",
       "    <tr>\n",
       "      <td>200</td>\n",
       "      <td>1.817600</td>\n",
       "      <td>1.815392</td>\n",
       "    </tr>\n",
       "    <tr>\n",
       "      <td>250</td>\n",
       "      <td>1.730000</td>\n",
       "      <td>1.755741</td>\n",
       "    </tr>\n",
       "    <tr>\n",
       "      <td>300</td>\n",
       "      <td>1.705000</td>\n",
       "      <td>1.724064</td>\n",
       "    </tr>\n",
       "    <tr>\n",
       "      <td>350</td>\n",
       "      <td>1.693100</td>\n",
       "      <td>1.703592</td>\n",
       "    </tr>\n",
       "    <tr>\n",
       "      <td>400</td>\n",
       "      <td>1.669900</td>\n",
       "      <td>1.688870</td>\n",
       "    </tr>\n",
       "    <tr>\n",
       "      <td>450</td>\n",
       "      <td>1.669300</td>\n",
       "      <td>1.678436</td>\n",
       "    </tr>\n",
       "    <tr>\n",
       "      <td>500</td>\n",
       "      <td>1.629300</td>\n",
       "      <td>1.670868</td>\n",
       "    </tr>\n",
       "    <tr>\n",
       "      <td>550</td>\n",
       "      <td>1.655900</td>\n",
       "      <td>1.665500</td>\n",
       "    </tr>\n",
       "    <tr>\n",
       "      <td>600</td>\n",
       "      <td>1.625600</td>\n",
       "      <td>1.661394</td>\n",
       "    </tr>\n",
       "    <tr>\n",
       "      <td>650</td>\n",
       "      <td>1.658500</td>\n",
       "      <td>1.658373</td>\n",
       "    </tr>\n",
       "    <tr>\n",
       "      <td>700</td>\n",
       "      <td>1.643200</td>\n",
       "      <td>1.656460</td>\n",
       "    </tr>\n",
       "    <tr>\n",
       "      <td>750</td>\n",
       "      <td>1.609500</td>\n",
       "      <td>1.655205</td>\n",
       "    </tr>\n",
       "    <tr>\n",
       "      <td>800</td>\n",
       "      <td>1.647400</td>\n",
       "      <td>1.654766</td>\n",
       "    </tr>\n",
       "  </tbody>\n",
       "</table><p>"
      ],
      "text/plain": [
       "<IPython.core.display.HTML object>"
      ]
     },
     "metadata": {},
     "output_type": "display_data"
    },
    {
     "name": "stderr",
     "output_type": "stream",
     "text": [
      "/usr/local/lib/python3.9/dist-packages/bitsandbytes/autograd/_functions.py:322: UserWarning: MatMul8bitLt: inputs will be cast from torch.float32 to float16 during quantization\n",
      "  warnings.warn(f\"MatMul8bitLt: inputs will be cast from {A.dtype} to float16 during quantization\")\n"
     ]
    }
   ],
   "source": [
    "trainer.train()\n",
    "trainer.save_model()"
   ]
  },
  {
   "cell_type": "code",
   "execution_count": 12,
   "id": "6d5ec3ac-0669-4dfd-bd5d-cd3122ea7c48",
   "metadata": {
    "execution": {
     "iopub.execute_input": "2023-08-15T11:04:44.883808Z",
     "iopub.status.busy": "2023-08-15T11:04:44.883532Z",
     "iopub.status.idle": "2023-08-15T11:04:46.389738Z",
     "shell.execute_reply": "2023-08-15T11:04:46.389228Z",
     "shell.execute_reply.started": "2023-08-15T11:04:44.883790Z"
    }
   },
   "outputs": [
    {
     "data": {
      "application/vnd.jupyter.widget-view+json": {
       "model_id": "1072f47964124eab80ca951ab75e32ff",
       "version_major": 2,
       "version_minor": 0
      },
      "text/plain": [
       "adapter_model.bin:   0%|          | 0.00/29.4M [00:00<?, ?B/s]"
      ]
     },
     "metadata": {},
     "output_type": "display_data"
    },
    {
     "data": {
      "text/plain": [
       "CommitInfo(commit_url='https://huggingface.co/harsha28/gptj-lfqa-with-reasoning/commit/f247d157f68dccb195bff389d1ce7f7b13ec4ff6', commit_message='lr 1e-5, 1 epoch', commit_description='', oid='f247d157f68dccb195bff389d1ce7f7b13ec4ff6', pr_url=None, pr_revision=None, pr_num=None)"
      ]
     },
     "execution_count": 12,
     "metadata": {},
     "output_type": "execute_result"
    }
   ],
   "source": [
    "model.push_to_hub(\"harsha28/gptj-lfqa-with-reasoning1\",\n",
    "                  use_auth_token=True,\n",
    "                  commit_message=\"lr 1e-5, 1 epoch\",\n",
    "                  private=True)"
   ]
  }
 ],
 "metadata": {
  "kernelspec": {
   "display_name": "Python 3 (ipykernel)",
   "language": "python",
   "name": "python3"
  },
  "language_info": {
   "codemirror_mode": {
    "name": "ipython",
    "version": 3
   },
   "file_extension": ".py",
   "mimetype": "text/x-python",
   "name": "python",
   "nbconvert_exporter": "python",
   "pygments_lexer": "ipython3",
   "version": "3.9.16"
  }
 },
 "nbformat": 4,
 "nbformat_minor": 5
}
