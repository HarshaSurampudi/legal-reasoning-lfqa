{
 "cells": [
  {
   "cell_type": "code",
   "execution_count": null,
   "id": "26e05321-2559-4cad-bccb-60f1c6141c3a",
   "metadata": {
    "execution": {
     "iopub.execute_input": "2023-08-07T18:26:14.880434Z",
     "iopub.status.busy": "2023-08-07T18:26:14.880129Z",
     "iopub.status.idle": "2023-08-07T18:26:40.868228Z",
     "shell.execute_reply": "2023-08-07T18:26:40.867634Z",
     "shell.execute_reply.started": "2023-08-07T18:26:14.880408Z"
    }
   },
   "outputs": [],
   "source": [
    "!pip install -q bitsandbytes datasets accelerate loralib\n",
    "!pip install -q git+https://github.com/huggingface/transformers.git@main git+https://github.com/huggingface/peft.git"
   ]
  },
  {
   "cell_type": "code",
   "execution_count": null,
   "id": "b62651f8-6c29-44f7-81e0-3db72a0453d9",
   "metadata": {
    "execution": {
     "iopub.execute_input": "2023-08-07T18:27:17.889984Z",
     "iopub.status.busy": "2023-08-07T18:27:17.889134Z",
     "iopub.status.idle": "2023-08-07T18:27:18.664476Z",
     "shell.execute_reply": "2023-08-07T18:27:18.663497Z",
     "shell.execute_reply.started": "2023-08-07T18:27:17.889950Z"
    }
   },
   "outputs": [],
   "source": [
    "!nvidia-smi -L"
   ]
  },
  {
   "cell_type": "code",
   "execution_count": null,
   "id": "9fb10ab1-3844-4220-8eab-59a92997519e",
   "metadata": {
    "execution": {
     "iopub.execute_input": "2023-08-07T18:28:42.350713Z",
     "iopub.status.busy": "2023-08-07T18:28:42.350012Z",
     "iopub.status.idle": "2023-08-07T18:33:12.769479Z",
     "shell.execute_reply": "2023-08-07T18:33:12.768751Z",
     "shell.execute_reply.started": "2023-08-07T18:28:42.350685Z"
    }
   },
   "outputs": [],
   "source": [
    "import os\n",
    "os.environ[\"CUDA_VISIBLE_DEVICES\"]=\"0\"\n",
    "import torch\n",
    "import torch.nn as nn\n",
    "import bitsandbytes as bnb\n",
    "from transformers import AutoTokenizer, AutoConfig, AutoModelForCausalLM\n",
    "\n",
    "model = AutoModelForCausalLM.from_pretrained(\n",
    "    \"EleutherAI/gpt-j-6b\",\n",
    "    load_in_8bit=True,\n",
    "    device_map='auto',\n",
    ")\n",
    "\n",
    "tokenizer = AutoTokenizer.from_pretrained(\"patent/LexGPT-6B\")\n",
    "tokenizer.pad_token = tokenizer.eos_token"
   ]
  },
  {
   "cell_type": "code",
   "execution_count": null,
   "id": "2f1fc7b0-0581-4cf4-bdc7-0b2dbf519c0f",
   "metadata": {
    "execution": {
     "iopub.execute_input": "2023-08-07T18:33:29.894376Z",
     "iopub.status.busy": "2023-08-07T18:33:29.894079Z",
     "iopub.status.idle": "2023-08-07T18:33:29.941824Z",
     "shell.execute_reply": "2023-08-07T18:33:29.941117Z",
     "shell.execute_reply.started": "2023-08-07T18:33:29.894346Z"
    }
   },
   "outputs": [],
   "source": [
    "for param in model.parameters():\n",
    "  param.requires_grad = False  # freeze the model - train adapters later\n",
    "  if param.ndim == 1:\n",
    "    # cast the small parameters (e.g. layernorm) to fp32 for stability\n",
    "    param.data = param.data.to(torch.float32)\n",
    "\n",
    "model.gradient_checkpointing_enable()  # reduce number of stored activations\n",
    "model.enable_input_require_grads()\n",
    "\n",
    "class CastOutputToFloat(nn.Sequential):\n",
    "  def forward(self, x): return super().forward(x).to(torch.float32)\n",
    "model.lm_head = CastOutputToFloat(model.lm_head)"
   ]
  },
  {
   "cell_type": "code",
   "execution_count": null,
   "id": "f1778062-c64e-40e3-ac84-aeb0a5f25197",
   "metadata": {
    "execution": {
     "iopub.execute_input": "2023-08-07T18:33:32.984893Z",
     "iopub.status.busy": "2023-08-07T18:33:32.984615Z",
     "iopub.status.idle": "2023-08-07T18:33:32.988438Z",
     "shell.execute_reply": "2023-08-07T18:33:32.987903Z",
     "shell.execute_reply.started": "2023-08-07T18:33:32.984871Z"
    }
   },
   "outputs": [],
   "source": [
    "def print_trainable_parameters(model):\n",
    "    \"\"\"\n",
    "    Prints the number of trainable parameters in the model.\n",
    "    \"\"\"\n",
    "    trainable_params = 0\n",
    "    all_param = 0\n",
    "    for _, param in model.named_parameters():\n",
    "        all_param += param.numel()\n",
    "        if param.requires_grad:\n",
    "            trainable_params += param.numel()\n",
    "    print(\n",
    "        f\"trainable params: {trainable_params} || all params: {all_param} || trainable%: {100 * trainable_params / all_param}\"\n",
    "    )"
   ]
  },
  {
   "cell_type": "code",
   "execution_count": null,
   "id": "206229d6-0a44-40ad-9eb9-c40d8e060856",
   "metadata": {
    "execution": {
     "iopub.execute_input": "2023-08-07T18:33:33.801422Z",
     "iopub.status.busy": "2023-08-07T18:33:33.801153Z",
     "iopub.status.idle": "2023-08-07T18:33:40.184306Z",
     "shell.execute_reply": "2023-08-07T18:33:40.183391Z",
     "shell.execute_reply.started": "2023-08-07T18:33:33.801400Z"
    }
   },
   "outputs": [],
   "source": [
    "from peft import LoraConfig, get_peft_model\n",
    "\n",
    "config = LoraConfig(\n",
    "    r=16, #attention heads\n",
    "    lora_alpha=32, #alpha scaling\n",
    "    # target_modules=[\"q_proj\", \"v_proj\"], #if you know the\n",
    "    lora_dropout=0.05,\n",
    "    bias=\"none\",\n",
    "    task_type=\"CAUSAL_LM\" # set this for CLM or Seq2Seq\n",
    ")\n",
    "\n",
    "model = get_peft_model(model, config)\n",
    "print_trainable_parameters(model)"
   ]
  },
  {
   "cell_type": "code",
   "execution_count": null,
   "id": "93c2a358-9bd3-4083-a97b-b1ddc722a912",
   "metadata": {
    "execution": {
     "iopub.execute_input": "2023-08-07T18:33:50.952193Z",
     "iopub.status.busy": "2023-08-07T18:33:50.951895Z",
     "iopub.status.idle": "2023-08-07T18:34:19.787734Z",
     "shell.execute_reply": "2023-08-07T18:34:19.786980Z",
     "shell.execute_reply.started": "2023-08-07T18:33:50.952170Z"
    }
   },
   "outputs": [],
   "source": [
    "from transformers import TextDataset, DataCollatorForLanguageModeling\n",
    "\n",
    "# Load the datasets\n",
    "train_dataset = TextDataset(\n",
    "    tokenizer=tokenizer,\n",
    "    file_path=\"../data/preprocessed/train_with_reasoning.csv\",\n",
    "    block_size=128,\n",
    ")\n",
    "\n",
    "val_dataset = TextDataset(\n",
    "    tokenizer=tokenizer,\n",
    "    file_path=\"../data/preprocessed/val_with_reasoning.csv\",\n",
    "    block_size=128,\n",
    ")\n",
    "\n",
    "# Define data collator\n",
    "data_collator = DataCollatorForLanguageModeling(\n",
    "    tokenizer=tokenizer, mlm=False,\n",
    ")"
   ]
  },
  {
   "cell_type": "code",
   "execution_count": null,
   "id": "a611f76e-4717-4a35-adf6-68eb482815c6",
   "metadata": {
    "execution": {
     "iopub.execute_input": "2023-08-07T18:35:11.142359Z",
     "iopub.status.busy": "2023-08-07T18:35:11.141656Z",
     "iopub.status.idle": "2023-08-07T18:35:11.174442Z",
     "shell.execute_reply": "2023-08-07T18:35:11.173766Z",
     "shell.execute_reply.started": "2023-08-07T18:35:11.142329Z"
    }
   },
   "outputs": [],
   "source": [
    "from transformers import Trainer, TrainingArguments\n",
    "\n",
    "# Define the parameters for fine-tuning\n",
    "lr = 2e-5\n",
    "end_lr = 4e-6\n",
    "num_train_epochs = 1\n",
    "warmup_steps = 100\n",
    "\n",
    "trainer = Trainer(\n",
    "    model=model,\n",
    "    args=TrainingArguments(\n",
    "        output_dir='lexgpt-with-reasoning-results',\n",
    "        per_device_train_batch_size=4,\n",
    "        gradient_accumulation_steps=4,\n",
    "        warmup_steps=warmup_steps,\n",
    "        num_train_epochs=num_train_epochs,\n",
    "        learning_rate=lr,\n",
    "        weight_decay=0.1,\n",
    "        fp16=True,\n",
    "        logging_steps=10,\n",
    "        num_train_epochs=1,\n",
    "        logging_dir='./logs',\n",
    "    ),\n",
    "    data_collator=data_collator,\n",
    "    train_dataset=train_dataset,\n",
    ")\n",
    "model.config.use_cache = False"
   ]
  },
  {
   "cell_type": "code",
   "execution_count": null,
   "id": "bd311555-ec52-4524-8f16-3fb942d6351c",
   "metadata": {
    "execution": {
     "iopub.execute_input": "2023-08-07T18:35:14.669519Z",
     "iopub.status.busy": "2023-08-07T18:35:14.668902Z",
     "iopub.status.idle": "2023-08-07T19:41:06.479123Z",
     "shell.execute_reply": "2023-08-07T19:41:06.478490Z",
     "shell.execute_reply.started": "2023-08-07T18:35:14.669491Z"
    }
   },
   "outputs": [],
   "source": [
    "trainer.train()\n",
    "trainer.save_model()"
   ]
  },
  {
   "cell_type": "code",
   "execution_count": null,
   "id": "6d5ec3ac-0669-4dfd-bd5d-cd3122ea7c48",
   "metadata": {
    "execution": {
     "iopub.execute_input": "2023-08-07T20:08:49.600959Z",
     "iopub.status.busy": "2023-08-07T20:08:49.600393Z",
     "iopub.status.idle": "2023-08-07T20:08:51.040104Z",
     "shell.execute_reply": "2023-08-07T20:08:51.039316Z",
     "shell.execute_reply.started": "2023-08-07T20:08:49.600933Z"
    }
   },
   "outputs": [],
   "source": [
    "model.push_to_hub(\"harsha28/lexgpt-lfqa-with-reasoning\",\n",
    "                  use_auth_token=True,\n",
    "                  commit_message=\"lr 2e-5, 1 epoch\",\n",
    "                  private=True)"
   ]
  }
 ],
 "metadata": {
  "kernelspec": {
   "display_name": "Python 3 (ipykernel)",
   "language": "python",
   "name": "python3"
  },
  "language_info": {
   "codemirror_mode": {
    "name": "ipython",
    "version": 3
   },
   "file_extension": ".py",
   "mimetype": "text/x-python",
   "name": "python",
   "nbconvert_exporter": "python",
   "pygments_lexer": "ipython3",
   "version": "3.9.16"
  }
 },
 "nbformat": 4,
 "nbformat_minor": 5
}
