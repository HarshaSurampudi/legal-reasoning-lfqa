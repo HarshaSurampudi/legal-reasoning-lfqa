{
 "cells": [
  {
   "cell_type": "code",
   "execution_count": 4,
   "id": "98235913-0ae8-47bf-94f5-71d665ba0f5f",
   "metadata": {
    "execution": {
     "iopub.execute_input": "2023-09-08T19:05:02.665273Z",
     "iopub.status.busy": "2023-09-08T19:05:02.664420Z",
     "iopub.status.idle": "2023-09-08T19:05:26.501597Z",
     "shell.execute_reply": "2023-09-08T19:05:26.500876Z",
     "shell.execute_reply.started": "2023-09-08T19:05:02.665247Z"
    }
   },
   "outputs": [
    {
     "name": "stdout",
     "output_type": "stream",
     "text": [
      "\u001b[33mWARNING: Running pip as the 'root' user can result in broken permissions and conflicting behaviour with the system package manager. It is recommended to use a virtual environment instead: https://pip.pypa.io/warnings/venv\u001b[0m\u001b[33m\n",
      "\u001b[0m\u001b[33mWARNING: Running pip as the 'root' user can result in broken permissions and conflicting behaviour with the system package manager. It is recommended to use a virtual environment instead: https://pip.pypa.io/warnings/venv\u001b[0m\u001b[33m\n",
      "\u001b[0m"
     ]
    }
   ],
   "source": [
    "!pip install -q bitsandbytes datasets accelerate loralib\n",
    "!pip install -q git+https://github.com/huggingface/transformers.git@main git+https://github.com/huggingface/peft.git"
   ]
  },
  {
   "cell_type": "code",
   "execution_count": 1,
   "id": "c1817e07-3981-4bd7-8f88-bb0d66ed7013",
   "metadata": {
    "execution": {
     "iopub.execute_input": "2023-09-08T19:12:08.150126Z",
     "iopub.status.busy": "2023-09-08T19:12:08.149574Z",
     "iopub.status.idle": "2023-09-08T19:18:54.571332Z",
     "shell.execute_reply": "2023-09-08T19:18:54.570684Z",
     "shell.execute_reply.started": "2023-09-08T19:12:08.150102Z"
    },
    "tags": []
   },
   "outputs": [
    {
     "data": {
      "application/vnd.jupyter.widget-view+json": {
       "model_id": "c718f80b4bf4404fbc6c136e579e5784",
       "version_major": 2,
       "version_minor": 0
      },
      "text/plain": [
       "Downloading (…)lve/main/config.json:   0%|          | 0.00/930 [00:00<?, ?B/s]"
      ]
     },
     "metadata": {},
     "output_type": "display_data"
    },
    {
     "data": {
      "application/vnd.jupyter.widget-view+json": {
       "model_id": "33653a393ab5426ebee81eff79b0df62",
       "version_major": 2,
       "version_minor": 0
      },
      "text/plain": [
       "Downloading pytorch_model.bin:   0%|          | 0.00/24.2G [00:00<?, ?B/s]"
      ]
     },
     "metadata": {},
     "output_type": "display_data"
    },
    {
     "data": {
      "application/vnd.jupyter.widget-view+json": {
       "model_id": "dbe0b5cb08094153a8b6405c5f01833d",
       "version_major": 2,
       "version_minor": 0
      },
      "text/plain": [
       "Downloading (…)okenizer_config.json:   0%|          | 0.00/619 [00:00<?, ?B/s]"
      ]
     },
     "metadata": {},
     "output_type": "display_data"
    },
    {
     "data": {
      "application/vnd.jupyter.widget-view+json": {
       "model_id": "ffa57e8697bf453fb1c28a2d4eae1235",
       "version_major": 2,
       "version_minor": 0
      },
      "text/plain": [
       "Downloading (…)olve/main/vocab.json:   0%|          | 0.00/798k [00:00<?, ?B/s]"
      ]
     },
     "metadata": {},
     "output_type": "display_data"
    },
    {
     "data": {
      "application/vnd.jupyter.widget-view+json": {
       "model_id": "4ab8b334440141aa914fff46dc1ec042",
       "version_major": 2,
       "version_minor": 0
      },
      "text/plain": [
       "Downloading (…)olve/main/merges.txt:   0%|          | 0.00/456k [00:00<?, ?B/s]"
      ]
     },
     "metadata": {},
     "output_type": "display_data"
    },
    {
     "data": {
      "application/vnd.jupyter.widget-view+json": {
       "model_id": "a6dcce49313441c7810a91722ac1f3f0",
       "version_major": 2,
       "version_minor": 0
      },
      "text/plain": [
       "Downloading (…)/main/tokenizer.json:   0%|          | 0.00/1.37M [00:00<?, ?B/s]"
      ]
     },
     "metadata": {},
     "output_type": "display_data"
    },
    {
     "data": {
      "application/vnd.jupyter.widget-view+json": {
       "model_id": "1fef41ec51394fabbb0d2e1640c7b308",
       "version_major": 2,
       "version_minor": 0
      },
      "text/plain": [
       "Downloading (…)in/added_tokens.json:   0%|          | 0.00/4.04k [00:00<?, ?B/s]"
      ]
     },
     "metadata": {},
     "output_type": "display_data"
    },
    {
     "data": {
      "application/vnd.jupyter.widget-view+json": {
       "model_id": "7c6c10e5fa494ec79904da099c9b370a",
       "version_major": 2,
       "version_minor": 0
      },
      "text/plain": [
       "Downloading (…)cial_tokens_map.json:   0%|          | 0.00/357 [00:00<?, ?B/s]"
      ]
     },
     "metadata": {},
     "output_type": "display_data"
    }
   ],
   "source": [
    "from transformers import AutoModelForCausalLM, AutoTokenizer\n",
    "model = AutoModelForCausalLM.from_pretrained(\"EleutherAI/gpt-j-6b\", return_dict=True, load_in_8bit=True, device_map=\"auto\")\n",
    "tokenizer = AutoTokenizer.from_pretrained(\"EleutherAI/gpt-j-6b\")"
   ]
  },
  {
   "cell_type": "code",
   "execution_count": 2,
   "id": "22e95038-6c02-4a5c-92b4-acb76796b35b",
   "metadata": {
    "execution": {
     "iopub.execute_input": "2023-09-08T19:20:41.409265Z",
     "iopub.status.busy": "2023-09-08T19:20:41.408565Z",
     "iopub.status.idle": "2023-09-08T19:20:41.413783Z",
     "shell.execute_reply": "2023-09-08T19:20:41.413060Z",
     "shell.execute_reply.started": "2023-09-08T19:20:41.409233Z"
    },
    "tags": []
   },
   "outputs": [],
   "source": [
    "tokenizer.padding_side=\"left\""
   ]
  },
  {
   "cell_type": "code",
   "execution_count": 3,
   "id": "37fafc31-f919-476f-b5bf-b7651c9cd6c5",
   "metadata": {
    "execution": {
     "iopub.execute_input": "2023-09-08T19:20:44.411530Z",
     "iopub.status.busy": "2023-09-08T19:20:44.410660Z",
     "iopub.status.idle": "2023-09-08T19:20:44.562167Z",
     "shell.execute_reply": "2023-09-08T19:20:44.561484Z",
     "shell.execute_reply.started": "2023-09-08T19:20:44.411506Z"
    },
    "tags": []
   },
   "outputs": [],
   "source": [
    "from transformers import GenerationConfig, pipeline\n",
    "config = GenerationConfig(\n",
    "    do_sample=True,\n",
    "    max_new_tokens=150,\n",
    "    top_p=1,\n",
    "    pad_token_id = tokenizer.eos_token_id)"
   ]
  },
  {
   "cell_type": "code",
   "execution_count": 4,
   "id": "c0fb9d96-6fc9-45a1-9d80-bb505b3e6969",
   "metadata": {
    "execution": {
     "iopub.execute_input": "2023-09-08T19:20:48.834650Z",
     "iopub.status.busy": "2023-09-08T19:20:48.834118Z",
     "iopub.status.idle": "2023-09-08T19:20:48.837890Z",
     "shell.execute_reply": "2023-09-08T19:20:48.837463Z",
     "shell.execute_reply.started": "2023-09-08T19:20:48.834628Z"
    },
    "tags": []
   },
   "outputs": [],
   "source": [
    "pipe = pipeline(\n",
    "    \"text-generation\",\n",
    "    model=model,\n",
    "    tokenizer=tokenizer,\n",
    "    batch_size=8,\n",
    "    generation_config=config,\n",
    ")\n",
    "pipe.tokenizer.pad_token_id = model.config.eos_token_id"
   ]
  },
  {
   "cell_type": "code",
   "execution_count": 5,
   "id": "916f76e1-b3d3-4aaf-b7e2-d003059f356a",
   "metadata": {
    "execution": {
     "iopub.execute_input": "2023-09-08T19:20:52.789700Z",
     "iopub.status.busy": "2023-09-08T19:20:52.789057Z",
     "iopub.status.idle": "2023-09-08T19:21:15.911524Z",
     "shell.execute_reply": "2023-09-08T19:21:15.911019Z",
     "shell.execute_reply.started": "2023-09-08T19:20:52.789676Z"
    },
    "tags": []
   },
   "outputs": [
    {
     "data": {
      "text/plain": [
       "[{'generated_text': 'The following is task of context based long-form question answering. It has Context, Question and Answer. Answer is in long format.\\nContext:\\nStat. § 14-32.1(a), does not make the definition an essential element of the crime pursuant to N.C. Gen. Stat. § 14-32.1(e). Therefore, we reject Defendant’s argument that it is not sufficient for the indictment to “merely state that the victim was ‘handicapped.’ ” Furthermore, the indictment provided Defendant with enough information to prepare a defense for the offense of felony assault on a handicapped person. See Leonard, _ N.C. App. at _, 711 S.E.2d at 873 (rejecting the defendant’s argument that the indictment was not sufficient because the indictment tracked the relevant language of the statute, listed “the essential elements of the offense[,]” and provided the defendant “with enough information to prepare a defense”); State v. Crisp, 126 N.C. App. 30, 36, 483 S.E.2d 462, 466 (<HOLDING>), appeal dismissed and disc. review denied, 346\\nQuestion:\\nIs it necessary for the definition of the crimle to be stated in the indictment according to N.C. Gen. Stat. § 14-32.1(a)?\\nAnswer:\\nNo; but it is sufficient if (and only if) the statute does not make the definition an essential element of thecrime pursuant to N.C. Gen. Stat. § 14-32.1(e). See Crisp, 126 N.C. App. at _, 483 S.E.2d at _; cf. State v. Parker, 119 N.C. App. 837, 841, 460 S.E.2d 619, 622 (1995) (rejecting a defendant’s argument that the indictment did not set forth the statute number because it was not necessary), disc. review denied, 342 N.C. 854, 465 S.E.2d'}]"
      ]
     },
     "execution_count": 5,
     "metadata": {},
     "output_type": "execute_result"
    }
   ],
   "source": [
    "inp_text =\"\"\"The following is task of context based long-form question answering. It has Context, Question and Answer. Answer is in long format.\n",
    "Context:\n",
    "Stat. § 14-32.1(a), does not make the definition an essential element of the crime pursuant to N.C. Gen. Stat. § 14-32.1(e). Therefore, we reject Defendant’s argument that it is not sufficient for the indictment to “merely state that the victim was ‘handicapped.’ ” Furthermore, the indictment provided Defendant with enough information to prepare a defense for the offense of felony assault on a handicapped person. See Leonard, _ N.C. App. at _, 711 S.E.2d at 873 (rejecting the defendant’s argument that the indictment was not sufficient because the indictment tracked the relevant language of the statute, listed “the essential elements of the offense[,]” and provided the defendant “with enough information to prepare a defense”); State v. Crisp, 126 N.C. App. 30, 36, 483 S.E.2d 462, 466 (<HOLDING>), appeal dismissed and disc. review denied, 346\n",
    "Question:\n",
    "Is it necessary for the definition of the crimle to be stated in the indictment according to N.C. Gen. Stat. § 14-32.1(a)?\n",
    "Answer:\n",
    "\"\"\"\n",
    "\n",
    "pipe(inp_text)"
   ]
  },
  {
   "cell_type": "code",
   "execution_count": 7,
   "id": "3320419d-db75-416c-bc5b-0d5100dc5b62",
   "metadata": {
    "execution": {
     "iopub.execute_input": "2023-09-08T19:22:18.573984Z",
     "iopub.status.busy": "2023-09-08T19:22:18.573317Z",
     "iopub.status.idle": "2023-09-08T19:22:18.605468Z",
     "shell.execute_reply": "2023-09-08T19:22:18.604880Z",
     "shell.execute_reply.started": "2023-09-08T19:22:18.573957Z"
    },
    "tags": []
   },
   "outputs": [
    {
     "data": {
      "text/html": [
       "<div>\n",
       "<style scoped>\n",
       "    .dataframe tbody tr th:only-of-type {\n",
       "        vertical-align: middle;\n",
       "    }\n",
       "\n",
       "    .dataframe tbody tr th {\n",
       "        vertical-align: top;\n",
       "    }\n",
       "\n",
       "    .dataframe thead th {\n",
       "        text-align: right;\n",
       "    }\n",
       "</style>\n",
       "<table border=\"1\" class=\"dataframe\">\n",
       "  <thead>\n",
       "    <tr style=\"text-align: right;\">\n",
       "      <th></th>\n",
       "      <th>Context</th>\n",
       "      <th>Question</th>\n",
       "      <th>Legal Reasoning</th>\n",
       "      <th>Answer</th>\n",
       "    </tr>\n",
       "  </thead>\n",
       "  <tbody>\n",
       "    <tr>\n",
       "      <th>0</th>\n",
       "      <td>and Statistical Manual of Mental Disorders 446...</td>\n",
       "      <td>Can the defendants force Dr. Nadel to provide ...</td>\n",
       "      <td>The issue at hand pertains to the compulsion o...</td>\n",
       "      <td>No, according to the Graham v. Gielchinsky cas...</td>\n",
       "    </tr>\n",
       "    <tr>\n",
       "      <th>1</th>\n",
       "      <td>one of his trial counsel as a witness, so the ...</td>\n",
       "      <td>Did the Appellee's trial counsel have knowledg...</td>\n",
       "      <td>The question at hand pertains to the knowledge...</td>\n",
       "      <td>It is uncertain whether the Appellee's trial c...</td>\n",
       "    </tr>\n",
       "    <tr>\n",
       "      <th>2</th>\n",
       "      <td>Some of Cruikshank’s objections on appeal appe...</td>\n",
       "      <td>Can Cruikshank's objections on the trial court...</td>\n",
       "      <td>The issue at hand pertains to the admissibilit...</td>\n",
       "      <td>No, Cruikshank's objections on the trial court...</td>\n",
       "    </tr>\n",
       "    <tr>\n",
       "      <th>3</th>\n",
       "      <td>noting that the additional materials provided ...</td>\n",
       "      <td>Can the motion to strike filed by PFM be consi...</td>\n",
       "      <td>The question pertains to the categorization of...</td>\n",
       "      <td>Yes, the motion to strike filed by PFM can be ...</td>\n",
       "    </tr>\n",
       "    <tr>\n",
       "      <th>4</th>\n",
       "      <td>The State is within the powers reserved to it ...</td>\n",
       "      <td>Can the State refuse to enter into agreements ...</td>\n",
       "      <td>The question revolves around the State's power...</td>\n",
       "      <td>Yes, the State has the power to refuse to ente...</td>\n",
       "    </tr>\n",
       "    <tr>\n",
       "      <th>...</th>\n",
       "      <td>...</td>\n",
       "      <td>...</td>\n",
       "      <td>...</td>\n",
       "      <td>...</td>\n",
       "    </tr>\n",
       "    <tr>\n",
       "      <th>1492</th>\n",
       "      <td>The new biological opinion included an inciden...</td>\n",
       "      <td>Is the Consent Decree considered an injunction...</td>\n",
       "      <td>The question revolves around whether the Conse...</td>\n",
       "      <td>The classification of the Consent Decree as an...</td>\n",
       "    </tr>\n",
       "    <tr>\n",
       "      <th>1493</th>\n",
       "      <td>(a) Appealable Orders. (1) The following order...</td>\n",
       "      <td>Can a party appeal a disposition, review, no r...</td>\n",
       "      <td>The question pertains to the appealability of ...</td>\n",
       "      <td>Yes, a party can appeal a disposition, review,...</td>\n",
       "    </tr>\n",
       "    <tr>\n",
       "      <th>1494</th>\n",
       "      <td>criminal laws.” Spaziano v. Florida, 468 U.S. ...</td>\n",
       "      <td>Can the sentence imposed on Williams be consid...</td>\n",
       "      <td>The question pertains to the constitutionality...</td>\n",
       "      <td>No, the sentence imposed on Williams is not un...</td>\n",
       "    </tr>\n",
       "    <tr>\n",
       "      <th>1495</th>\n",
       "      <td>F.Supp.3d 700, 703, No. 3:14CV200 (JMM), 2014 ...</td>\n",
       "      <td>Can an entity be held liable for unsolicited c...</td>\n",
       "      <td>The question pertains to the liability of an e...</td>\n",
       "      <td>Yes, an entity can be held liable for unsolici...</td>\n",
       "    </tr>\n",
       "    <tr>\n",
       "      <th>1496</th>\n",
       "      <td>First, the proposed Second Amended Complaint m...</td>\n",
       "      <td>Is there a causal relationship between Plainti...</td>\n",
       "      <td>The question pertains to the causal relationsh...</td>\n",
       "      <td>No, there is no established causal relationshi...</td>\n",
       "    </tr>\n",
       "  </tbody>\n",
       "</table>\n",
       "<p>1497 rows × 4 columns</p>\n",
       "</div>"
      ],
      "text/plain": [
       "                                                Context  \\\n",
       "0     and Statistical Manual of Mental Disorders 446...   \n",
       "1     one of his trial counsel as a witness, so the ...   \n",
       "2     Some of Cruikshank’s objections on appeal appe...   \n",
       "3     noting that the additional materials provided ...   \n",
       "4     The State is within the powers reserved to it ...   \n",
       "...                                                 ...   \n",
       "1492  The new biological opinion included an inciden...   \n",
       "1493  (a) Appealable Orders. (1) The following order...   \n",
       "1494  criminal laws.” Spaziano v. Florida, 468 U.S. ...   \n",
       "1495  F.Supp.3d 700, 703, No. 3:14CV200 (JMM), 2014 ...   \n",
       "1496  First, the proposed Second Amended Complaint m...   \n",
       "\n",
       "                                               Question  \\\n",
       "0     Can the defendants force Dr. Nadel to provide ...   \n",
       "1     Did the Appellee's trial counsel have knowledg...   \n",
       "2     Can Cruikshank's objections on the trial court...   \n",
       "3     Can the motion to strike filed by PFM be consi...   \n",
       "4     Can the State refuse to enter into agreements ...   \n",
       "...                                                 ...   \n",
       "1492  Is the Consent Decree considered an injunction...   \n",
       "1493  Can a party appeal a disposition, review, no r...   \n",
       "1494  Can the sentence imposed on Williams be consid...   \n",
       "1495  Can an entity be held liable for unsolicited c...   \n",
       "1496  Is there a causal relationship between Plainti...   \n",
       "\n",
       "                                        Legal Reasoning  \\\n",
       "0     The issue at hand pertains to the compulsion o...   \n",
       "1     The question at hand pertains to the knowledge...   \n",
       "2     The issue at hand pertains to the admissibilit...   \n",
       "3     The question pertains to the categorization of...   \n",
       "4     The question revolves around the State's power...   \n",
       "...                                                 ...   \n",
       "1492  The question revolves around whether the Conse...   \n",
       "1493  The question pertains to the appealability of ...   \n",
       "1494  The question pertains to the constitutionality...   \n",
       "1495  The question pertains to the liability of an e...   \n",
       "1496  The question pertains to the causal relationsh...   \n",
       "\n",
       "                                                 Answer  \n",
       "0     No, according to the Graham v. Gielchinsky cas...  \n",
       "1     It is uncertain whether the Appellee's trial c...  \n",
       "2     No, Cruikshank's objections on the trial court...  \n",
       "3     Yes, the motion to strike filed by PFM can be ...  \n",
       "4     Yes, the State has the power to refuse to ente...  \n",
       "...                                                 ...  \n",
       "1492  The classification of the Consent Decree as an...  \n",
       "1493  Yes, a party can appeal a disposition, review,...  \n",
       "1494  No, the sentence imposed on Williams is not un...  \n",
       "1495  Yes, an entity can be held liable for unsolici...  \n",
       "1496  No, there is no established causal relationshi...  \n",
       "\n",
       "[1497 rows x 4 columns]"
      ]
     },
     "execution_count": 7,
     "metadata": {},
     "output_type": "execute_result"
    }
   ],
   "source": [
    "import pandas as pd\n",
    "\n",
    "df = pd.read_csv('test_extracted.csv')\n",
    "df"
   ]
  },
  {
   "cell_type": "code",
   "execution_count": 8,
   "id": "395c5eeb-0e55-4c7d-bcd9-8a0e22514b5b",
   "metadata": {
    "execution": {
     "iopub.execute_input": "2023-09-08T19:22:23.067327Z",
     "iopub.status.busy": "2023-09-08T19:22:23.066484Z",
     "iopub.status.idle": "2023-09-08T19:22:23.082234Z",
     "shell.execute_reply": "2023-09-08T19:22:23.081421Z",
     "shell.execute_reply.started": "2023-09-08T19:22:23.067300Z"
    },
    "tags": []
   },
   "outputs": [],
   "source": [
    "df['Prompt'] = df.apply(lambda row:f\"\"\"The following is task of context based long-form question answering. It has Context, Question and Answer. Answer is in long format.\n",
    "{row['Context']}\n",
    "Question:\n",
    "{row['Question']}\n",
    "Answer:\n",
    "\"\"\", axis=1)\n",
    "\n",
    "prompts = df['Prompt'].to_list()"
   ]
  },
  {
   "cell_type": "code",
   "execution_count": 9,
   "id": "53604c00-0069-4a44-80e0-8f3f1e0ade77",
   "metadata": {
    "execution": {
     "iopub.execute_input": "2023-09-08T19:22:25.523069Z",
     "iopub.status.busy": "2023-09-08T19:22:25.522778Z",
     "iopub.status.idle": "2023-09-08T19:22:25.755418Z",
     "shell.execute_reply": "2023-09-08T19:22:25.754581Z",
     "shell.execute_reply.started": "2023-09-08T19:22:25.523050Z"
    },
    "tags": []
   },
   "outputs": [],
   "source": [
    "from datasets import Dataset\n",
    "test_dataset = Dataset.from_pandas(df[['Prompt']])"
   ]
  },
  {
   "cell_type": "code",
   "execution_count": 10,
   "id": "a06c13d5-6fed-4b5c-89e2-64114834aed3",
   "metadata": {
    "execution": {
     "iopub.execute_input": "2023-09-08T19:22:27.688292Z",
     "iopub.status.busy": "2023-09-08T19:22:27.687320Z",
     "iopub.status.idle": "2023-09-08T19:22:27.692410Z",
     "shell.execute_reply": "2023-09-08T19:22:27.691597Z",
     "shell.execute_reply.started": "2023-09-08T19:22:27.688264Z"
    },
    "tags": []
   },
   "outputs": [
    {
     "data": {
      "text/plain": [
       "Dataset({\n",
       "    features: ['Prompt'],\n",
       "    num_rows: 1497\n",
       "})"
      ]
     },
     "execution_count": 10,
     "metadata": {},
     "output_type": "execute_result"
    }
   ],
   "source": [
    "test_dataset"
   ]
  },
  {
   "cell_type": "code",
   "execution_count": 11,
   "id": "5356d96e-ed58-4664-9266-08508b98f932",
   "metadata": {
    "execution": {
     "iopub.execute_input": "2023-09-08T19:22:30.367138Z",
     "iopub.status.busy": "2023-09-08T19:22:30.366847Z",
     "iopub.status.idle": "2023-09-08T20:37:27.657140Z",
     "shell.execute_reply": "2023-09-08T20:37:27.656541Z",
     "shell.execute_reply.started": "2023-09-08T19:22:30.367118Z"
    },
    "tags": []
   },
   "outputs": [
    {
     "name": "stdout",
     "output_type": "stream",
     "text": [
      "1497\r"
     ]
    }
   ],
   "source": [
    "i=0\n",
    "from transformers.pipelines.pt_utils import KeyDataset\n",
    "for out in pipe(KeyDataset(test_dataset, \"Prompt\")):\n",
    "    df.loc[i, 'Generated Text'] = out[0]['generated_text']\n",
    "    df.to_csv('gptj-zeroshot_test_generated.csv', index=False)\n",
    "    i+=1\n",
    "    print(i, end='\\r')"
   ]
  },
  {
   "cell_type": "code",
   "execution_count": null,
   "id": "0c12679c-534c-435d-ae3f-4c32531746a9",
   "metadata": {},
   "outputs": [],
   "source": []
  }
 ],
 "metadata": {
  "kernelspec": {
   "display_name": "Python 3 (ipykernel)",
   "language": "python",
   "name": "python3"
  },
  "language_info": {
   "codemirror_mode": {
    "name": "ipython",
    "version": 3
   },
   "file_extension": ".py",
   "mimetype": "text/x-python",
   "name": "python",
   "nbconvert_exporter": "python",
   "pygments_lexer": "ipython3",
   "version": "3.9.16"
  }
 },
 "nbformat": 4,
 "nbformat_minor": 5
}
