{
 "cells": [
  {
   "cell_type": "code",
   "execution_count": 1,
   "metadata": {
    "execution": {
     "iopub.execute_input": "2023-09-01T13:38:40.073355Z",
     "iopub.status.busy": "2023-09-01T13:38:40.072919Z",
     "iopub.status.idle": "2023-09-01T13:38:42.698444Z",
     "shell.execute_reply": "2023-09-01T13:38:42.697666Z",
     "shell.execute_reply.started": "2023-09-01T13:38:40.073334Z"
    }
   },
   "outputs": [
    {
     "name": "stdout",
     "output_type": "stream",
     "text": [
      "Collecting rouge\n",
      "  Downloading rouge-1.0.1-py3-none-any.whl (13 kB)\n",
      "Requirement already satisfied: six in /usr/lib/python3/dist-packages (from rouge) (1.14.0)\n",
      "Installing collected packages: rouge\n",
      "Successfully installed rouge-1.0.1\n",
      "\u001b[33mWARNING: Running pip as the 'root' user can result in broken permissions and conflicting behaviour with the system package manager. It is recommended to use a virtual environment instead: https://pip.pypa.io/warnings/venv\u001b[0m\u001b[33m\n",
      "\u001b[0m"
     ]
    }
   ],
   "source": [
    "!pip install rouge"
   ]
  },
  {
   "cell_type": "code",
   "execution_count": 2,
   "metadata": {
    "execution": {
     "iopub.execute_input": "2023-09-01T13:38:43.953578Z",
     "iopub.status.busy": "2023-09-01T13:38:43.953307Z",
     "iopub.status.idle": "2023-09-01T13:38:46.564039Z",
     "shell.execute_reply": "2023-09-01T13:38:46.563122Z",
     "shell.execute_reply.started": "2023-09-01T13:38:43.953547Z"
    }
   },
   "outputs": [
    {
     "name": "stdout",
     "output_type": "stream",
     "text": [
      "Collecting bert_score\n",
      "  Downloading bert_score-0.3.13-py3-none-any.whl (61 kB)\n",
      "\u001b[2K     \u001b[90m━━━━━━━━━━━━━━━━━━━━━━━━━━━━━━━━━━━━━━━━\u001b[0m \u001b[32m61.1/61.1 kB\u001b[0m \u001b[31m13.1 MB/s\u001b[0m eta \u001b[36m0:00:00\u001b[0m\n",
      "\u001b[?25hRequirement already satisfied: pandas>=1.0.1 in /usr/local/lib/python3.9/dist-packages (from bert_score) (1.5.0)\n",
      "Requirement already satisfied: torch>=1.0.0 in /usr/local/lib/python3.9/dist-packages (from bert_score) (1.12.1+cu116)\n",
      "Requirement already satisfied: numpy in /usr/local/lib/python3.9/dist-packages (from bert_score) (1.23.4)\n",
      "Requirement already satisfied: requests in /usr/local/lib/python3.9/dist-packages (from bert_score) (2.28.2)\n",
      "Requirement already satisfied: transformers>=3.0.0 in /usr/local/lib/python3.9/dist-packages (from bert_score) (4.21.3)\n",
      "Requirement already satisfied: packaging>=20.9 in /usr/local/lib/python3.9/dist-packages (from bert_score) (23.0)\n",
      "Requirement already satisfied: matplotlib in /usr/local/lib/python3.9/dist-packages (from bert_score) (3.6.1)\n",
      "Requirement already satisfied: tqdm>=4.31.1 in /usr/local/lib/python3.9/dist-packages (from bert_score) (4.64.1)\n",
      "Requirement already satisfied: python-dateutil>=2.8.1 in /usr/local/lib/python3.9/dist-packages (from pandas>=1.0.1->bert_score) (2.8.2)\n",
      "Requirement already satisfied: pytz>=2020.1 in /usr/local/lib/python3.9/dist-packages (from pandas>=1.0.1->bert_score) (2022.7.1)\n",
      "Requirement already satisfied: typing-extensions in /usr/local/lib/python3.9/dist-packages (from torch>=1.0.0->bert_score) (4.4.0)\n",
      "Requirement already satisfied: pyyaml>=5.1 in /usr/local/lib/python3.9/dist-packages (from transformers>=3.0.0->bert_score) (5.4.1)\n",
      "Requirement already satisfied: tokenizers!=0.11.3,<0.13,>=0.11.1 in /usr/local/lib/python3.9/dist-packages (from transformers>=3.0.0->bert_score) (0.12.1)\n",
      "Requirement already satisfied: regex!=2019.12.17 in /usr/local/lib/python3.9/dist-packages (from transformers>=3.0.0->bert_score) (2022.10.31)\n",
      "Requirement already satisfied: filelock in /usr/local/lib/python3.9/dist-packages (from transformers>=3.0.0->bert_score) (3.9.0)\n",
      "Requirement already satisfied: huggingface-hub<1.0,>=0.1.0 in /usr/local/lib/python3.9/dist-packages (from transformers>=3.0.0->bert_score) (0.12.0)\n",
      "Requirement already satisfied: cycler>=0.10 in /usr/local/lib/python3.9/dist-packages (from matplotlib->bert_score) (0.11.0)\n",
      "Requirement already satisfied: pyparsing>=2.2.1 in /usr/local/lib/python3.9/dist-packages (from matplotlib->bert_score) (3.0.9)\n",
      "Requirement already satisfied: pillow>=6.2.0 in /usr/local/lib/python3.9/dist-packages (from matplotlib->bert_score) (9.2.0)\n",
      "Requirement already satisfied: kiwisolver>=1.0.1 in /usr/local/lib/python3.9/dist-packages (from matplotlib->bert_score) (1.4.4)\n",
      "Requirement already satisfied: fonttools>=4.22.0 in /usr/local/lib/python3.9/dist-packages (from matplotlib->bert_score) (4.38.0)\n",
      "Requirement already satisfied: contourpy>=1.0.1 in /usr/local/lib/python3.9/dist-packages (from matplotlib->bert_score) (1.0.7)\n",
      "Requirement already satisfied: idna<4,>=2.5 in /usr/lib/python3/dist-packages (from requests->bert_score) (2.8)\n",
      "Requirement already satisfied: urllib3<1.27,>=1.21.1 in /usr/local/lib/python3.9/dist-packages (from requests->bert_score) (1.26.14)\n",
      "Requirement already satisfied: charset-normalizer<4,>=2 in /usr/local/lib/python3.9/dist-packages (from requests->bert_score) (2.1.1)\n",
      "Requirement already satisfied: certifi>=2017.4.17 in /usr/lib/python3/dist-packages (from requests->bert_score) (2019.11.28)\n",
      "Requirement already satisfied: six>=1.5 in /usr/lib/python3/dist-packages (from python-dateutil>=2.8.1->pandas>=1.0.1->bert_score) (1.14.0)\n",
      "Installing collected packages: bert_score\n",
      "Successfully installed bert_score-0.3.13\n",
      "\u001b[33mWARNING: Running pip as the 'root' user can result in broken permissions and conflicting behaviour with the system package manager. It is recommended to use a virtual environment instead: https://pip.pypa.io/warnings/venv\u001b[0m\u001b[33m\n",
      "\u001b[0m"
     ]
    }
   ],
   "source": [
    "!pip install bert_score"
   ]
  },
  {
   "cell_type": "code",
   "execution_count": 3,
   "metadata": {
    "execution": {
     "iopub.execute_input": "2023-09-01T13:38:47.574410Z",
     "iopub.status.busy": "2023-09-01T13:38:47.574117Z",
     "iopub.status.idle": "2023-09-01T13:38:47.913059Z",
     "shell.execute_reply": "2023-09-01T13:38:47.912441Z",
     "shell.execute_reply.started": "2023-09-01T13:38:47.574387Z"
    }
   },
   "outputs": [],
   "source": [
    "import pandas as pd"
   ]
  },
  {
   "cell_type": "code",
   "execution_count": 4,
   "metadata": {
    "execution": {
     "iopub.execute_input": "2023-09-01T13:38:48.754103Z",
     "iopub.status.busy": "2023-09-01T13:38:48.753763Z",
     "iopub.status.idle": "2023-09-01T13:38:49.122814Z",
     "shell.execute_reply": "2023-09-01T13:38:49.122190Z",
     "shell.execute_reply.started": "2023-09-01T13:38:48.754082Z"
    }
   },
   "outputs": [],
   "source": [
    "gptj = pd.read_csv('generated/gptj_without_reasoning.csv')\n",
    "gptj_with_reasoning = pd.read_csv('generated/gptj_with_reasoning.csv')\n",
    "lexgpt = pd.read_csv('generated/lexgpt_without_reasoning.csv')\n",
    "lexgpt_with_reasoning = pd.read_csv('generated/lexgpt_with_reasoning.csv')\n"
   ]
  },
  {
   "cell_type": "code",
   "execution_count": 5,
   "metadata": {
    "execution": {
     "iopub.execute_input": "2023-09-01T13:38:49.743832Z",
     "iopub.status.busy": "2023-09-01T13:38:49.743241Z",
     "iopub.status.idle": "2023-09-01T13:38:49.754891Z",
     "shell.execute_reply": "2023-09-01T13:38:49.754286Z",
     "shell.execute_reply.started": "2023-09-01T13:38:49.743804Z"
    }
   },
   "outputs": [
    {
     "data": {
      "text/html": [
       "<div>\n",
       "<style scoped>\n",
       "    .dataframe tbody tr th:only-of-type {\n",
       "        vertical-align: middle;\n",
       "    }\n",
       "\n",
       "    .dataframe tbody tr th {\n",
       "        vertical-align: top;\n",
       "    }\n",
       "\n",
       "    .dataframe thead th {\n",
       "        text-align: right;\n",
       "    }\n",
       "</style>\n",
       "<table border=\"1\" class=\"dataframe\">\n",
       "  <thead>\n",
       "    <tr style=\"text-align: right;\">\n",
       "      <th></th>\n",
       "      <th>Context</th>\n",
       "      <th>Question</th>\n",
       "      <th>Legal Reasoning</th>\n",
       "      <th>Answer</th>\n",
       "      <th>Prompt</th>\n",
       "      <th>Generated Text</th>\n",
       "    </tr>\n",
       "  </thead>\n",
       "  <tbody>\n",
       "    <tr>\n",
       "      <th>0</th>\n",
       "      <td>and Statistical Manual of Mental Disorders 446...</td>\n",
       "      <td>Can the defendants force Dr. Nadel to provide ...</td>\n",
       "      <td>The issue at hand pertains to the compulsion o...</td>\n",
       "      <td>No, according to the Graham v. Gielchinsky cas...</td>\n",
       "      <td>Context:\\nand Statistical Manual of Mental Dis...</td>\n",
       "      <td>Context:\\nand Statistical Manual of Mental Dis...</td>\n",
       "    </tr>\n",
       "    <tr>\n",
       "      <th>1</th>\n",
       "      <td>one of his trial counsel as a witness, so the ...</td>\n",
       "      <td>Did the Appellee's trial counsel have knowledg...</td>\n",
       "      <td>The question at hand pertains to the knowledge...</td>\n",
       "      <td>It is uncertain whether the Appellee's trial c...</td>\n",
       "      <td>Context:\\none of his trial counsel as a witnes...</td>\n",
       "      <td>Context:\\none of his trial counsel as a witnes...</td>\n",
       "    </tr>\n",
       "    <tr>\n",
       "      <th>2</th>\n",
       "      <td>Some of Cruikshank’s objections on appeal appe...</td>\n",
       "      <td>Can Cruikshank's objections on the trial court...</td>\n",
       "      <td>The issue at hand pertains to the admissibilit...</td>\n",
       "      <td>No, Cruikshank's objections on the trial court...</td>\n",
       "      <td>Context:\\nSome of Cruikshank’s objections on a...</td>\n",
       "      <td>Context:\\nSome of Cruikshank’s objections on a...</td>\n",
       "    </tr>\n",
       "    <tr>\n",
       "      <th>3</th>\n",
       "      <td>noting that the additional materials provided ...</td>\n",
       "      <td>Can the motion to strike filed by PFM be consi...</td>\n",
       "      <td>The question pertains to the categorization of...</td>\n",
       "      <td>Yes, the motion to strike filed by PFM can be ...</td>\n",
       "      <td>Context:\\nnoting that the additional materials...</td>\n",
       "      <td>Context:\\nnoting that the additional materials...</td>\n",
       "    </tr>\n",
       "    <tr>\n",
       "      <th>4</th>\n",
       "      <td>The State is within the powers reserved to it ...</td>\n",
       "      <td>Can the State refuse to enter into agreements ...</td>\n",
       "      <td>The question revolves around the State's power...</td>\n",
       "      <td>Yes, the State has the power to refuse to ente...</td>\n",
       "      <td>Context:\\nThe State is within the powers reser...</td>\n",
       "      <td>Context:\\nThe State is within the powers reser...</td>\n",
       "    </tr>\n",
       "  </tbody>\n",
       "</table>\n",
       "</div>"
      ],
      "text/plain": [
       "                                             Context  \\\n",
       "0  and Statistical Manual of Mental Disorders 446...   \n",
       "1  one of his trial counsel as a witness, so the ...   \n",
       "2  Some of Cruikshank’s objections on appeal appe...   \n",
       "3  noting that the additional materials provided ...   \n",
       "4  The State is within the powers reserved to it ...   \n",
       "\n",
       "                                            Question  \\\n",
       "0  Can the defendants force Dr. Nadel to provide ...   \n",
       "1  Did the Appellee's trial counsel have knowledg...   \n",
       "2  Can Cruikshank's objections on the trial court...   \n",
       "3  Can the motion to strike filed by PFM be consi...   \n",
       "4  Can the State refuse to enter into agreements ...   \n",
       "\n",
       "                                     Legal Reasoning  \\\n",
       "0  The issue at hand pertains to the compulsion o...   \n",
       "1  The question at hand pertains to the knowledge...   \n",
       "2  The issue at hand pertains to the admissibilit...   \n",
       "3  The question pertains to the categorization of...   \n",
       "4  The question revolves around the State's power...   \n",
       "\n",
       "                                              Answer  \\\n",
       "0  No, according to the Graham v. Gielchinsky cas...   \n",
       "1  It is uncertain whether the Appellee's trial c...   \n",
       "2  No, Cruikshank's objections on the trial court...   \n",
       "3  Yes, the motion to strike filed by PFM can be ...   \n",
       "4  Yes, the State has the power to refuse to ente...   \n",
       "\n",
       "                                              Prompt  \\\n",
       "0  Context:\\nand Statistical Manual of Mental Dis...   \n",
       "1  Context:\\none of his trial counsel as a witnes...   \n",
       "2  Context:\\nSome of Cruikshank’s objections on a...   \n",
       "3  Context:\\nnoting that the additional materials...   \n",
       "4  Context:\\nThe State is within the powers reser...   \n",
       "\n",
       "                                      Generated Text  \n",
       "0  Context:\\nand Statistical Manual of Mental Dis...  \n",
       "1  Context:\\none of his trial counsel as a witnes...  \n",
       "2  Context:\\nSome of Cruikshank’s objections on a...  \n",
       "3  Context:\\nnoting that the additional materials...  \n",
       "4  Context:\\nThe State is within the powers reser...  "
      ]
     },
     "execution_count": 5,
     "metadata": {},
     "output_type": "execute_result"
    }
   ],
   "source": [
    "gptj.head()"
   ]
  },
  {
   "cell_type": "code",
   "execution_count": 6,
   "metadata": {
    "execution": {
     "iopub.execute_input": "2023-09-01T13:38:50.524143Z",
     "iopub.status.busy": "2023-09-01T13:38:50.523451Z",
     "iopub.status.idle": "2023-09-01T13:38:50.531448Z",
     "shell.execute_reply": "2023-09-01T13:38:50.530795Z",
     "shell.execute_reply.started": "2023-09-01T13:38:50.524120Z"
    }
   },
   "outputs": [
    {
     "data": {
      "text/html": [
       "<div>\n",
       "<style scoped>\n",
       "    .dataframe tbody tr th:only-of-type {\n",
       "        vertical-align: middle;\n",
       "    }\n",
       "\n",
       "    .dataframe tbody tr th {\n",
       "        vertical-align: top;\n",
       "    }\n",
       "\n",
       "    .dataframe thead th {\n",
       "        text-align: right;\n",
       "    }\n",
       "</style>\n",
       "<table border=\"1\" class=\"dataframe\">\n",
       "  <thead>\n",
       "    <tr style=\"text-align: right;\">\n",
       "      <th></th>\n",
       "      <th>Context</th>\n",
       "      <th>Question</th>\n",
       "      <th>Legal Reasoning</th>\n",
       "      <th>Answer</th>\n",
       "      <th>Prompt</th>\n",
       "      <th>Generated Text</th>\n",
       "    </tr>\n",
       "  </thead>\n",
       "  <tbody>\n",
       "    <tr>\n",
       "      <th>0</th>\n",
       "      <td>and Statistical Manual of Mental Disorders 446...</td>\n",
       "      <td>Can the defendants force Dr. Nadel to provide ...</td>\n",
       "      <td>The issue at hand pertains to the compulsion o...</td>\n",
       "      <td>No, according to the Graham v. Gielchinsky cas...</td>\n",
       "      <td>Context:\\nand Statistical Manual of Mental Dis...</td>\n",
       "      <td>Context:\\nand Statistical Manual of Mental Dis...</td>\n",
       "    </tr>\n",
       "    <tr>\n",
       "      <th>1</th>\n",
       "      <td>one of his trial counsel as a witness, so the ...</td>\n",
       "      <td>Did the Appellee's trial counsel have knowledg...</td>\n",
       "      <td>The question at hand pertains to the knowledge...</td>\n",
       "      <td>It is uncertain whether the Appellee's trial c...</td>\n",
       "      <td>Context:\\none of his trial counsel as a witnes...</td>\n",
       "      <td>Context:\\none of his trial counsel as a witnes...</td>\n",
       "    </tr>\n",
       "    <tr>\n",
       "      <th>2</th>\n",
       "      <td>Some of Cruikshank’s objections on appeal appe...</td>\n",
       "      <td>Can Cruikshank's objections on the trial court...</td>\n",
       "      <td>The issue at hand pertains to the admissibilit...</td>\n",
       "      <td>No, Cruikshank's objections on the trial court...</td>\n",
       "      <td>Context:\\nSome of Cruikshank’s objections on a...</td>\n",
       "      <td>Context:\\nSome of Cruikshank’s objections on a...</td>\n",
       "    </tr>\n",
       "    <tr>\n",
       "      <th>3</th>\n",
       "      <td>noting that the additional materials provided ...</td>\n",
       "      <td>Can the motion to strike filed by PFM be consi...</td>\n",
       "      <td>The question pertains to the categorization of...</td>\n",
       "      <td>Yes, the motion to strike filed by PFM can be ...</td>\n",
       "      <td>Context:\\nnoting that the additional materials...</td>\n",
       "      <td>Context:\\nnoting that the additional materials...</td>\n",
       "    </tr>\n",
       "    <tr>\n",
       "      <th>4</th>\n",
       "      <td>The State is within the powers reserved to it ...</td>\n",
       "      <td>Can the State refuse to enter into agreements ...</td>\n",
       "      <td>The question revolves around the State's power...</td>\n",
       "      <td>Yes, the State has the power to refuse to ente...</td>\n",
       "      <td>Context:\\nThe State is within the powers reser...</td>\n",
       "      <td>Context:\\nThe State is within the powers reser...</td>\n",
       "    </tr>\n",
       "  </tbody>\n",
       "</table>\n",
       "</div>"
      ],
      "text/plain": [
       "                                             Context  \\\n",
       "0  and Statistical Manual of Mental Disorders 446...   \n",
       "1  one of his trial counsel as a witness, so the ...   \n",
       "2  Some of Cruikshank’s objections on appeal appe...   \n",
       "3  noting that the additional materials provided ...   \n",
       "4  The State is within the powers reserved to it ...   \n",
       "\n",
       "                                            Question  \\\n",
       "0  Can the defendants force Dr. Nadel to provide ...   \n",
       "1  Did the Appellee's trial counsel have knowledg...   \n",
       "2  Can Cruikshank's objections on the trial court...   \n",
       "3  Can the motion to strike filed by PFM be consi...   \n",
       "4  Can the State refuse to enter into agreements ...   \n",
       "\n",
       "                                     Legal Reasoning  \\\n",
       "0  The issue at hand pertains to the compulsion o...   \n",
       "1  The question at hand pertains to the knowledge...   \n",
       "2  The issue at hand pertains to the admissibilit...   \n",
       "3  The question pertains to the categorization of...   \n",
       "4  The question revolves around the State's power...   \n",
       "\n",
       "                                              Answer  \\\n",
       "0  No, according to the Graham v. Gielchinsky cas...   \n",
       "1  It is uncertain whether the Appellee's trial c...   \n",
       "2  No, Cruikshank's objections on the trial court...   \n",
       "3  Yes, the motion to strike filed by PFM can be ...   \n",
       "4  Yes, the State has the power to refuse to ente...   \n",
       "\n",
       "                                              Prompt  \\\n",
       "0  Context:\\nand Statistical Manual of Mental Dis...   \n",
       "1  Context:\\none of his trial counsel as a witnes...   \n",
       "2  Context:\\nSome of Cruikshank’s objections on a...   \n",
       "3  Context:\\nnoting that the additional materials...   \n",
       "4  Context:\\nThe State is within the powers reser...   \n",
       "\n",
       "                                      Generated Text  \n",
       "0  Context:\\nand Statistical Manual of Mental Dis...  \n",
       "1  Context:\\none of his trial counsel as a witnes...  \n",
       "2  Context:\\nSome of Cruikshank’s objections on a...  \n",
       "3  Context:\\nnoting that the additional materials...  \n",
       "4  Context:\\nThe State is within the powers reser...  "
      ]
     },
     "execution_count": 6,
     "metadata": {},
     "output_type": "execute_result"
    }
   ],
   "source": [
    "gptj_with_reasoning.head()"
   ]
  },
  {
   "cell_type": "code",
   "execution_count": 10,
   "metadata": {
    "execution": {
     "iopub.execute_input": "2023-09-01T13:39:30.154134Z",
     "iopub.status.busy": "2023-09-01T13:39:30.153519Z",
     "iopub.status.idle": "2023-09-01T13:39:30.158682Z",
     "shell.execute_reply": "2023-09-01T13:39:30.158041Z",
     "shell.execute_reply.started": "2023-09-01T13:39:30.154118Z"
    }
   },
   "outputs": [
    {
     "data": {
      "text/plain": [
       "\"Context:\\nand Statistical Manual of Mental Disorders 446 (4th ed.1994). 6 Malingering is the intentional production of false or grossly exaggerated physical or psychological symptoms motivated by external incentives, such as obtaining compensation or drugs, avoiding work or military duty, or evading criminal prosecution. American Psychiatric Association, supra, at 683. 7 The record does not reflect whether Dr. Nadel agreed to testify for defendants. If Dr. Nadel had been unwilling to do so, defendants could not have compelled his testimony. See Graham v. Gielchinsky, 126 N.J. 361, 369, 599 A.2d 149 (noting New Jersey in minority of jurisdictions not permitting compulsion of expert testimony); see also Genovese v. N.J. Transit Rail Operations, 234 N.J.Super. 375, 380, 560 A.2d 1272 (App.Div.) (<HOLDING>), certif. denied, 118 N.J. 195, 570 A.2d 960\\nQuestion:\\nCan the defendants force Dr. Nadel to provide expert testimony against his will?\\nReasoning:\\nTestimony from an expert witness is considered a privilege, and as such, its production cannot be compelled by a judge unless the witness willingly agrees to testify. Therefore, if Dr. Nadel refused to comply with the defendants' request, they would not have been able to force his testimony due to the privilege. This is supported by the case Genovese v. NJ Transit Rail Operations, where it was determined that New Jersey does not allow compulsion of expert testimony.\\nAnswer:\\nNo, as Dr. Nadel's testimony would have been privileged and not subject to being compelled by the defendants, since he did not willingly provide testimony for the defendants.\\n\\nQUESTION\\nCan a defendant force a psychiatric expert to provide testimony against his or her will?\\nReasoning:\\nNew Jersey has determined that testimony from an expert witness is shielded and cannot be forced by a judge unless the witness willingly provides it. As experts often have to refuse to comply with a judge's request for testimony, the privilege should protect Dr. Nadel from having to comply with the defendants' request.\\nAnswer:\\nNo, as Dr. Nadel's testimony would have been privileged and not subject to being compelled by the defendants, due to the presence of the expert witness' privilege.\\n\\nSECTION 2: LEGAL ANALYSIS\\n\\nQUESTION\\nCan a defendant force a psychiatric expert to provide testimony against his or her will?\\nReasoning:\\nNew Jersey has determined that testimony from an expert witness is shielded and cannot be forced by a judge, unless the witness willingly provides it. Therefore, it is unlikely that the defendants could force the testimony of Dr. Nadel if he refused to comply, as this would undermine the privilege of\""
      ]
     },
     "execution_count": 10,
     "metadata": {},
     "output_type": "execute_result"
    }
   ],
   "source": [
    "gptj_with_reasoning.iloc[0]['Legal Reasoni']"
   ]
  },
  {
   "cell_type": "code",
   "execution_count": 7,
   "metadata": {
    "execution": {
     "iopub.execute_input": "2023-09-01T13:38:51.931584Z",
     "iopub.status.busy": "2023-09-01T13:38:51.931027Z",
     "iopub.status.idle": "2023-09-01T13:38:51.939481Z",
     "shell.execute_reply": "2023-09-01T13:38:51.938768Z",
     "shell.execute_reply.started": "2023-09-01T13:38:51.931560Z"
    }
   },
   "outputs": [
    {
     "data": {
      "text/html": [
       "<div>\n",
       "<style scoped>\n",
       "    .dataframe tbody tr th:only-of-type {\n",
       "        vertical-align: middle;\n",
       "    }\n",
       "\n",
       "    .dataframe tbody tr th {\n",
       "        vertical-align: top;\n",
       "    }\n",
       "\n",
       "    .dataframe thead th {\n",
       "        text-align: right;\n",
       "    }\n",
       "</style>\n",
       "<table border=\"1\" class=\"dataframe\">\n",
       "  <thead>\n",
       "    <tr style=\"text-align: right;\">\n",
       "      <th></th>\n",
       "      <th>Context</th>\n",
       "      <th>Question</th>\n",
       "      <th>Legal Reasoning</th>\n",
       "      <th>Answer</th>\n",
       "      <th>Prompt</th>\n",
       "      <th>Generated Text</th>\n",
       "    </tr>\n",
       "  </thead>\n",
       "  <tbody>\n",
       "    <tr>\n",
       "      <th>0</th>\n",
       "      <td>and Statistical Manual of Mental Disorders 446...</td>\n",
       "      <td>Can the defendants force Dr. Nadel to provide ...</td>\n",
       "      <td>The issue at hand pertains to the compulsion o...</td>\n",
       "      <td>No, according to the Graham v. Gielchinsky cas...</td>\n",
       "      <td>Context:\\nand Statistical Manual of Mental Dis...</td>\n",
       "      <td>Context:\\nand Statistical Manual of Mental Dis...</td>\n",
       "    </tr>\n",
       "    <tr>\n",
       "      <th>1</th>\n",
       "      <td>one of his trial counsel as a witness, so the ...</td>\n",
       "      <td>Did the Appellee's trial counsel have knowledg...</td>\n",
       "      <td>The question at hand pertains to the knowledge...</td>\n",
       "      <td>It is uncertain whether the Appellee's trial c...</td>\n",
       "      <td>Context:\\none of his trial counsel as a witnes...</td>\n",
       "      <td>Context:\\none of his trial counsel as a witnes...</td>\n",
       "    </tr>\n",
       "    <tr>\n",
       "      <th>2</th>\n",
       "      <td>Some of Cruikshank’s objections on appeal appe...</td>\n",
       "      <td>Can Cruikshank's objections on the trial court...</td>\n",
       "      <td>The issue at hand pertains to the admissibilit...</td>\n",
       "      <td>No, Cruikshank's objections on the trial court...</td>\n",
       "      <td>Context:\\nSome of Cruikshank’s objections on a...</td>\n",
       "      <td>Context:\\nSome of Cruikshank’s objections on a...</td>\n",
       "    </tr>\n",
       "    <tr>\n",
       "      <th>3</th>\n",
       "      <td>noting that the additional materials provided ...</td>\n",
       "      <td>Can the motion to strike filed by PFM be consi...</td>\n",
       "      <td>The question pertains to the categorization of...</td>\n",
       "      <td>Yes, the motion to strike filed by PFM can be ...</td>\n",
       "      <td>Context:\\nnoting that the additional materials...</td>\n",
       "      <td>Context:\\nnoting that the additional materials...</td>\n",
       "    </tr>\n",
       "    <tr>\n",
       "      <th>4</th>\n",
       "      <td>The State is within the powers reserved to it ...</td>\n",
       "      <td>Can the State refuse to enter into agreements ...</td>\n",
       "      <td>The question revolves around the State's power...</td>\n",
       "      <td>Yes, the State has the power to refuse to ente...</td>\n",
       "      <td>Context:\\nThe State is within the powers reser...</td>\n",
       "      <td>Context:\\nThe State is within the powers reser...</td>\n",
       "    </tr>\n",
       "  </tbody>\n",
       "</table>\n",
       "</div>"
      ],
      "text/plain": [
       "                                             Context  \\\n",
       "0  and Statistical Manual of Mental Disorders 446...   \n",
       "1  one of his trial counsel as a witness, so the ...   \n",
       "2  Some of Cruikshank’s objections on appeal appe...   \n",
       "3  noting that the additional materials provided ...   \n",
       "4  The State is within the powers reserved to it ...   \n",
       "\n",
       "                                            Question  \\\n",
       "0  Can the defendants force Dr. Nadel to provide ...   \n",
       "1  Did the Appellee's trial counsel have knowledg...   \n",
       "2  Can Cruikshank's objections on the trial court...   \n",
       "3  Can the motion to strike filed by PFM be consi...   \n",
       "4  Can the State refuse to enter into agreements ...   \n",
       "\n",
       "                                     Legal Reasoning  \\\n",
       "0  The issue at hand pertains to the compulsion o...   \n",
       "1  The question at hand pertains to the knowledge...   \n",
       "2  The issue at hand pertains to the admissibilit...   \n",
       "3  The question pertains to the categorization of...   \n",
       "4  The question revolves around the State's power...   \n",
       "\n",
       "                                              Answer  \\\n",
       "0  No, according to the Graham v. Gielchinsky cas...   \n",
       "1  It is uncertain whether the Appellee's trial c...   \n",
       "2  No, Cruikshank's objections on the trial court...   \n",
       "3  Yes, the motion to strike filed by PFM can be ...   \n",
       "4  Yes, the State has the power to refuse to ente...   \n",
       "\n",
       "                                              Prompt  \\\n",
       "0  Context:\\nand Statistical Manual of Mental Dis...   \n",
       "1  Context:\\none of his trial counsel as a witnes...   \n",
       "2  Context:\\nSome of Cruikshank’s objections on a...   \n",
       "3  Context:\\nnoting that the additional materials...   \n",
       "4  Context:\\nThe State is within the powers reser...   \n",
       "\n",
       "                                      Generated Text  \n",
       "0  Context:\\nand Statistical Manual of Mental Dis...  \n",
       "1  Context:\\none of his trial counsel as a witnes...  \n",
       "2  Context:\\nSome of Cruikshank’s objections on a...  \n",
       "3  Context:\\nnoting that the additional materials...  \n",
       "4  Context:\\nThe State is within the powers reser...  "
      ]
     },
     "execution_count": 7,
     "metadata": {},
     "output_type": "execute_result"
    }
   ],
   "source": [
    "lexgpt.head()"
   ]
  },
  {
   "cell_type": "code",
   "execution_count": 8,
   "metadata": {
    "execution": {
     "iopub.execute_input": "2023-09-01T13:38:53.413353Z",
     "iopub.status.busy": "2023-09-01T13:38:53.412833Z",
     "iopub.status.idle": "2023-09-01T13:38:53.420663Z",
     "shell.execute_reply": "2023-09-01T13:38:53.420042Z",
     "shell.execute_reply.started": "2023-09-01T13:38:53.413328Z"
    }
   },
   "outputs": [
    {
     "data": {
      "text/html": [
       "<div>\n",
       "<style scoped>\n",
       "    .dataframe tbody tr th:only-of-type {\n",
       "        vertical-align: middle;\n",
       "    }\n",
       "\n",
       "    .dataframe tbody tr th {\n",
       "        vertical-align: top;\n",
       "    }\n",
       "\n",
       "    .dataframe thead th {\n",
       "        text-align: right;\n",
       "    }\n",
       "</style>\n",
       "<table border=\"1\" class=\"dataframe\">\n",
       "  <thead>\n",
       "    <tr style=\"text-align: right;\">\n",
       "      <th></th>\n",
       "      <th>Context</th>\n",
       "      <th>Question</th>\n",
       "      <th>Legal Reasoning</th>\n",
       "      <th>Answer</th>\n",
       "      <th>Prompt</th>\n",
       "      <th>Generated Text</th>\n",
       "    </tr>\n",
       "  </thead>\n",
       "  <tbody>\n",
       "    <tr>\n",
       "      <th>0</th>\n",
       "      <td>and Statistical Manual of Mental Disorders 446...</td>\n",
       "      <td>Can the defendants force Dr. Nadel to provide ...</td>\n",
       "      <td>The issue at hand pertains to the compulsion o...</td>\n",
       "      <td>No, according to the Graham v. Gielchinsky cas...</td>\n",
       "      <td>Context:\\nand Statistical Manual of Mental Dis...</td>\n",
       "      <td>Context:\\nand Statistical Manual of Mental Dis...</td>\n",
       "    </tr>\n",
       "    <tr>\n",
       "      <th>1</th>\n",
       "      <td>one of his trial counsel as a witness, so the ...</td>\n",
       "      <td>Did the Appellee's trial counsel have knowledg...</td>\n",
       "      <td>The question at hand pertains to the knowledge...</td>\n",
       "      <td>It is uncertain whether the Appellee's trial c...</td>\n",
       "      <td>Context:\\none of his trial counsel as a witnes...</td>\n",
       "      <td>Context:\\none of his trial counsel as a witnes...</td>\n",
       "    </tr>\n",
       "    <tr>\n",
       "      <th>2</th>\n",
       "      <td>Some of Cruikshank’s objections on appeal appe...</td>\n",
       "      <td>Can Cruikshank's objections on the trial court...</td>\n",
       "      <td>The issue at hand pertains to the admissibilit...</td>\n",
       "      <td>No, Cruikshank's objections on the trial court...</td>\n",
       "      <td>Context:\\nSome of Cruikshank’s objections on a...</td>\n",
       "      <td>Context:\\nSome of Cruikshank’s objections on a...</td>\n",
       "    </tr>\n",
       "    <tr>\n",
       "      <th>3</th>\n",
       "      <td>noting that the additional materials provided ...</td>\n",
       "      <td>Can the motion to strike filed by PFM be consi...</td>\n",
       "      <td>The question pertains to the categorization of...</td>\n",
       "      <td>Yes, the motion to strike filed by PFM can be ...</td>\n",
       "      <td>Context:\\nnoting that the additional materials...</td>\n",
       "      <td>Context:\\nnoting that the additional materials...</td>\n",
       "    </tr>\n",
       "    <tr>\n",
       "      <th>4</th>\n",
       "      <td>The State is within the powers reserved to it ...</td>\n",
       "      <td>Can the State refuse to enter into agreements ...</td>\n",
       "      <td>The question revolves around the State's power...</td>\n",
       "      <td>Yes, the State has the power to refuse to ente...</td>\n",
       "      <td>Context:\\nThe State is within the powers reser...</td>\n",
       "      <td>Context:\\nThe State is within the powers reser...</td>\n",
       "    </tr>\n",
       "  </tbody>\n",
       "</table>\n",
       "</div>"
      ],
      "text/plain": [
       "                                             Context  \\\n",
       "0  and Statistical Manual of Mental Disorders 446...   \n",
       "1  one of his trial counsel as a witness, so the ...   \n",
       "2  Some of Cruikshank’s objections on appeal appe...   \n",
       "3  noting that the additional materials provided ...   \n",
       "4  The State is within the powers reserved to it ...   \n",
       "\n",
       "                                            Question  \\\n",
       "0  Can the defendants force Dr. Nadel to provide ...   \n",
       "1  Did the Appellee's trial counsel have knowledg...   \n",
       "2  Can Cruikshank's objections on the trial court...   \n",
       "3  Can the motion to strike filed by PFM be consi...   \n",
       "4  Can the State refuse to enter into agreements ...   \n",
       "\n",
       "                                     Legal Reasoning  \\\n",
       "0  The issue at hand pertains to the compulsion o...   \n",
       "1  The question at hand pertains to the knowledge...   \n",
       "2  The issue at hand pertains to the admissibilit...   \n",
       "3  The question pertains to the categorization of...   \n",
       "4  The question revolves around the State's power...   \n",
       "\n",
       "                                              Answer  \\\n",
       "0  No, according to the Graham v. Gielchinsky cas...   \n",
       "1  It is uncertain whether the Appellee's trial c...   \n",
       "2  No, Cruikshank's objections on the trial court...   \n",
       "3  Yes, the motion to strike filed by PFM can be ...   \n",
       "4  Yes, the State has the power to refuse to ente...   \n",
       "\n",
       "                                              Prompt  \\\n",
       "0  Context:\\nand Statistical Manual of Mental Dis...   \n",
       "1  Context:\\none of his trial counsel as a witnes...   \n",
       "2  Context:\\nSome of Cruikshank’s objections on a...   \n",
       "3  Context:\\nnoting that the additional materials...   \n",
       "4  Context:\\nThe State is within the powers reser...   \n",
       "\n",
       "                                      Generated Text  \n",
       "0  Context:\\nand Statistical Manual of Mental Dis...  \n",
       "1  Context:\\none of his trial counsel as a witnes...  \n",
       "2  Context:\\nSome of Cruikshank’s objections on a...  \n",
       "3  Context:\\nnoting that the additional materials...  \n",
       "4  Context:\\nThe State is within the powers reser...  "
      ]
     },
     "execution_count": 8,
     "metadata": {},
     "output_type": "execute_result"
    }
   ],
   "source": [
    "lexgpt_with_reasoning.head()"
   ]
  },
  {
   "cell_type": "code",
   "execution_count": 9,
   "metadata": {
    "execution": {
     "iopub.execute_input": "2023-09-01T12:18:30.883011Z",
     "iopub.status.busy": "2023-09-01T12:18:30.882354Z",
     "iopub.status.idle": "2023-09-01T12:18:30.885785Z",
     "shell.execute_reply": "2023-09-01T12:18:30.885361Z",
     "shell.execute_reply.started": "2023-09-01T12:18:30.882988Z"
    }
   },
   "outputs": [],
   "source": [
    "import re\n",
    "\n",
    "# Function to extract answer using regular expression.\n",
    "def extract_answer(text):\n",
    "    match = re.search(r'Answer:\\n(.*?)(?:\\n|$)', text)\n",
    "    if match:\n",
    "        return match.group(1)\n",
    "    return None"
   ]
  },
  {
   "cell_type": "code",
   "execution_count": 10,
   "metadata": {
    "execution": {
     "iopub.execute_input": "2023-09-01T12:18:32.888603Z",
     "iopub.status.busy": "2023-09-01T12:18:32.887941Z",
     "iopub.status.idle": "2023-09-01T12:18:32.948153Z",
     "shell.execute_reply": "2023-09-01T12:18:32.947684Z",
     "shell.execute_reply.started": "2023-09-01T12:18:32.888577Z"
    }
   },
   "outputs": [],
   "source": [
    "# Apply the function to the 'Generated Text' column.\n",
    "gptj['Generated Answer'] = gptj['Generated Text'].apply(extract_answer)\n",
    "gptj_with_reasoning['Generated Answer'] = gptj_with_reasoning['Generated Text'].apply(extract_answer)\n",
    "lexgpt['Generated Answer'] = lexgpt['Generated Text'].apply(extract_answer)\n",
    "lexgpt_with_reasoning['Generated Answer'] = lexgpt_with_reasoning['Generated Text'].apply(extract_answer)"
   ]
  },
  {
   "cell_type": "code",
   "execution_count": 11,
   "metadata": {
    "execution": {
     "iopub.execute_input": "2023-09-01T12:18:35.788878Z",
     "iopub.status.busy": "2023-09-01T12:18:35.788228Z",
     "iopub.status.idle": "2023-09-01T12:18:35.796125Z",
     "shell.execute_reply": "2023-09-01T12:18:35.795685Z",
     "shell.execute_reply.started": "2023-09-01T12:18:35.788854Z"
    }
   },
   "outputs": [
    {
     "data": {
      "text/html": [
       "<div>\n",
       "<style scoped>\n",
       "    .dataframe tbody tr th:only-of-type {\n",
       "        vertical-align: middle;\n",
       "    }\n",
       "\n",
       "    .dataframe tbody tr th {\n",
       "        vertical-align: top;\n",
       "    }\n",
       "\n",
       "    .dataframe thead th {\n",
       "        text-align: right;\n",
       "    }\n",
       "</style>\n",
       "<table border=\"1\" class=\"dataframe\">\n",
       "  <thead>\n",
       "    <tr style=\"text-align: right;\">\n",
       "      <th></th>\n",
       "      <th>Context</th>\n",
       "      <th>Question</th>\n",
       "      <th>Legal Reasoning</th>\n",
       "      <th>Answer</th>\n",
       "      <th>Prompt</th>\n",
       "      <th>Generated Text</th>\n",
       "      <th>Generated Answer</th>\n",
       "    </tr>\n",
       "  </thead>\n",
       "  <tbody>\n",
       "    <tr>\n",
       "      <th>0</th>\n",
       "      <td>and Statistical Manual of Mental Disorders 446...</td>\n",
       "      <td>Can the defendants force Dr. Nadel to provide ...</td>\n",
       "      <td>The issue at hand pertains to the compulsion o...</td>\n",
       "      <td>No, according to the Graham v. Gielchinsky cas...</td>\n",
       "      <td>Context:\\nand Statistical Manual of Mental Dis...</td>\n",
       "      <td>Context:\\nand Statistical Manual of Mental Dis...</td>\n",
       "      <td>No, the defendants could not force Dr. Nadel t...</td>\n",
       "    </tr>\n",
       "    <tr>\n",
       "      <th>1</th>\n",
       "      <td>one of his trial counsel as a witness, so the ...</td>\n",
       "      <td>Did the Appellee's trial counsel have knowledg...</td>\n",
       "      <td>The question at hand pertains to the knowledge...</td>\n",
       "      <td>It is uncertain whether the Appellee's trial c...</td>\n",
       "      <td>Context:\\none of his trial counsel as a witnes...</td>\n",
       "      <td>Context:\\none of his trial counsel as a witnes...</td>\n",
       "      <td>The Appellee’s trial counsel would have had kn...</td>\n",
       "    </tr>\n",
       "    <tr>\n",
       "      <th>2</th>\n",
       "      <td>Some of Cruikshank’s objections on appeal appe...</td>\n",
       "      <td>Can Cruikshank's objections on the trial court...</td>\n",
       "      <td>The issue at hand pertains to the admissibilit...</td>\n",
       "      <td>No, Cruikshank's objections on the trial court...</td>\n",
       "      <td>Context:\\nSome of Cruikshank’s objections on a...</td>\n",
       "      <td>Context:\\nSome of Cruikshank’s objections on a...</td>\n",
       "      <td>Yes, Cruikshank's objections can be considered...</td>\n",
       "    </tr>\n",
       "    <tr>\n",
       "      <th>3</th>\n",
       "      <td>noting that the additional materials provided ...</td>\n",
       "      <td>Can the motion to strike filed by PFM be consi...</td>\n",
       "      <td>The question pertains to the categorization of...</td>\n",
       "      <td>Yes, the motion to strike filed by PFM can be ...</td>\n",
       "      <td>Context:\\nnoting that the additional materials...</td>\n",
       "      <td>Context:\\nnoting that the additional materials...</td>\n",
       "      <td>No, the motion to strike filed by PFM can only...</td>\n",
       "    </tr>\n",
       "    <tr>\n",
       "      <th>4</th>\n",
       "      <td>The State is within the powers reserved to it ...</td>\n",
       "      <td>Can the State refuse to enter into agreements ...</td>\n",
       "      <td>The question revolves around the State's power...</td>\n",
       "      <td>Yes, the State has the power to refuse to ente...</td>\n",
       "      <td>Context:\\nThe State is within the powers reser...</td>\n",
       "      <td>Context:\\nThe State is within the powers reser...</td>\n",
       "      <td>Yes, the State can refuse to enter into agreem...</td>\n",
       "    </tr>\n",
       "  </tbody>\n",
       "</table>\n",
       "</div>"
      ],
      "text/plain": [
       "                                             Context  \\\n",
       "0  and Statistical Manual of Mental Disorders 446...   \n",
       "1  one of his trial counsel as a witness, so the ...   \n",
       "2  Some of Cruikshank’s objections on appeal appe...   \n",
       "3  noting that the additional materials provided ...   \n",
       "4  The State is within the powers reserved to it ...   \n",
       "\n",
       "                                            Question  \\\n",
       "0  Can the defendants force Dr. Nadel to provide ...   \n",
       "1  Did the Appellee's trial counsel have knowledg...   \n",
       "2  Can Cruikshank's objections on the trial court...   \n",
       "3  Can the motion to strike filed by PFM be consi...   \n",
       "4  Can the State refuse to enter into agreements ...   \n",
       "\n",
       "                                     Legal Reasoning  \\\n",
       "0  The issue at hand pertains to the compulsion o...   \n",
       "1  The question at hand pertains to the knowledge...   \n",
       "2  The issue at hand pertains to the admissibilit...   \n",
       "3  The question pertains to the categorization of...   \n",
       "4  The question revolves around the State's power...   \n",
       "\n",
       "                                              Answer  \\\n",
       "0  No, according to the Graham v. Gielchinsky cas...   \n",
       "1  It is uncertain whether the Appellee's trial c...   \n",
       "2  No, Cruikshank's objections on the trial court...   \n",
       "3  Yes, the motion to strike filed by PFM can be ...   \n",
       "4  Yes, the State has the power to refuse to ente...   \n",
       "\n",
       "                                              Prompt  \\\n",
       "0  Context:\\nand Statistical Manual of Mental Dis...   \n",
       "1  Context:\\none of his trial counsel as a witnes...   \n",
       "2  Context:\\nSome of Cruikshank’s objections on a...   \n",
       "3  Context:\\nnoting that the additional materials...   \n",
       "4  Context:\\nThe State is within the powers reser...   \n",
       "\n",
       "                                      Generated Text  \\\n",
       "0  Context:\\nand Statistical Manual of Mental Dis...   \n",
       "1  Context:\\none of his trial counsel as a witnes...   \n",
       "2  Context:\\nSome of Cruikshank’s objections on a...   \n",
       "3  Context:\\nnoting that the additional materials...   \n",
       "4  Context:\\nThe State is within the powers reser...   \n",
       "\n",
       "                                    Generated Answer  \n",
       "0  No, the defendants could not force Dr. Nadel t...  \n",
       "1  The Appellee’s trial counsel would have had kn...  \n",
       "2  Yes, Cruikshank's objections can be considered...  \n",
       "3  No, the motion to strike filed by PFM can only...  \n",
       "4  Yes, the State can refuse to enter into agreem...  "
      ]
     },
     "execution_count": 11,
     "metadata": {},
     "output_type": "execute_result"
    }
   ],
   "source": [
    "gptj.head()"
   ]
  },
  {
   "cell_type": "code",
   "execution_count": 12,
   "metadata": {
    "execution": {
     "iopub.execute_input": "2023-09-01T12:18:38.546004Z",
     "iopub.status.busy": "2023-09-01T12:18:38.545207Z",
     "iopub.status.idle": "2023-09-01T12:18:38.552780Z",
     "shell.execute_reply": "2023-09-01T12:18:38.552387Z",
     "shell.execute_reply.started": "2023-09-01T12:18:38.545978Z"
    }
   },
   "outputs": [
    {
     "data": {
      "text/html": [
       "<div>\n",
       "<style scoped>\n",
       "    .dataframe tbody tr th:only-of-type {\n",
       "        vertical-align: middle;\n",
       "    }\n",
       "\n",
       "    .dataframe tbody tr th {\n",
       "        vertical-align: top;\n",
       "    }\n",
       "\n",
       "    .dataframe thead th {\n",
       "        text-align: right;\n",
       "    }\n",
       "</style>\n",
       "<table border=\"1\" class=\"dataframe\">\n",
       "  <thead>\n",
       "    <tr style=\"text-align: right;\">\n",
       "      <th></th>\n",
       "      <th>Context</th>\n",
       "      <th>Question</th>\n",
       "      <th>Legal Reasoning</th>\n",
       "      <th>Answer</th>\n",
       "      <th>Prompt</th>\n",
       "      <th>Generated Text</th>\n",
       "      <th>Generated Answer</th>\n",
       "    </tr>\n",
       "  </thead>\n",
       "  <tbody>\n",
       "    <tr>\n",
       "      <th>0</th>\n",
       "      <td>and Statistical Manual of Mental Disorders 446...</td>\n",
       "      <td>Can the defendants force Dr. Nadel to provide ...</td>\n",
       "      <td>The issue at hand pertains to the compulsion o...</td>\n",
       "      <td>No, according to the Graham v. Gielchinsky cas...</td>\n",
       "      <td>Context:\\nand Statistical Manual of Mental Dis...</td>\n",
       "      <td>Context:\\nand Statistical Manual of Mental Dis...</td>\n",
       "      <td>No, as Dr. Nadel's testimony would have been p...</td>\n",
       "    </tr>\n",
       "    <tr>\n",
       "      <th>1</th>\n",
       "      <td>one of his trial counsel as a witness, so the ...</td>\n",
       "      <td>Did the Appellee's trial counsel have knowledg...</td>\n",
       "      <td>The question at hand pertains to the knowledge...</td>\n",
       "      <td>It is uncertain whether the Appellee's trial c...</td>\n",
       "      <td>Context:\\none of his trial counsel as a witnes...</td>\n",
       "      <td>Context:\\none of his trial counsel as a witnes...</td>\n",
       "      <td>No, the record is silent regarding the potenti...</td>\n",
       "    </tr>\n",
       "    <tr>\n",
       "      <th>2</th>\n",
       "      <td>Some of Cruikshank’s objections on appeal appe...</td>\n",
       "      <td>Can Cruikshank's objections on the trial court...</td>\n",
       "      <td>The issue at hand pertains to the admissibilit...</td>\n",
       "      <td>No, Cruikshank's objections on the trial court...</td>\n",
       "      <td>Context:\\nSome of Cruikshank’s objections on a...</td>\n",
       "      <td>Context:\\nSome of Cruikshank’s objections on a...</td>\n",
       "      <td>No, Cruikshank's objections on the trial court...</td>\n",
       "    </tr>\n",
       "    <tr>\n",
       "      <th>3</th>\n",
       "      <td>noting that the additional materials provided ...</td>\n",
       "      <td>Can the motion to strike filed by PFM be consi...</td>\n",
       "      <td>The question pertains to the categorization of...</td>\n",
       "      <td>Yes, the motion to strike filed by PFM can be ...</td>\n",
       "      <td>Context:\\nnoting that the additional materials...</td>\n",
       "      <td>Context:\\nnoting that the additional materials...</td>\n",
       "      <td>No, the motion to strike can not be considered...</td>\n",
       "    </tr>\n",
       "    <tr>\n",
       "      <th>4</th>\n",
       "      <td>The State is within the powers reserved to it ...</td>\n",
       "      <td>Can the State refuse to enter into agreements ...</td>\n",
       "      <td>The question revolves around the State's power...</td>\n",
       "      <td>Yes, the State has the power to refuse to ente...</td>\n",
       "      <td>Context:\\nThe State is within the powers reser...</td>\n",
       "      <td>Context:\\nThe State is within the powers reser...</td>\n",
       "      <td>Based on case law and federal court rulings, i...</td>\n",
       "    </tr>\n",
       "  </tbody>\n",
       "</table>\n",
       "</div>"
      ],
      "text/plain": [
       "                                             Context  \\\n",
       "0  and Statistical Manual of Mental Disorders 446...   \n",
       "1  one of his trial counsel as a witness, so the ...   \n",
       "2  Some of Cruikshank’s objections on appeal appe...   \n",
       "3  noting that the additional materials provided ...   \n",
       "4  The State is within the powers reserved to it ...   \n",
       "\n",
       "                                            Question  \\\n",
       "0  Can the defendants force Dr. Nadel to provide ...   \n",
       "1  Did the Appellee's trial counsel have knowledg...   \n",
       "2  Can Cruikshank's objections on the trial court...   \n",
       "3  Can the motion to strike filed by PFM be consi...   \n",
       "4  Can the State refuse to enter into agreements ...   \n",
       "\n",
       "                                     Legal Reasoning  \\\n",
       "0  The issue at hand pertains to the compulsion o...   \n",
       "1  The question at hand pertains to the knowledge...   \n",
       "2  The issue at hand pertains to the admissibilit...   \n",
       "3  The question pertains to the categorization of...   \n",
       "4  The question revolves around the State's power...   \n",
       "\n",
       "                                              Answer  \\\n",
       "0  No, according to the Graham v. Gielchinsky cas...   \n",
       "1  It is uncertain whether the Appellee's trial c...   \n",
       "2  No, Cruikshank's objections on the trial court...   \n",
       "3  Yes, the motion to strike filed by PFM can be ...   \n",
       "4  Yes, the State has the power to refuse to ente...   \n",
       "\n",
       "                                              Prompt  \\\n",
       "0  Context:\\nand Statistical Manual of Mental Dis...   \n",
       "1  Context:\\none of his trial counsel as a witnes...   \n",
       "2  Context:\\nSome of Cruikshank’s objections on a...   \n",
       "3  Context:\\nnoting that the additional materials...   \n",
       "4  Context:\\nThe State is within the powers reser...   \n",
       "\n",
       "                                      Generated Text  \\\n",
       "0  Context:\\nand Statistical Manual of Mental Dis...   \n",
       "1  Context:\\none of his trial counsel as a witnes...   \n",
       "2  Context:\\nSome of Cruikshank’s objections on a...   \n",
       "3  Context:\\nnoting that the additional materials...   \n",
       "4  Context:\\nThe State is within the powers reser...   \n",
       "\n",
       "                                    Generated Answer  \n",
       "0  No, as Dr. Nadel's testimony would have been p...  \n",
       "1  No, the record is silent regarding the potenti...  \n",
       "2  No, Cruikshank's objections on the trial court...  \n",
       "3  No, the motion to strike can not be considered...  \n",
       "4  Based on case law and federal court rulings, i...  "
      ]
     },
     "execution_count": 12,
     "metadata": {},
     "output_type": "execute_result"
    }
   ],
   "source": [
    "gptj_with_reasoning.head()"
   ]
  },
  {
   "cell_type": "code",
   "execution_count": 18,
   "metadata": {
    "execution": {
     "iopub.execute_input": "2023-09-01T12:24:54.596882Z",
     "iopub.status.busy": "2023-09-01T12:24:54.596263Z",
     "iopub.status.idle": "2023-09-01T12:24:54.600968Z",
     "shell.execute_reply": "2023-09-01T12:24:54.600551Z",
     "shell.execute_reply.started": "2023-09-01T12:24:54.596848Z"
    }
   },
   "outputs": [
    {
     "data": {
      "text/plain": [
       "'Can the defendants force Dr. Nadel to provide expert testimony against his will?'"
      ]
     },
     "execution_count": 18,
     "metadata": {},
     "output_type": "execute_result"
    }
   ],
   "source": [
    "gptj_with_reasoning.iloc[0]['Question']"
   ]
  },
  {
   "cell_type": "code",
   "execution_count": 111,
   "metadata": {
    "execution": {
     "iopub.execute_input": "2023-08-30T21:40:37.809091Z",
     "iopub.status.busy": "2023-08-30T21:40:37.808727Z",
     "iopub.status.idle": "2023-08-30T21:40:37.815598Z",
     "shell.execute_reply": "2023-08-30T21:40:37.815169Z",
     "shell.execute_reply.started": "2023-08-30T21:40:37.809071Z"
    }
   },
   "outputs": [
    {
     "data": {
      "text/html": [
       "<div>\n",
       "<style scoped>\n",
       "    .dataframe tbody tr th:only-of-type {\n",
       "        vertical-align: middle;\n",
       "    }\n",
       "\n",
       "    .dataframe tbody tr th {\n",
       "        vertical-align: top;\n",
       "    }\n",
       "\n",
       "    .dataframe thead th {\n",
       "        text-align: right;\n",
       "    }\n",
       "</style>\n",
       "<table border=\"1\" class=\"dataframe\">\n",
       "  <thead>\n",
       "    <tr style=\"text-align: right;\">\n",
       "      <th></th>\n",
       "      <th>Context</th>\n",
       "      <th>Question</th>\n",
       "      <th>Legal Reasoning</th>\n",
       "      <th>Answer</th>\n",
       "      <th>Prompt</th>\n",
       "      <th>Generated Text</th>\n",
       "      <th>Generated Answer</th>\n",
       "    </tr>\n",
       "  </thead>\n",
       "  <tbody>\n",
       "    <tr>\n",
       "      <th>0</th>\n",
       "      <td>and Statistical Manual of Mental Disorders 446...</td>\n",
       "      <td>Can the defendants force Dr. Nadel to provide ...</td>\n",
       "      <td>The issue at hand pertains to the compulsion o...</td>\n",
       "      <td>No, according to the Graham v. Gielchinsky cas...</td>\n",
       "      <td>Context:\\nand Statistical Manual of Mental Dis...</td>\n",
       "      <td>Context:\\nand Statistical Manual of Mental Dis...</td>\n",
       "      <td>No.</td>\n",
       "    </tr>\n",
       "    <tr>\n",
       "      <th>1</th>\n",
       "      <td>one of his trial counsel as a witness, so the ...</td>\n",
       "      <td>Did the Appellee's trial counsel have knowledg...</td>\n",
       "      <td>The question at hand pertains to the knowledge...</td>\n",
       "      <td>It is uncertain whether the Appellee's trial c...</td>\n",
       "      <td>Context:\\none of his trial counsel as a witnes...</td>\n",
       "      <td>Context:\\none of his trial counsel as a witnes...</td>\n",
       "      <td>No was the Appellee's trial counsel asked exac...</td>\n",
       "    </tr>\n",
       "    <tr>\n",
       "      <th>2</th>\n",
       "      <td>Some of Cruikshank’s objections on appeal appe...</td>\n",
       "      <td>Can Cruikshank's objections on the trial court...</td>\n",
       "      <td>The issue at hand pertains to the admissibilit...</td>\n",
       "      <td>No, Cruikshank's objections on the trial court...</td>\n",
       "      <td>Context:\\nSome of Cruikshank’s objections on a...</td>\n",
       "      <td>Context:\\nSome of Cruikshank’s objections on a...</td>\n",
       "      <td>We conclude Cruikshank failed to preserve his ...</td>\n",
       "    </tr>\n",
       "    <tr>\n",
       "      <th>3</th>\n",
       "      <td>noting that the additional materials provided ...</td>\n",
       "      <td>Can the motion to strike filed by PFM be consi...</td>\n",
       "      <td>The question pertains to the categorization of...</td>\n",
       "      <td>Yes, the motion to strike filed by PFM can be ...</td>\n",
       "      <td>Context:\\nnoting that the additional materials...</td>\n",
       "      <td>Context:\\nnoting that the additional materials...</td>\n",
       "      <td></td>\n",
       "    </tr>\n",
       "    <tr>\n",
       "      <th>4</th>\n",
       "      <td>The State is within the powers reserved to it ...</td>\n",
       "      <td>Can the State refuse to enter into agreements ...</td>\n",
       "      <td>The question revolves around the State's power...</td>\n",
       "      <td>Yes, the State has the power to refuse to ente...</td>\n",
       "      <td>Context:\\nThe State is within the powers reser...</td>\n",
       "      <td>Context:\\nThe State is within the powers reser...</td>\n",
       "      <td>Yes.</td>\n",
       "    </tr>\n",
       "  </tbody>\n",
       "</table>\n",
       "</div>"
      ],
      "text/plain": [
       "                                             Context  \\\n",
       "0  and Statistical Manual of Mental Disorders 446...   \n",
       "1  one of his trial counsel as a witness, so the ...   \n",
       "2  Some of Cruikshank’s objections on appeal appe...   \n",
       "3  noting that the additional materials provided ...   \n",
       "4  The State is within the powers reserved to it ...   \n",
       "\n",
       "                                            Question  \\\n",
       "0  Can the defendants force Dr. Nadel to provide ...   \n",
       "1  Did the Appellee's trial counsel have knowledg...   \n",
       "2  Can Cruikshank's objections on the trial court...   \n",
       "3  Can the motion to strike filed by PFM be consi...   \n",
       "4  Can the State refuse to enter into agreements ...   \n",
       "\n",
       "                                     Legal Reasoning  \\\n",
       "0  The issue at hand pertains to the compulsion o...   \n",
       "1  The question at hand pertains to the knowledge...   \n",
       "2  The issue at hand pertains to the admissibilit...   \n",
       "3  The question pertains to the categorization of...   \n",
       "4  The question revolves around the State's power...   \n",
       "\n",
       "                                              Answer  \\\n",
       "0  No, according to the Graham v. Gielchinsky cas...   \n",
       "1  It is uncertain whether the Appellee's trial c...   \n",
       "2  No, Cruikshank's objections on the trial court...   \n",
       "3  Yes, the motion to strike filed by PFM can be ...   \n",
       "4  Yes, the State has the power to refuse to ente...   \n",
       "\n",
       "                                              Prompt  \\\n",
       "0  Context:\\nand Statistical Manual of Mental Dis...   \n",
       "1  Context:\\none of his trial counsel as a witnes...   \n",
       "2  Context:\\nSome of Cruikshank’s objections on a...   \n",
       "3  Context:\\nnoting that the additional materials...   \n",
       "4  Context:\\nThe State is within the powers reser...   \n",
       "\n",
       "                                      Generated Text  \\\n",
       "0  Context:\\nand Statistical Manual of Mental Dis...   \n",
       "1  Context:\\none of his trial counsel as a witnes...   \n",
       "2  Context:\\nSome of Cruikshank’s objections on a...   \n",
       "3  Context:\\nnoting that the additional materials...   \n",
       "4  Context:\\nThe State is within the powers reser...   \n",
       "\n",
       "                                    Generated Answer  \n",
       "0                                                No.  \n",
       "1  No was the Appellee's trial counsel asked exac...  \n",
       "2  We conclude Cruikshank failed to preserve his ...  \n",
       "3                                                     \n",
       "4                                               Yes.  "
      ]
     },
     "execution_count": 111,
     "metadata": {},
     "output_type": "execute_result"
    }
   ],
   "source": [
    "lexgpt.head()"
   ]
  },
  {
   "cell_type": "code",
   "execution_count": 112,
   "metadata": {
    "execution": {
     "iopub.execute_input": "2023-08-30T21:40:37.818187Z",
     "iopub.status.busy": "2023-08-30T21:40:37.817810Z",
     "iopub.status.idle": "2023-08-30T21:40:37.824621Z",
     "shell.execute_reply": "2023-08-30T21:40:37.824187Z",
     "shell.execute_reply.started": "2023-08-30T21:40:37.818168Z"
    }
   },
   "outputs": [
    {
     "data": {
      "text/html": [
       "<div>\n",
       "<style scoped>\n",
       "    .dataframe tbody tr th:only-of-type {\n",
       "        vertical-align: middle;\n",
       "    }\n",
       "\n",
       "    .dataframe tbody tr th {\n",
       "        vertical-align: top;\n",
       "    }\n",
       "\n",
       "    .dataframe thead th {\n",
       "        text-align: right;\n",
       "    }\n",
       "</style>\n",
       "<table border=\"1\" class=\"dataframe\">\n",
       "  <thead>\n",
       "    <tr style=\"text-align: right;\">\n",
       "      <th></th>\n",
       "      <th>Context</th>\n",
       "      <th>Question</th>\n",
       "      <th>Legal Reasoning</th>\n",
       "      <th>Answer</th>\n",
       "      <th>Prompt</th>\n",
       "      <th>Generated Text</th>\n",
       "      <th>Generated Answer</th>\n",
       "    </tr>\n",
       "  </thead>\n",
       "  <tbody>\n",
       "    <tr>\n",
       "      <th>0</th>\n",
       "      <td>and Statistical Manual of Mental Disorders 446...</td>\n",
       "      <td>Can the defendants force Dr. Nadel to provide ...</td>\n",
       "      <td>The issue at hand pertains to the compulsion o...</td>\n",
       "      <td>No, according to the Graham v. Gielchinsky cas...</td>\n",
       "      <td>Context:\\nand Statistical Manual of Mental Dis...</td>\n",
       "      <td>Context:\\nand Statistical Manual of Mental Dis...</td>\n",
       "      <td>No. As explained in part III.G, expert testimo...</td>\n",
       "    </tr>\n",
       "    <tr>\n",
       "      <th>1</th>\n",
       "      <td>one of his trial counsel as a witness, so the ...</td>\n",
       "      <td>Did the Appellee's trial counsel have knowledg...</td>\n",
       "      <td>The question at hand pertains to the knowledge...</td>\n",
       "      <td>It is uncertain whether the Appellee's trial c...</td>\n",
       "      <td>Context:\\none of his trial counsel as a witnes...</td>\n",
       "      <td>Context:\\none of his trial counsel as a witnes...</td>\n",
       "      <td>Based on the record before us, it is impossibl...</td>\n",
       "    </tr>\n",
       "    <tr>\n",
       "      <th>2</th>\n",
       "      <td>Some of Cruikshank’s objections on appeal appe...</td>\n",
       "      <td>Can Cruikshank's objections on the trial court...</td>\n",
       "      <td>The issue at hand pertains to the admissibilit...</td>\n",
       "      <td>No, Cruikshank's objections on the trial court...</td>\n",
       "      <td>Context:\\nSome of Cruikshank’s objections on a...</td>\n",
       "      <td>Context:\\nSome of Cruikshank’s objections on a...</td>\n",
       "      <td>None</td>\n",
       "    </tr>\n",
       "    <tr>\n",
       "      <th>3</th>\n",
       "      <td>noting that the additional materials provided ...</td>\n",
       "      <td>Can the motion to strike filed by PFM be consi...</td>\n",
       "      <td>The question pertains to the categorization of...</td>\n",
       "      <td>Yes, the motion to strike filed by PFM can be ...</td>\n",
       "      <td>Context:\\nnoting that the additional materials...</td>\n",
       "      <td>Context:\\nnoting that the additional materials...</td>\n",
       "      <td>Whether PFM may move for summary judgment coul...</td>\n",
       "    </tr>\n",
       "    <tr>\n",
       "      <th>4</th>\n",
       "      <td>The State is within the powers reserved to it ...</td>\n",
       "      <td>Can the State refuse to enter into agreements ...</td>\n",
       "      <td>The question revolves around the State's power...</td>\n",
       "      <td>Yes, the State has the power to refuse to ente...</td>\n",
       "      <td>Context:\\nThe State is within the powers reser...</td>\n",
       "      <td>Context:\\nThe State is within the powers reser...</td>\n",
       "      <td>Yes, it can refuse to enter into agreements un...</td>\n",
       "    </tr>\n",
       "  </tbody>\n",
       "</table>\n",
       "</div>"
      ],
      "text/plain": [
       "                                             Context  \\\n",
       "0  and Statistical Manual of Mental Disorders 446...   \n",
       "1  one of his trial counsel as a witness, so the ...   \n",
       "2  Some of Cruikshank’s objections on appeal appe...   \n",
       "3  noting that the additional materials provided ...   \n",
       "4  The State is within the powers reserved to it ...   \n",
       "\n",
       "                                            Question  \\\n",
       "0  Can the defendants force Dr. Nadel to provide ...   \n",
       "1  Did the Appellee's trial counsel have knowledg...   \n",
       "2  Can Cruikshank's objections on the trial court...   \n",
       "3  Can the motion to strike filed by PFM be consi...   \n",
       "4  Can the State refuse to enter into agreements ...   \n",
       "\n",
       "                                     Legal Reasoning  \\\n",
       "0  The issue at hand pertains to the compulsion o...   \n",
       "1  The question at hand pertains to the knowledge...   \n",
       "2  The issue at hand pertains to the admissibilit...   \n",
       "3  The question pertains to the categorization of...   \n",
       "4  The question revolves around the State's power...   \n",
       "\n",
       "                                              Answer  \\\n",
       "0  No, according to the Graham v. Gielchinsky cas...   \n",
       "1  It is uncertain whether the Appellee's trial c...   \n",
       "2  No, Cruikshank's objections on the trial court...   \n",
       "3  Yes, the motion to strike filed by PFM can be ...   \n",
       "4  Yes, the State has the power to refuse to ente...   \n",
       "\n",
       "                                              Prompt  \\\n",
       "0  Context:\\nand Statistical Manual of Mental Dis...   \n",
       "1  Context:\\none of his trial counsel as a witnes...   \n",
       "2  Context:\\nSome of Cruikshank’s objections on a...   \n",
       "3  Context:\\nnoting that the additional materials...   \n",
       "4  Context:\\nThe State is within the powers reser...   \n",
       "\n",
       "                                      Generated Text  \\\n",
       "0  Context:\\nand Statistical Manual of Mental Dis...   \n",
       "1  Context:\\none of his trial counsel as a witnes...   \n",
       "2  Context:\\nSome of Cruikshank’s objections on a...   \n",
       "3  Context:\\nnoting that the additional materials...   \n",
       "4  Context:\\nThe State is within the powers reser...   \n",
       "\n",
       "                                    Generated Answer  \n",
       "0  No. As explained in part III.G, expert testimo...  \n",
       "1  Based on the record before us, it is impossibl...  \n",
       "2                                               None  \n",
       "3  Whether PFM may move for summary judgment coul...  \n",
       "4  Yes, it can refuse to enter into agreements un...  "
      ]
     },
     "execution_count": 112,
     "metadata": {},
     "output_type": "execute_result"
    }
   ],
   "source": [
    "lexgpt_with_reasoning.head()"
   ]
  },
  {
   "cell_type": "code",
   "execution_count": 113,
   "metadata": {
    "execution": {
     "iopub.execute_input": "2023-08-30T21:40:37.825573Z",
     "iopub.status.busy": "2023-08-30T21:40:37.825205Z",
     "iopub.status.idle": "2023-08-30T21:40:37.839373Z",
     "shell.execute_reply": "2023-08-30T21:40:37.838831Z",
     "shell.execute_reply.started": "2023-08-30T21:40:37.825554Z"
    }
   },
   "outputs": [],
   "source": [
    "gptj.dropna(inplace=True)\n",
    "gptj_with_reasoning.dropna(inplace=True)\n",
    "lexgpt.dropna(inplace=True)\n",
    "lexgpt_with_reasoning.dropna(inplace=True)"
   ]
  },
  {
   "cell_type": "code",
   "execution_count": 114,
   "metadata": {
    "execution": {
     "iopub.execute_input": "2023-08-30T21:40:37.840583Z",
     "iopub.status.busy": "2023-08-30T21:40:37.840050Z",
     "iopub.status.idle": "2023-08-30T21:40:37.846750Z",
     "shell.execute_reply": "2023-08-30T21:40:37.846249Z",
     "shell.execute_reply.started": "2023-08-30T21:40:37.840561Z"
    }
   },
   "outputs": [],
   "source": [
    "gptj = gptj[gptj['Generated Answer'] != '']\n",
    "gptj_with_reasoning = gptj_with_reasoning[gptj_with_reasoning['Generated Answer'] != '']\n",
    "lexgpt = lexgpt[lexgpt['Generated Answer'] != '']\n",
    "lexgpt_with_reasoning = lexgpt_with_reasoning[lexgpt_with_reasoning['Generated Answer'] != '']"
   ]
  },
  {
   "cell_type": "code",
   "execution_count": 115,
   "metadata": {
    "execution": {
     "iopub.execute_input": "2023-08-30T21:40:37.847939Z",
     "iopub.status.busy": "2023-08-30T21:40:37.847410Z",
     "iopub.status.idle": "2023-08-30T21:40:37.850735Z",
     "shell.execute_reply": "2023-08-30T21:40:37.850286Z",
     "shell.execute_reply.started": "2023-08-30T21:40:37.847917Z"
    }
   },
   "outputs": [],
   "source": [
    "from rouge import Rouge\n",
    "\n",
    "# Initialize the Rouge object\n",
    "rouge = Rouge()\n",
    "\n",
    "# Function to compute ROUGE scores between 'Answer' and 'Actual Answer' columns\n",
    "def compute_rouge_scores(row):\n",
    "    scores = rouge.get_scores(row['Generated Answer'], row['Answer'])\n",
    "    return scores[0]"
   ]
  },
  {
   "cell_type": "code",
   "execution_count": 116,
   "metadata": {
    "execution": {
     "iopub.execute_input": "2023-08-30T21:40:37.851667Z",
     "iopub.status.busy": "2023-08-30T21:40:37.851307Z",
     "iopub.status.idle": "2023-08-30T21:40:45.381704Z",
     "shell.execute_reply": "2023-08-30T21:40:45.381149Z",
     "shell.execute_reply.started": "2023-08-30T21:40:37.851648Z"
    }
   },
   "outputs": [],
   "source": [
    "# Apply the function to each row of the dataframe\n",
    "gptj['ROUGE Scores'] = gptj.apply(compute_rouge_scores, axis=1)\n",
    "gptj_with_reasoning['ROUGE Scores'] = gptj_with_reasoning.apply(compute_rouge_scores, axis=1)\n",
    "lexgpt['ROUGE Scores'] = lexgpt.apply(compute_rouge_scores, axis=1)\n",
    "lexgpt_with_reasoning['ROUGE Scores'] = lexgpt_with_reasoning.apply(compute_rouge_scores, axis=1)"
   ]
  },
  {
   "cell_type": "code",
   "execution_count": 117,
   "metadata": {
    "execution": {
     "iopub.execute_input": "2023-08-30T21:40:45.382973Z",
     "iopub.status.busy": "2023-08-30T21:40:45.382416Z",
     "iopub.status.idle": "2023-08-30T21:40:45.388213Z",
     "shell.execute_reply": "2023-08-30T21:40:45.387775Z",
     "shell.execute_reply.started": "2023-08-30T21:40:45.382951Z"
    }
   },
   "outputs": [],
   "source": [
    "#for each row row['rouge-1']['f'], row['rouge-2']['f'], row['rouge-l']['f'], row['rouge-1']['p'], row['rouge-2']['p'], row['rouge-l']['p'], row['rouge-1']['r'], row['rouge-2']['r'], row['rouge-l']['r']\n",
    "#calculate average f, p, r\n",
    "\n",
    "def separate_scores(df):\n",
    "    rouge_1_f = []\n",
    "    rouge_2_f = []\n",
    "    rouge_l_f = []\n",
    "    rouge_1_p = []\n",
    "    rouge_2_p = []\n",
    "    rouge_l_p = []\n",
    "    rouge_1_r = []\n",
    "    rouge_2_r = []\n",
    "    rouge_l_r = []\n",
    "\n",
    "    for index, row in df.iterrows():\n",
    "        rouge_1_f.append(row['ROUGE Scores']['rouge-1']['f'])\n",
    "        rouge_2_f.append(row['ROUGE Scores']['rouge-2']['f'])\n",
    "        rouge_l_f.append(row['ROUGE Scores']['rouge-l']['f'])\n",
    "        rouge_1_p.append(row['ROUGE Scores']['rouge-1']['p'])\n",
    "        rouge_2_p.append(row['ROUGE Scores']['rouge-2']['p'])\n",
    "        rouge_l_p.append(row['ROUGE Scores']['rouge-l']['p'])\n",
    "        rouge_1_r.append(row['ROUGE Scores']['rouge-1']['r'])\n",
    "        rouge_2_r.append(row['ROUGE Scores']['rouge-2']['r'])\n",
    "        rouge_l_r.append(row['ROUGE Scores']['rouge-l']['r'])\n",
    "\n",
    "    df['rouge-1-f'] = rouge_1_f\n",
    "    df['rouge-2-f'] = rouge_2_f\n",
    "    df['rouge-l-f'] = rouge_l_f\n",
    "    df['rouge-1-p'] = rouge_1_p\n",
    "    df['rouge-2-p'] = rouge_2_p\n",
    "    df['rouge-l-p'] = rouge_l_p\n",
    "    df['rouge-1-r'] = rouge_1_r\n",
    "    df['rouge-2-r'] = rouge_2_r\n",
    "    df['rouge-l-r'] = rouge_l_r\n",
    "\n",
    "    df = df.drop(columns=['ROUGE Scores'])\n",
    "\n",
    "    return df"
   ]
  },
  {
   "cell_type": "code",
   "execution_count": 118,
   "metadata": {
    "execution": {
     "iopub.execute_input": "2023-08-30T21:40:45.389192Z",
     "iopub.status.busy": "2023-08-30T21:40:45.388812Z",
     "iopub.status.idle": "2023-08-30T21:40:45.639946Z",
     "shell.execute_reply": "2023-08-30T21:40:45.639410Z",
     "shell.execute_reply.started": "2023-08-30T21:40:45.389167Z"
    }
   },
   "outputs": [],
   "source": [
    "gptj = separate_scores(gptj)\n",
    "gptj_with_reasoning = separate_scores(gptj_with_reasoning)\n",
    "lexgpt = separate_scores(lexgpt)\n",
    "lexgpt_with_reasoning = separate_scores(lexgpt_with_reasoning)"
   ]
  },
  {
   "cell_type": "code",
   "execution_count": 119,
   "metadata": {
    "execution": {
     "iopub.execute_input": "2023-08-30T21:40:45.641066Z",
     "iopub.status.busy": "2023-08-30T21:40:45.640634Z",
     "iopub.status.idle": "2023-08-30T21:41:20.438954Z",
     "shell.execute_reply": "2023-08-30T21:41:20.438169Z",
     "shell.execute_reply.started": "2023-08-30T21:40:45.641044Z"
    }
   },
   "outputs": [
    {
     "name": "stderr",
     "output_type": "stream",
     "text": [
      "Some weights of the model checkpoint at microsoft/deberta-xlarge-mnli were not used when initializing DebertaModel: ['classifier.weight', 'pooler.dense.weight', 'pooler.dense.bias', 'classifier.bias']\n",
      "- This IS expected if you are initializing DebertaModel from the checkpoint of a model trained on another task or with another architecture (e.g. initializing a BertForSequenceClassification model from a BertForPreTraining model).\n",
      "- This IS NOT expected if you are initializing DebertaModel from the checkpoint of a model that you expect to be exactly identical (initializing a BertForSequenceClassification model from a BertForSequenceClassification model).\n"
     ]
    },
    {
     "name": "stdout",
     "output_type": "stream",
     "text": [
      "calculating scores...\n",
      "computing bert embedding.\n"
     ]
    },
    {
     "data": {
      "application/vnd.jupyter.widget-view+json": {
       "model_id": "cad181797f12448db7d9dc4fd216d03a",
       "version_major": 2,
       "version_minor": 0
      },
      "text/plain": [
       "  0%|          | 0/47 [00:00<?, ?it/s]"
      ]
     },
     "metadata": {},
     "output_type": "display_data"
    },
    {
     "name": "stdout",
     "output_type": "stream",
     "text": [
      "computing greedy matching.\n"
     ]
    },
    {
     "data": {
      "application/vnd.jupyter.widget-view+json": {
       "model_id": "6009ab95e645409c9bcdf368fe1271d5",
       "version_major": 2,
       "version_minor": 0
      },
      "text/plain": [
       "  0%|          | 0/24 [00:00<?, ?it/s]"
      ]
     },
     "metadata": {},
     "output_type": "display_data"
    },
    {
     "name": "stdout",
     "output_type": "stream",
     "text": [
      "done in 26.48 seconds, 56.54 sentences/sec\n"
     ]
    }
   ],
   "source": [
    "from bert_score import score\n",
    "gptj_bp, gptj_br, gptj_bf= score(gptj['Generated Answer'].tolist(), gptj['Answer'].tolist(), model_type=\"microsoft/deberta-xlarge-mnli\", verbose=True)"
   ]
  },
  {
   "cell_type": "code",
   "execution_count": 120,
   "metadata": {
    "execution": {
     "iopub.execute_input": "2023-08-30T21:41:20.440398Z",
     "iopub.status.busy": "2023-08-30T21:41:20.440192Z",
     "iopub.status.idle": "2023-08-30T21:41:20.444763Z",
     "shell.execute_reply": "2023-08-30T21:41:20.444026Z",
     "shell.execute_reply.started": "2023-08-30T21:41:20.440378Z"
    }
   },
   "outputs": [
    {
     "name": "stdout",
     "output_type": "stream",
     "text": [
      "System level F1 score: 0.679\n"
     ]
    }
   ],
   "source": [
    "print(f\"System level F1 score: {gptj_bf.mean():.3f}\")"
   ]
  },
  {
   "cell_type": "code",
   "execution_count": 121,
   "metadata": {
    "execution": {
     "iopub.execute_input": "2023-08-30T21:41:20.446127Z",
     "iopub.status.busy": "2023-08-30T21:41:20.445929Z",
     "iopub.status.idle": "2023-08-30T21:41:50.884684Z",
     "shell.execute_reply": "2023-08-30T21:41:50.883969Z",
     "shell.execute_reply.started": "2023-08-30T21:41:20.446109Z"
    }
   },
   "outputs": [
    {
     "name": "stderr",
     "output_type": "stream",
     "text": [
      "Some weights of the model checkpoint at microsoft/deberta-xlarge-mnli were not used when initializing DebertaModel: ['classifier.weight', 'pooler.dense.weight', 'pooler.dense.bias', 'classifier.bias']\n",
      "- This IS expected if you are initializing DebertaModel from the checkpoint of a model trained on another task or with another architecture (e.g. initializing a BertForSequenceClassification model from a BertForPreTraining model).\n",
      "- This IS NOT expected if you are initializing DebertaModel from the checkpoint of a model that you expect to be exactly identical (initializing a BertForSequenceClassification model from a BertForSequenceClassification model).\n"
     ]
    },
    {
     "name": "stdout",
     "output_type": "stream",
     "text": [
      "calculating scores...\n",
      "computing bert embedding.\n"
     ]
    },
    {
     "data": {
      "application/vnd.jupyter.widget-view+json": {
       "model_id": "df28e14053444757b5546f03605b6184",
       "version_major": 2,
       "version_minor": 0
      },
      "text/plain": [
       "  0%|          | 0/45 [00:00<?, ?it/s]"
      ]
     },
     "metadata": {},
     "output_type": "display_data"
    },
    {
     "name": "stdout",
     "output_type": "stream",
     "text": [
      "computing greedy matching.\n"
     ]
    },
    {
     "data": {
      "application/vnd.jupyter.widget-view+json": {
       "model_id": "4853d445a46e4ed59a361760403f2ed9",
       "version_major": 2,
       "version_minor": 0
      },
      "text/plain": [
       "  0%|          | 0/23 [00:00<?, ?it/s]"
      ]
     },
     "metadata": {},
     "output_type": "display_data"
    },
    {
     "name": "stdout",
     "output_type": "stream",
     "text": [
      "done in 23.14 seconds, 61.85 sentences/sec\n",
      "System level F1 score: 0.698\n"
     ]
    }
   ],
   "source": [
    "gptj_with_reasoning_bp, gptj_with_reasoning_br, gptj_with_reasoning_bf= score(gptj_with_reasoning['Generated Answer'].tolist(), gptj_with_reasoning['Answer'].tolist(), model_type=\"microsoft/deberta-xlarge-mnli\", verbose=True)\n",
    "\n",
    "print(f\"System level F1 score: {gptj_with_reasoning_bf.mean():.3f}\")"
   ]
  },
  {
   "cell_type": "code",
   "execution_count": 122,
   "metadata": {
    "execution": {
     "iopub.execute_input": "2023-08-30T21:41:50.886132Z",
     "iopub.status.busy": "2023-08-30T21:41:50.885649Z",
     "iopub.status.idle": "2023-08-30T21:42:49.620822Z",
     "shell.execute_reply": "2023-08-30T21:42:49.620162Z",
     "shell.execute_reply.started": "2023-08-30T21:41:50.886110Z"
    }
   },
   "outputs": [
    {
     "name": "stderr",
     "output_type": "stream",
     "text": [
      "Some weights of the model checkpoint at microsoft/deberta-xlarge-mnli were not used when initializing DebertaModel: ['classifier.weight', 'pooler.dense.weight', 'pooler.dense.bias', 'classifier.bias']\n",
      "- This IS expected if you are initializing DebertaModel from the checkpoint of a model trained on another task or with another architecture (e.g. initializing a BertForSequenceClassification model from a BertForPreTraining model).\n",
      "- This IS NOT expected if you are initializing DebertaModel from the checkpoint of a model that you expect to be exactly identical (initializing a BertForSequenceClassification model from a BertForSequenceClassification model).\n"
     ]
    },
    {
     "name": "stdout",
     "output_type": "stream",
     "text": [
      "calculating scores...\n",
      "computing bert embedding.\n"
     ]
    },
    {
     "data": {
      "application/vnd.jupyter.widget-view+json": {
       "model_id": "93b32927296b428abb31a027844ac60f",
       "version_major": 2,
       "version_minor": 0
      },
      "text/plain": [
       "  0%|          | 0/44 [00:00<?, ?it/s]"
      ]
     },
     "metadata": {},
     "output_type": "display_data"
    },
    {
     "name": "stdout",
     "output_type": "stream",
     "text": [
      "computing greedy matching.\n"
     ]
    },
    {
     "data": {
      "application/vnd.jupyter.widget-view+json": {
       "model_id": "9fa03dcba80542d59d423eab81fc6500",
       "version_major": 2,
       "version_minor": 0
      },
      "text/plain": [
       "  0%|          | 0/24 [00:00<?, ?it/s]"
      ]
     },
     "metadata": {},
     "output_type": "display_data"
    },
    {
     "name": "stdout",
     "output_type": "stream",
     "text": [
      "done in 24.86 seconds, 59.93 sentences/sec\n",
      "System level F1 score: 0.579\n"
     ]
    },
    {
     "name": "stderr",
     "output_type": "stream",
     "text": [
      "Some weights of the model checkpoint at microsoft/deberta-xlarge-mnli were not used when initializing DebertaModel: ['classifier.weight', 'pooler.dense.weight', 'pooler.dense.bias', 'classifier.bias']\n",
      "- This IS expected if you are initializing DebertaModel from the checkpoint of a model trained on another task or with another architecture (e.g. initializing a BertForSequenceClassification model from a BertForPreTraining model).\n",
      "- This IS NOT expected if you are initializing DebertaModel from the checkpoint of a model that you expect to be exactly identical (initializing a BertForSequenceClassification model from a BertForSequenceClassification model).\n"
     ]
    },
    {
     "name": "stdout",
     "output_type": "stream",
     "text": [
      "calculating scores...\n",
      "computing bert embedding.\n"
     ]
    },
    {
     "data": {
      "application/vnd.jupyter.widget-view+json": {
       "model_id": "af411f02328e4947a38b41590df2b095",
       "version_major": 2,
       "version_minor": 0
      },
      "text/plain": [
       "  0%|          | 0/28 [00:00<?, ?it/s]"
      ]
     },
     "metadata": {},
     "output_type": "display_data"
    },
    {
     "name": "stdout",
     "output_type": "stream",
     "text": [
      "computing greedy matching.\n"
     ]
    },
    {
     "data": {
      "application/vnd.jupyter.widget-view+json": {
       "model_id": "a641e0165062489d97d9497376610d33",
       "version_major": 2,
       "version_minor": 0
      },
      "text/plain": [
       "  0%|          | 0/15 [00:00<?, ?it/s]"
      ]
     },
     "metadata": {},
     "output_type": "display_data"
    },
    {
     "name": "stdout",
     "output_type": "stream",
     "text": [
      "done in 16.43 seconds, 55.82 sentences/sec\n",
      "System level F1 score: 0.585\n"
     ]
    }
   ],
   "source": [
    "lexgpt_bp, lexgpt_br, lexgpt_bf= score(lexgpt['Generated Answer'].tolist(), lexgpt['Answer'].tolist(), model_type=\"microsoft/deberta-xlarge-mnli\", verbose=True)\n",
    "\n",
    "print(f\"System level F1 score: {lexgpt_bf.mean():.3f}\")\n",
    "\n",
    "lexgpt_with_reasoning_bp, lexgpt_with_reasoning_br, lexgpt_with_reasoning_bf= score(lexgpt_with_reasoning['Generated Answer'].tolist(), lexgpt_with_reasoning['Answer'].tolist(), model_type=\"microsoft/deberta-xlarge-mnli\", verbose=True)\n",
    "\n",
    "print(f\"System level F1 score: {lexgpt_with_reasoning_bf.mean():.3f}\")"
   ]
  },
  {
   "cell_type": "code",
   "execution_count": 123,
   "metadata": {
    "execution": {
     "iopub.execute_input": "2023-08-30T21:42:49.621771Z",
     "iopub.status.busy": "2023-08-30T21:42:49.621585Z",
     "iopub.status.idle": "2023-08-30T21:42:49.635665Z",
     "shell.execute_reply": "2023-08-30T21:42:49.635100Z",
     "shell.execute_reply.started": "2023-08-30T21:42:49.621751Z"
    }
   },
   "outputs": [
    {
     "name": "stdout",
     "output_type": "stream",
     "text": [
      "GPT-J rouge-1-f mean: 0.4669\n",
      "GPT-J rouge-2-f mean: 0.2974\n",
      "GPT-J rouge-l-f mean: 0.4265\n",
      "GPT-J rouge-1-p mean: 0.4858\n",
      "GPT-J rouge-2-p mean: 0.3108\n",
      "GPT-J rouge-l-p mean: 0.4432\n",
      "GPT-J rouge-1-r mean: 0.5007\n",
      "GPT-J rouge-2-r mean: 0.3307\n",
      "GPT-J rouge-l-r mean: 0.4583\n",
      "GPT-J bert-f mean: 0.6794\n",
      "GPT-J bert-p mean: 0.6814\n",
      "GPT-J bert-r mean: 0.6870\n",
      "GPT-J with reasoning rouge-1-f mean: 0.4875\n",
      "GPT-J with reasoning rouge-2-f mean: 0.3080\n",
      "GPT-J with reasoning rouge-l-f mean: 0.4461\n",
      "GPT-J with reasoning rouge-1-p mean: 0.5170\n",
      "GPT-J with reasoning rouge-2-p mean: 0.3313\n",
      "GPT-J with reasoning rouge-l-p mean: 0.4734\n",
      "GPT-J with reasoning rouge-1-r mean: 0.5096\n",
      "GPT-J with reasoning rouge-2-r mean: 0.3320\n",
      "GPT-J with reasoning rouge-l-r mean: 0.4662\n",
      "GPT-J with reasoning bert-f mean: 0.6981\n",
      "GPT-J with reasoning bert-p mean: 0.7080\n",
      "GPT-J with reasoning bert-r mean: 0.6962\n",
      "LexGPT rouge-1-f mean: 0.2858\n",
      "LexGPT rouge-2-f mean: 0.1519\n",
      "LexGPT rouge-l-f mean: 0.2564\n",
      "LexGPT rouge-1-p mean: 0.3407\n",
      "LexGPT rouge-2-p mean: 0.1877\n",
      "LexGPT rouge-l-p mean: 0.3073\n",
      "LexGPT rouge-1-r mean: 0.2897\n",
      "LexGPT rouge-2-r mean: 0.1551\n",
      "LexGPT rouge-l-r mean: 0.2591\n",
      "LexGPT bert-f mean: 0.5794\n",
      "LexGPT bert-p mean: 0.6371\n",
      "LexGPT bert-r mean: 0.5550\n",
      "LexGPT with reasoning rouge-1-f mean: 0.3054\n",
      "LexGPT with reasoning rouge-2-f mean: 0.1486\n",
      "LexGPT with reasoning rouge-l-f mean: 0.2703\n",
      "LexGPT with reasoning rouge-1-p mean: 0.3423\n",
      "LexGPT with reasoning rouge-2-p mean: 0.1679\n",
      "LexGPT with reasoning rouge-l-p mean: 0.3051\n",
      "LexGPT with reasoning rouge-1-r mean: 0.3220\n",
      "LexGPT with reasoning rouge-2-r mean: 0.1644\n",
      "LexGPT with reasoning rouge-l-r mean: 0.2842\n",
      "LexGPT with reasoning bert-f mean: 0.5848\n",
      "LexGPT with reasoning bert-p mean: 0.6197\n",
      "LexGPT with reasoning bert-r mean: 0.5711\n"
     ]
    }
   ],
   "source": [
    "#mean of all rouge scores\n",
    "print(f\"GPT-J rouge-1-f mean: {gptj['rouge-1-f'].mean():.4f}\")\n",
    "print(f\"GPT-J rouge-2-f mean: {gptj['rouge-2-f'].mean():.4f}\")\n",
    "print(f\"GPT-J rouge-l-f mean: {gptj['rouge-l-f'].mean():.4f}\")\n",
    "print(f\"GPT-J rouge-1-p mean: {gptj['rouge-1-p'].mean():.4f}\")\n",
    "print(f\"GPT-J rouge-2-p mean: {gptj['rouge-2-p'].mean():.4f}\")\n",
    "print(f\"GPT-J rouge-l-p mean: {gptj['rouge-l-p'].mean():.4f}\")\n",
    "print(f\"GPT-J rouge-1-r mean: {gptj['rouge-1-r'].mean():.4f}\")\n",
    "print(f\"GPT-J rouge-2-r mean: {gptj['rouge-2-r'].mean():.4f}\")\n",
    "print(f\"GPT-J rouge-l-r mean: {gptj['rouge-l-r'].mean():.4f}\")\n",
    "print(f\"GPT-J bert-f mean: {gptj_bf.mean():.4f}\")\n",
    "print(f\"GPT-J bert-p mean: {gptj_bp.mean():.4f}\")\n",
    "print(f\"GPT-J bert-r mean: {gptj_br.mean():.4f}\")\n",
    "\n",
    "\n",
    "print(f\"GPT-J with reasoning rouge-1-f mean: {gptj_with_reasoning['rouge-1-f'].mean():.4f}\")\n",
    "print(f\"GPT-J with reasoning rouge-2-f mean: {gptj_with_reasoning['rouge-2-f'].mean():.4f}\")\n",
    "print(f\"GPT-J with reasoning rouge-l-f mean: {gptj_with_reasoning['rouge-l-f'].mean():.4f}\")\n",
    "print(f\"GPT-J with reasoning rouge-1-p mean: {gptj_with_reasoning['rouge-1-p'].mean():.4f}\")\n",
    "print(f\"GPT-J with reasoning rouge-2-p mean: {gptj_with_reasoning['rouge-2-p'].mean():.4f}\")\n",
    "print(f\"GPT-J with reasoning rouge-l-p mean: {gptj_with_reasoning['rouge-l-p'].mean():.4f}\")\n",
    "print(f\"GPT-J with reasoning rouge-1-r mean: {gptj_with_reasoning['rouge-1-r'].mean():.4f}\")\n",
    "print(f\"GPT-J with reasoning rouge-2-r mean: {gptj_with_reasoning['rouge-2-r'].mean():.4f}\")\n",
    "print(f\"GPT-J with reasoning rouge-l-r mean: {gptj_with_reasoning['rouge-l-r'].mean():.4f}\")\n",
    "print(f\"GPT-J with reasoning bert-f mean: {gptj_with_reasoning_bf.mean():.4f}\")\n",
    "print(f\"GPT-J with reasoning bert-p mean: {gptj_with_reasoning_bp.mean():.4f}\")\n",
    "print(f\"GPT-J with reasoning bert-r mean: {gptj_with_reasoning_br.mean():.4f}\")\n",
    "\n",
    "print(f\"LexGPT rouge-1-f mean: {lexgpt['rouge-1-f'].mean():.4f}\")\n",
    "print(f\"LexGPT rouge-2-f mean: {lexgpt['rouge-2-f'].mean():.4f}\")\n",
    "print(f\"LexGPT rouge-l-f mean: {lexgpt['rouge-l-f'].mean():.4f}\")\n",
    "print(f\"LexGPT rouge-1-p mean: {lexgpt['rouge-1-p'].mean():.4f}\")\n",
    "print(f\"LexGPT rouge-2-p mean: {lexgpt['rouge-2-p'].mean():.4f}\")\n",
    "print(f\"LexGPT rouge-l-p mean: {lexgpt['rouge-l-p'].mean():.4f}\")\n",
    "print(f\"LexGPT rouge-1-r mean: {lexgpt['rouge-1-r'].mean():.4f}\")\n",
    "print(f\"LexGPT rouge-2-r mean: {lexgpt['rouge-2-r'].mean():.4f}\")\n",
    "print(f\"LexGPT rouge-l-r mean: {lexgpt['rouge-l-r'].mean():.4f}\")\n",
    "print(f\"LexGPT bert-f mean: {lexgpt_bf.mean():.4f}\")\n",
    "print(f\"LexGPT bert-p mean: {lexgpt_bp.mean():.4f}\")\n",
    "print(f\"LexGPT bert-r mean: {lexgpt_br.mean():.4f}\")\n",
    "\n",
    "print(f\"LexGPT with reasoning rouge-1-f mean: {lexgpt_with_reasoning['rouge-1-f'].mean():.4f}\")\n",
    "print(f\"LexGPT with reasoning rouge-2-f mean: {lexgpt_with_reasoning['rouge-2-f'].mean():.4f}\")\n",
    "print(f\"LexGPT with reasoning rouge-l-f mean: {lexgpt_with_reasoning['rouge-l-f'].mean():.4f}\")\n",
    "print(f\"LexGPT with reasoning rouge-1-p mean: {lexgpt_with_reasoning['rouge-1-p'].mean():.4f}\")\n",
    "print(f\"LexGPT with reasoning rouge-2-p mean: {lexgpt_with_reasoning['rouge-2-p'].mean():.4f}\")\n",
    "print(f\"LexGPT with reasoning rouge-l-p mean: {lexgpt_with_reasoning['rouge-l-p'].mean():.4f}\")\n",
    "print(f\"LexGPT with reasoning rouge-1-r mean: {lexgpt_with_reasoning['rouge-1-r'].mean():.4f}\")\n",
    "print(f\"LexGPT with reasoning rouge-2-r mean: {lexgpt_with_reasoning['rouge-2-r'].mean():.4f}\")\n",
    "print(f\"LexGPT with reasoning rouge-l-r mean: {lexgpt_with_reasoning['rouge-l-r'].mean():.4f}\")\n",
    "print(f\"LexGPT with reasoning bert-f mean: {lexgpt_with_reasoning_bf.mean():.4f}\")\n",
    "print(f\"LexGPT with reasoning bert-p mean: {lexgpt_with_reasoning_bp.mean():.4f}\")\n",
    "print(f\"LexGPT with reasoning bert-r mean: {lexgpt_with_reasoning_br.mean():.4f}\")\n"
   ]
  },
  {
   "cell_type": "code",
   "execution_count": 124,
   "metadata": {
    "execution": {
     "iopub.execute_input": "2023-08-30T21:42:49.636633Z",
     "iopub.status.busy": "2023-08-30T21:42:49.636450Z",
     "iopub.status.idle": "2023-08-30T21:42:49.885857Z",
     "shell.execute_reply": "2023-08-30T21:42:49.885285Z",
     "shell.execute_reply.started": "2023-08-30T21:42:49.636615Z"
    }
   },
   "outputs": [
    {
     "data": {
      "image/png": "[encoded data removed]",
      "text/plain": [
       "<Figure size 1600x800 with 1 Axes>"
      ]
     },
     "metadata": {},
     "output_type": "display_data"
    }
   ],
   "source": [
    "import matplotlib.pyplot as plt\n",
    "\n",
    "import numpy as np\n",
    "\n",
    "# Data\n",
    "\n",
    "labels = ['Rouge-1-f', 'Rouge-2-f', 'Rouge-L-f', 'Rouge-1-p', 'Rouge-2-p', 'Rouge-L-p', 'Rouge-1-r', 'Rouge-2-r', 'Rouge-L-r', 'Bert-f', 'Bert-p', 'Bert-r']\n",
    "\n",
    "gpt_j = [gptj['rouge-1-f'].mean(), gptj['rouge-2-f'].mean(), gptj['rouge-l-f'].mean(), gptj['rouge-1-p'].mean(), gptj['rouge-2-p'].mean(), gptj['rouge-l-p'].mean(), gptj['rouge-1-r'].mean(), gptj['rouge-2-r'].mean(), gptj['rouge-l-r'].mean(), gptj_bf.mean(), gptj_bp.mean(), gptj_br.mean()]\n",
    "\n",
    "gpt_j_reasoning = [gptj_with_reasoning['rouge-1-f'].mean(), gptj_with_reasoning['rouge-2-f'].mean(), gptj_with_reasoning['rouge-l-f'].mean(), gptj_with_reasoning['rouge-1-p'].mean(), gptj_with_reasoning['rouge-2-p'].mean(), gptj_with_reasoning['rouge-l-p'].mean(), gptj_with_reasoning['rouge-1-r'].mean(), gptj_with_reasoning['rouge-2-r'].mean(), gptj_with_reasoning['rouge-l-r'].mean(), gptj_with_reasoning_bf.mean(), gptj_with_reasoning_bp.mean(), gptj_with_reasoning_br.mean()]\n",
    "\n",
    "lex_gpt = [lexgpt['rouge-1-f'].mean(), lexgpt['rouge-2-f'].mean(), lexgpt['rouge-l-f'].mean(), lexgpt['rouge-1-p'].mean(), lexgpt['rouge-2-p'].mean(), lexgpt['rouge-l-p'].mean(), lexgpt['rouge-1-r'].mean(), lexgpt['rouge-2-r'].mean(), lexgpt['rouge-l-r'].mean(), lexgpt_bf.mean(), lexgpt_bp.mean(), lexgpt_br.mean()]\n",
    "\n",
    "lex_gpt_reasoning = [lexgpt_with_reasoning['rouge-1-f'].mean(), lexgpt_with_reasoning['rouge-2-f'].mean(), lexgpt_with_reasoning['rouge-l-f'].mean(), lexgpt_with_reasoning['rouge-1-p'].mean(), lexgpt_with_reasoning['rouge-2-p'].mean(), lexgpt_with_reasoning['rouge-l-p'].mean(), lexgpt_with_reasoning['rouge-1-r'].mean(), lexgpt_with_reasoning['rouge-2-r'].mean(), lexgpt_with_reasoning['rouge-l-r'].mean(), lexgpt_with_reasoning_bf.mean(), lexgpt_with_reasoning_bp.mean(), lexgpt_with_reasoning_br.mean()]\n",
    "\n",
    "# Plotting with updated requirements\n",
    "fig, ax = plt.subplots(figsize=(16, 8))\n",
    "\n",
    "# Different colors for each model\n",
    "colors = ['blue', 'green', 'red', 'purple']\n",
    "\n",
    "rects1 = ax.bar(x - width*1.5, gpt_j, width, label='GPT-J', color=colors[0])\n",
    "rects2 = ax.bar(x - width/2, gpt_j_reasoning, width, label='GPT-J with Reasoning', color=colors[1])\n",
    "rects3 = ax.bar(x + width/2, lex_gpt, width, label='LexGPT', color=colors[2])\n",
    "rects4 = ax.bar(x + width*1.5, lex_gpt_reasoning, width, label='LexGPT with Reasoning', color=colors[3])\n",
    "\n",
    "# Add some text for labels, title and custom x-axis tick labels, etc.\n",
    "ax.set_ylabel('Metrics Value')\n",
    "ax.set_title('Comparison of NLP Metrics Across Models')\n",
    "ax.set_xticks(x)\n",
    "# Update label names to include Bert-Score prefix\n",
    "updated_labels = [label if 'Bert' not in label else 'Bert-Score ' + label.split('-')[-1] for label in labels]\n",
    "ax.set_xticklabels(updated_labels)\n",
    "ax.legend()\n",
    "\n",
    "plt.xticks(rotation=45)\n",
    "plt.tight_layout()\n",
    "plt.show()"
   ]
  },
  {
   "cell_type": "code",
   "execution_count": 125,
   "metadata": {
    "execution": {
     "iopub.execute_input": "2023-08-30T21:42:49.886835Z",
     "iopub.status.busy": "2023-08-30T21:42:49.886639Z",
     "iopub.status.idle": "2023-08-30T21:42:50.179951Z",
     "shell.execute_reply": "2023-08-30T21:42:50.179300Z",
     "shell.execute_reply.started": "2023-08-30T21:42:49.886812Z"
    }
   },
   "outputs": [
    {
     "data": {
      "image/png": "[encoded data removed]",
      "text/plain": [
       "<Figure size 1200x600 with 1 Axes>"
      ]
     },
     "metadata": {},
     "output_type": "display_data"
    },
    {
     "data": {
      "image/png": "[encoded data removed]",
      "text/plain": [
       "<Figure size 1200x600 with 1 Axes>"
      ]
     },
     "metadata": {},
     "output_type": "display_data"
    }
   ],
   "source": [
    "# Calculate percent increase in metrics for each model\n",
    "\n",
    "def percent_increase(original, reasoning):\n",
    "\n",
    "    return ((np.array(reasoning) - np.array(original)) / np.array(original)) * 100\n",
    "\n",
    "\n",
    "# Calculating percent increases\n",
    "\n",
    "gpt_j_increase = percent_increase(gpt_j, gpt_j_reasoning)\n",
    "\n",
    "lex_gpt_increase = percent_increase(lex_gpt, lex_gpt_reasoning)\n",
    "\n",
    "\n",
    "# Function to determine bar colors based on value (positive or negative)\n",
    "def determine_colors(values):\n",
    "    return ['green' if val >= 0 else 'red' for val in values]\n",
    "\n",
    "# Determine colors for GPT-J and LexGPT bars\n",
    "gpt_j_colors = determine_colors(gpt_j_increase)\n",
    "lex_gpt_colors = determine_colors(lex_gpt_increase)\n",
    "\n",
    "# Plotting GPT-J Percent Increase with Color Coding\n",
    "fig, ax = plt.subplots(figsize=(12, 6))\n",
    "ax.bar(x, gpt_j_increase, 0.6, color=gpt_j_colors)\n",
    "ax.set_ylabel('Percent Increase (%)')\n",
    "ax.set_title('Percent Increase in GPT-J Metrics With Reasoning Enhancements')\n",
    "ax.set_xticks(x)\n",
    "ax.set_xticklabels(updated_labels)\n",
    "plt.xticks(rotation=45)\n",
    "plt.tight_layout()\n",
    "plt.show()\n",
    "\n",
    "# Plotting LexGPT Percent Increase with Color Coding\n",
    "fig, ax = plt.subplots(figsize=(12, 6))\n",
    "ax.bar(x, lex_gpt_increase, 0.6, color=lex_gpt_colors)\n",
    "ax.set_ylabel('Percent Increase (%)')\n",
    "ax.set_title('Percent Increase in LexGPT Metrics With Reasoning Enhancements')\n",
    "ax.set_xticks(x)\n",
    "ax.set_xticklabels(updated_labels)\n",
    "plt.xticks(rotation=45)\n",
    "plt.tight_layout()\n",
    "plt.show()"
   ]
  },
  {
   "cell_type": "code",
   "execution_count": 126,
   "metadata": {
    "execution": {
     "iopub.execute_input": "2023-08-30T21:42:50.181290Z",
     "iopub.status.busy": "2023-08-30T21:42:50.180733Z",
     "iopub.status.idle": "2023-08-30T21:42:52.153167Z",
     "shell.execute_reply": "2023-08-30T21:42:52.152584Z",
     "shell.execute_reply.started": "2023-08-30T21:42:50.181269Z"
    }
   },
   "outputs": [
    {
     "data": {
      "text/plain": [
       "Text(0.5, 1.0, 'LexGPT with reasoning bert-f')"
      ]
     },
     "execution_count": 126,
     "metadata": {},
     "output_type": "execute_result"
    },
    {
     "data": {
      "image/png": "[encoded data removed]",
      "text/plain": [
       "<Figure size 1000x1000 with 4 Axes>"
      ]
     },
     "metadata": {},
     "output_type": "display_data"
    },
    {
     "data": {
      "image/png": "[encoded data removed]",
      "text/plain": [
       "<Figure size 1000x1000 with 4 Axes>"
      ]
     },
     "metadata": {},
     "output_type": "display_data"
    },
    {
     "data": {
      "image/png": "[encoded data removed]",
      "text/plain": [
       "<Figure size 1000x1000 with 4 Axes>"
      ]
     },
     "metadata": {},
     "output_type": "display_data"
    },
    {
     "data": {
      "image/png": "[encoded data removed]",
      "text/plain": [
       "<Figure size 1000x1000 with 4 Axes>"
      ]
     },
     "metadata": {},
     "output_type": "display_data"
    }
   ],
   "source": [
    "#plot distribution of scores for each model\n",
    "import matplotlib.pyplot as plt\n",
    "\n",
    "fig, axs = plt.subplots(2, 2, figsize=(10, 10))\n",
    "axs[0, 0].hist(gptj['rouge-1-f'], bins=20)\n",
    "axs[0, 0].set_title('GPT-J rouge-1-f')\n",
    "axs[0, 1].hist(gptj['rouge-2-f'], bins=20)\n",
    "axs[0, 1].set_title('GPT-J rouge-2-f')\n",
    "axs[1, 0].hist(gptj['rouge-l-f'], bins=20)\n",
    "axs[1, 0].set_title('GPT-J rouge-l-f')\n",
    "axs[1, 1].hist(gptj_bf, bins=20)\n",
    "axs[1, 1].set_title('GPT-J bert-f')\n",
    "\n",
    "fig, axs = plt.subplots(2, 2, figsize=(10, 10))\n",
    "axs[0, 0].hist(gptj_with_reasoning['rouge-1-f'], bins=20)\n",
    "axs[0, 0].set_title('GPT-J with reasoning rouge-1-f')\n",
    "axs[0, 1].hist(gptj_with_reasoning['rouge-2-f'], bins=20)\n",
    "axs[0, 1].set_title('GPT-J with reasoning rouge-2-f')\n",
    "axs[1, 0].hist(gptj_with_reasoning['rouge-l-f'], bins=20)\n",
    "axs[1, 0].set_title('GPT-J with reasoning rouge-l-f')\n",
    "axs[1, 1].hist(gptj_with_reasoning_bf, bins=20)\n",
    "axs[1, 1].set_title('GPT-J with reasoning bert-f')\n",
    "\n",
    "fig, axs = plt.subplots(2, 2, figsize=(10, 10))\n",
    "axs[0, 0].hist(lexgpt['rouge-1-f'], bins=20)\n",
    "axs[0, 0].set_title('LexGPT rouge-1-f')\n",
    "axs[0, 1].hist(lexgpt['rouge-2-f'], bins=20)\n",
    "axs[0, 1].set_title('LexGPT rouge-2-f')\n",
    "axs[1, 0].hist(lexgpt['rouge-l-f'], bins=20)\n",
    "axs[1, 0].set_title('LexGPT rouge-l-f')\n",
    "axs[1, 1].hist(lexgpt_bf, bins=20)\n",
    "axs[1, 1].set_title('LexGPT bert-f')\n",
    "\n",
    "fig, axs = plt.subplots(2, 2, figsize=(10, 10))\n",
    "axs[0, 0].hist(lexgpt_with_reasoning['rouge-1-f'], bins=20)\n",
    "axs[0, 0].set_title('LexGPT with reasoning rouge-1-f')\n",
    "axs[0, 1].hist(lexgpt_with_reasoning['rouge-2-f'], bins=20)\n",
    "axs[0, 1].set_title('LexGPT with reasoning rouge-2-f')\n",
    "axs[1, 0].hist(lexgpt_with_reasoning['rouge-l-f'], bins=20)\n",
    "axs[1, 0].set_title('LexGPT with reasoning rouge-l-f')\n",
    "axs[1, 1].hist(lexgpt_with_reasoning_bf, bins=20)\n",
    "axs[1, 1].set_title('LexGPT with reasoning bert-f')"
   ]
  },
  {
   "cell_type": "code",
   "execution_count": null,
   "metadata": {},
   "outputs": [],
   "source": []
  }
 ],
 "metadata": {
  "kernelspec": {
   "display_name": "Python 3 (ipykernel)",
   "language": "python",
   "name": "python3"
  },
  "language_info": {
   "codemirror_mode": {
    "name": "ipython",
    "version": 3
   },
   "file_extension": ".py",
   "mimetype": "text/x-python",
   "name": "python",
   "nbconvert_exporter": "python",
   "pygments_lexer": "ipython3",
   "version": "3.9.16"
  }
 },
 "nbformat": 4,
 "nbformat_minor": 4
}
