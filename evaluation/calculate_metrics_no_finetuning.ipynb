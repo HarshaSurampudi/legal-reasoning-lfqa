{
 "cells": [
  {
   "cell_type": "code",
   "execution_count": 2,
   "metadata": {
    "execution": {
     "iopub.execute_input": "2023-09-01T13:38:40.073355Z",
     "iopub.status.busy": "2023-09-01T13:38:40.072919Z",
     "iopub.status.idle": "2023-09-01T13:38:42.698444Z",
     "shell.execute_reply": "2023-09-01T13:38:42.697666Z",
     "shell.execute_reply.started": "2023-09-01T13:38:40.073334Z"
    }
   },
   "outputs": [
    {
     "name": "stdout",
     "output_type": "stream",
     "text": [
      "\n",
      "\u001b[1m[\u001b[0m\u001b[34;49mnotice\u001b[0m\u001b[1;39;49m]\u001b[0m\u001b[39;49m A new release of pip available: \u001b[0m\u001b[31;49m22.3.1\u001b[0m\u001b[39;49m -> \u001b[0m\u001b[32;49m23.2.1\u001b[0m\n",
      "\u001b[1m[\u001b[0m\u001b[34;49mnotice\u001b[0m\u001b[1;39;49m]\u001b[0m\u001b[39;49m To update, run: \u001b[0m\u001b[32;49mpip install --upgrade pip\u001b[0m\n"
     ]
    }
   ],
   "source": [
    "!pip install rouge -q"
   ]
  },
  {
   "cell_type": "code",
   "execution_count": 3,
   "metadata": {
    "execution": {
     "iopub.execute_input": "2023-09-01T13:38:43.953578Z",
     "iopub.status.busy": "2023-09-01T13:38:43.953307Z",
     "iopub.status.idle": "2023-09-01T13:38:46.564039Z",
     "shell.execute_reply": "2023-09-01T13:38:46.563122Z",
     "shell.execute_reply.started": "2023-09-01T13:38:43.953547Z"
    }
   },
   "outputs": [
    {
     "name": "stdout",
     "output_type": "stream",
     "text": [
      "^C\n",
      "\u001b[31mERROR: Operation cancelled by user\u001b[0m\u001b[31m\n",
      "\u001b[0m\n",
      "\u001b[1m[\u001b[0m\u001b[34;49mnotice\u001b[0m\u001b[1;39;49m]\u001b[0m\u001b[39;49m A new release of pip available: \u001b[0m\u001b[31;49m22.3.1\u001b[0m\u001b[39;49m -> \u001b[0m\u001b[32;49m23.2.1\u001b[0m\n",
      "\u001b[1m[\u001b[0m\u001b[34;49mnotice\u001b[0m\u001b[1;39;49m]\u001b[0m\u001b[39;49m To update, run: \u001b[0m\u001b[32;49mpip install --upgrade pip\u001b[0m\n"
     ]
    }
   ],
   "source": [
    "!pip install bert_score -"
   ]
  },
  {
   "cell_type": "code",
   "execution_count": 1,
   "metadata": {
    "execution": {
     "iopub.execute_input": "2023-09-01T13:38:47.574410Z",
     "iopub.status.busy": "2023-09-01T13:38:47.574117Z",
     "iopub.status.idle": "2023-09-01T13:38:47.913059Z",
     "shell.execute_reply": "2023-09-01T13:38:47.912441Z",
     "shell.execute_reply.started": "2023-09-01T13:38:47.574387Z"
    }
   },
   "outputs": [],
   "source": [
    "import pandas as pd"
   ]
  },
  {
   "cell_type": "code",
   "execution_count": 2,
   "metadata": {
    "execution": {
     "iopub.execute_input": "2023-09-01T13:38:48.754103Z",
     "iopub.status.busy": "2023-09-01T13:38:48.753763Z",
     "iopub.status.idle": "2023-09-01T13:38:49.122814Z",
     "shell.execute_reply": "2023-09-01T13:38:49.122190Z",
     "shell.execute_reply.started": "2023-09-01T13:38:48.754082Z"
    }
   },
   "outputs": [],
   "source": [
    "gptj_zero = pd.read_csv('generated/gptj_zero_shot.csv')\n",
    "gptj_one = pd.read_csv('generated/gptj_one_shot.csv')\n",
    "gptj_few = pd.read_csv('generated/gptj_few_shot.csv')"
   ]
  },
  {
   "cell_type": "code",
   "execution_count": 3,
   "metadata": {
    "execution": {
     "iopub.execute_input": "2023-09-01T12:18:30.883011Z",
     "iopub.status.busy": "2023-09-01T12:18:30.882354Z",
     "iopub.status.idle": "2023-09-01T12:18:30.885785Z",
     "shell.execute_reply": "2023-09-01T12:18:30.885361Z",
     "shell.execute_reply.started": "2023-09-01T12:18:30.882988Z"
    }
   },
   "outputs": [],
   "source": [
    "import re\n",
    "\n",
    "# Function to extract answer using regular expression.\n",
    "def extract_answer_zero_shot(text):\n",
    "    shot = 0\n",
    "    matches = re.findall(r'Answer:(.*?)(?:\\n\\n|$)', text, re.S)\n",
    "    # Get the match based on the 'shot' parameter\n",
    "    if matches and shot < len(matches):\n",
    "        return matches[shot].strip()\n",
    "    return None\n",
    "\n",
    "def extract_answer_one_shot(text):\n",
    "    shot = 1\n",
    "    matches = re.findall(r'Answer:(.*?)(?:\\n\\n|$)', text, re.S)\n",
    "    # Get the match based on the 'shot' parameter\n",
    "    if matches and shot < len(matches):\n",
    "        return matches[shot].strip()\n",
    "    return None\n",
    "\n",
    "def extract_answer_few_shot(text):\n",
    "    shot = 3\n",
    "    matches = re.findall(r'Answer:(.*?)(?:\\n\\n|$)', text, re.S)\n",
    "    # Get the match based on the 'shot' parameter\n",
    "    if matches and shot < len(matches):\n",
    "        return matches[shot].strip()\n",
    "    return None"
   ]
  },
  {
   "cell_type": "code",
   "execution_count": 4,
   "metadata": {
    "execution": {
     "iopub.execute_input": "2023-09-01T12:18:32.888603Z",
     "iopub.status.busy": "2023-09-01T12:18:32.887941Z",
     "iopub.status.idle": "2023-09-01T12:18:32.948153Z",
     "shell.execute_reply": "2023-09-01T12:18:32.947684Z",
     "shell.execute_reply.started": "2023-09-01T12:18:32.888577Z"
    }
   },
   "outputs": [],
   "source": [
    "# Apply the function to the 'Generated Text' column.\n",
    "gptj_zero['Generated Answer'] = gptj_zero['Generated Text'].apply(extract_answer_zero_shot)\n",
    "gptj_one['Generated Answer'] = gptj_one['Generated Text'].apply(extract_answer_one_shot)\n",
    "gptj_few['Generated Answer'] = gptj_few['Generated Text'].apply(extract_answer_few_shot)"
   ]
  },
  {
   "cell_type": "code",
   "execution_count": 5,
   "metadata": {
    "execution": {
     "iopub.execute_input": "2023-09-01T12:18:35.788878Z",
     "iopub.status.busy": "2023-09-01T12:18:35.788228Z",
     "iopub.status.idle": "2023-09-01T12:18:35.796125Z",
     "shell.execute_reply": "2023-09-01T12:18:35.795685Z",
     "shell.execute_reply.started": "2023-09-01T12:18:35.788854Z"
    }
   },
   "outputs": [
    {
     "data": {
      "text/html": [
       "<div>\n",
       "<style scoped>\n",
       "    .dataframe tbody tr th:only-of-type {\n",
       "        vertical-align: middle;\n",
       "    }\n",
       "\n",
       "    .dataframe tbody tr th {\n",
       "        vertical-align: top;\n",
       "    }\n",
       "\n",
       "    .dataframe thead th {\n",
       "        text-align: right;\n",
       "    }\n",
       "</style>\n",
       "<table border=\"1\" class=\"dataframe\">\n",
       "  <thead>\n",
       "    <tr style=\"text-align: right;\">\n",
       "      <th></th>\n",
       "      <th>Context</th>\n",
       "      <th>Question</th>\n",
       "      <th>Legal Reasoning</th>\n",
       "      <th>Answer</th>\n",
       "      <th>Prompt</th>\n",
       "      <th>Generated Text</th>\n",
       "      <th>Generated Answer</th>\n",
       "    </tr>\n",
       "  </thead>\n",
       "  <tbody>\n",
       "    <tr>\n",
       "      <th>0</th>\n",
       "      <td>and Statistical Manual of Mental Disorders 446...</td>\n",
       "      <td>Can the defendants force Dr. Nadel to provide ...</td>\n",
       "      <td>The issue at hand pertains to the compulsion o...</td>\n",
       "      <td>No, according to the Graham v. Gielchinsky cas...</td>\n",
       "      <td>The following is task of context based long-fo...</td>\n",
       "      <td>The following is task of context based long-fo...</td>\n",
       "      <td>(a) He can be forced to testify against his wi...</td>\n",
       "    </tr>\n",
       "    <tr>\n",
       "      <th>1</th>\n",
       "      <td>one of his trial counsel as a witness, so the ...</td>\n",
       "      <td>Did the Appellee's trial counsel have knowledg...</td>\n",
       "      <td>The question at hand pertains to the knowledge...</td>\n",
       "      <td>It is uncertain whether the Appellee's trial c...</td>\n",
       "      <td>The following is task of context based long-fo...</td>\n",
       "      <td>The following is task of context based long-fo...</td>\n",
       "      <td>Yes. The trial counsel made known to all the d...</td>\n",
       "    </tr>\n",
       "    <tr>\n",
       "      <th>2</th>\n",
       "      <td>Some of Cruikshank’s objections on appeal appe...</td>\n",
       "      <td>Can Cruikshank's objections on the trial court...</td>\n",
       "      <td>The issue at hand pertains to the admissibilit...</td>\n",
       "      <td>No, Cruikshank's objections on the trial court...</td>\n",
       "      <td>The following is task of context based long-fo...</td>\n",
       "      <td>The following is task of context based long-fo...</td>\n",
       "      <td>Yes. But I can't decide this case on hearsay. ...</td>\n",
       "    </tr>\n",
       "    <tr>\n",
       "      <th>3</th>\n",
       "      <td>noting that the additional materials provided ...</td>\n",
       "      <td>Can the motion to strike filed by PFM be consi...</td>\n",
       "      <td>The question pertains to the categorization of...</td>\n",
       "      <td>Yes, the motion to strike filed by PFM can be ...</td>\n",
       "      <td>The following is task of context based long-fo...</td>\n",
       "      <td>The following is task of context based long-fo...</td>\n",
       "      <td>The issue raised by the defendant (\"Third-Part...</td>\n",
       "    </tr>\n",
       "    <tr>\n",
       "      <th>4</th>\n",
       "      <td>The State is within the powers reserved to it ...</td>\n",
       "      <td>Can the State refuse to enter into agreements ...</td>\n",
       "      <td>The question revolves around the State's power...</td>\n",
       "      <td>Yes, the State has the power to refuse to ente...</td>\n",
       "      <td>The following is task of context based long-fo...</td>\n",
       "      <td>The following is task of context based long-fo...</td>\n",
       "      <td>No\\nTo use:\\nhttp://www.jimdo.com/share/d73d01...</td>\n",
       "    </tr>\n",
       "  </tbody>\n",
       "</table>\n",
       "</div>"
      ],
      "text/plain": [
       "                                             Context  \\\n",
       "0  and Statistical Manual of Mental Disorders 446...   \n",
       "1  one of his trial counsel as a witness, so the ...   \n",
       "2  Some of Cruikshank’s objections on appeal appe...   \n",
       "3  noting that the additional materials provided ...   \n",
       "4  The State is within the powers reserved to it ...   \n",
       "\n",
       "                                            Question  \\\n",
       "0  Can the defendants force Dr. Nadel to provide ...   \n",
       "1  Did the Appellee's trial counsel have knowledg...   \n",
       "2  Can Cruikshank's objections on the trial court...   \n",
       "3  Can the motion to strike filed by PFM be consi...   \n",
       "4  Can the State refuse to enter into agreements ...   \n",
       "\n",
       "                                     Legal Reasoning  \\\n",
       "0  The issue at hand pertains to the compulsion o...   \n",
       "1  The question at hand pertains to the knowledge...   \n",
       "2  The issue at hand pertains to the admissibilit...   \n",
       "3  The question pertains to the categorization of...   \n",
       "4  The question revolves around the State's power...   \n",
       "\n",
       "                                              Answer  \\\n",
       "0  No, according to the Graham v. Gielchinsky cas...   \n",
       "1  It is uncertain whether the Appellee's trial c...   \n",
       "2  No, Cruikshank's objections on the trial court...   \n",
       "3  Yes, the motion to strike filed by PFM can be ...   \n",
       "4  Yes, the State has the power to refuse to ente...   \n",
       "\n",
       "                                              Prompt  \\\n",
       "0  The following is task of context based long-fo...   \n",
       "1  The following is task of context based long-fo...   \n",
       "2  The following is task of context based long-fo...   \n",
       "3  The following is task of context based long-fo...   \n",
       "4  The following is task of context based long-fo...   \n",
       "\n",
       "                                      Generated Text  \\\n",
       "0  The following is task of context based long-fo...   \n",
       "1  The following is task of context based long-fo...   \n",
       "2  The following is task of context based long-fo...   \n",
       "3  The following is task of context based long-fo...   \n",
       "4  The following is task of context based long-fo...   \n",
       "\n",
       "                                    Generated Answer  \n",
       "0  (a) He can be forced to testify against his wi...  \n",
       "1  Yes. The trial counsel made known to all the d...  \n",
       "2  Yes. But I can't decide this case on hearsay. ...  \n",
       "3  The issue raised by the defendant (\"Third-Part...  \n",
       "4  No\\nTo use:\\nhttp://www.jimdo.com/share/d73d01...  "
      ]
     },
     "execution_count": 5,
     "metadata": {},
     "output_type": "execute_result"
    }
   ],
   "source": [
    "gptj_zero.head()"
   ]
  },
  {
   "cell_type": "code",
   "execution_count": 6,
   "metadata": {
    "execution": {
     "iopub.execute_input": "2023-08-30T21:40:37.809091Z",
     "iopub.status.busy": "2023-08-30T21:40:37.808727Z",
     "iopub.status.idle": "2023-08-30T21:40:37.815598Z",
     "shell.execute_reply": "2023-08-30T21:40:37.815169Z",
     "shell.execute_reply.started": "2023-08-30T21:40:37.809071Z"
    }
   },
   "outputs": [
    {
     "data": {
      "text/html": [
       "<div>\n",
       "<style scoped>\n",
       "    .dataframe tbody tr th:only-of-type {\n",
       "        vertical-align: middle;\n",
       "    }\n",
       "\n",
       "    .dataframe tbody tr th {\n",
       "        vertical-align: top;\n",
       "    }\n",
       "\n",
       "    .dataframe thead th {\n",
       "        text-align: right;\n",
       "    }\n",
       "</style>\n",
       "<table border=\"1\" class=\"dataframe\">\n",
       "  <thead>\n",
       "    <tr style=\"text-align: right;\">\n",
       "      <th></th>\n",
       "      <th>Context</th>\n",
       "      <th>Question</th>\n",
       "      <th>Legal Reasoning</th>\n",
       "      <th>Answer</th>\n",
       "      <th>Prompt</th>\n",
       "      <th>Generated Text</th>\n",
       "      <th>Generated Answer</th>\n",
       "    </tr>\n",
       "  </thead>\n",
       "  <tbody>\n",
       "    <tr>\n",
       "      <th>0</th>\n",
       "      <td>and Statistical Manual of Mental Disorders 446...</td>\n",
       "      <td>Can the defendants force Dr. Nadel to provide ...</td>\n",
       "      <td>The issue at hand pertains to the compulsion o...</td>\n",
       "      <td>No, according to the Graham v. Gielchinsky cas...</td>\n",
       "      <td>The following is task of context based long-fo...</td>\n",
       "      <td>The following is task of context based long-fo...</td>\n",
       "      <td>No, defendants cannot compel Dr. Nadel's servi...</td>\n",
       "    </tr>\n",
       "    <tr>\n",
       "      <th>1</th>\n",
       "      <td>one of his trial counsel as a witness, so the ...</td>\n",
       "      <td>Did the Appellee's trial counsel have knowledg...</td>\n",
       "      <td>The question at hand pertains to the knowledge...</td>\n",
       "      <td>It is uncertain whether the Appellee's trial c...</td>\n",
       "      <td>The following is task of context based long-fo...</td>\n",
       "      <td>The following is task of context based long-fo...</td>\n",
       "      <td>Yes, Appellee's trial counsel had knowledge of...</td>\n",
       "    </tr>\n",
       "    <tr>\n",
       "      <th>2</th>\n",
       "      <td>Some of Cruikshank’s objections on appeal appe...</td>\n",
       "      <td>Can Cruikshank's objections on the trial court...</td>\n",
       "      <td>The issue at hand pertains to the admissibilit...</td>\n",
       "      <td>No, Cruikshank's objections on the trial court...</td>\n",
       "      <td>The following is task of context based long-fo...</td>\n",
       "      <td>The following is task of context based long-fo...</td>\n",
       "      <td>No, Cruikshank cannot use his objections on th...</td>\n",
       "    </tr>\n",
       "    <tr>\n",
       "      <th>3</th>\n",
       "      <td>noting that the additional materials provided ...</td>\n",
       "      <td>Can the motion to strike filed by PFM be consi...</td>\n",
       "      <td>The question pertains to the categorization of...</td>\n",
       "      <td>Yes, the motion to strike filed by PFM can be ...</td>\n",
       "      <td>The following is task of context based long-fo...</td>\n",
       "      <td>The following is task of context based long-fo...</td>\n",
       "      <td>Yes, the motion for summary judgment filed by ...</td>\n",
       "    </tr>\n",
       "    <tr>\n",
       "      <th>4</th>\n",
       "      <td>The State is within the powers reserved to it ...</td>\n",
       "      <td>Can the State refuse to enter into agreements ...</td>\n",
       "      <td>The question revolves around the State's power...</td>\n",
       "      <td>Yes, the State has the power to refuse to ente...</td>\n",
       "      <td>The following is task of context based long-fo...</td>\n",
       "      <td>The following is task of context based long-fo...</td>\n",
       "      <td>No, the State is within the powers reserved to...</td>\n",
       "    </tr>\n",
       "  </tbody>\n",
       "</table>\n",
       "</div>"
      ],
      "text/plain": [
       "                                             Context  \\\n",
       "0  and Statistical Manual of Mental Disorders 446...   \n",
       "1  one of his trial counsel as a witness, so the ...   \n",
       "2  Some of Cruikshank’s objections on appeal appe...   \n",
       "3  noting that the additional materials provided ...   \n",
       "4  The State is within the powers reserved to it ...   \n",
       "\n",
       "                                            Question  \\\n",
       "0  Can the defendants force Dr. Nadel to provide ...   \n",
       "1  Did the Appellee's trial counsel have knowledg...   \n",
       "2  Can Cruikshank's objections on the trial court...   \n",
       "3  Can the motion to strike filed by PFM be consi...   \n",
       "4  Can the State refuse to enter into agreements ...   \n",
       "\n",
       "                                     Legal Reasoning  \\\n",
       "0  The issue at hand pertains to the compulsion o...   \n",
       "1  The question at hand pertains to the knowledge...   \n",
       "2  The issue at hand pertains to the admissibilit...   \n",
       "3  The question pertains to the categorization of...   \n",
       "4  The question revolves around the State's power...   \n",
       "\n",
       "                                              Answer  \\\n",
       "0  No, according to the Graham v. Gielchinsky cas...   \n",
       "1  It is uncertain whether the Appellee's trial c...   \n",
       "2  No, Cruikshank's objections on the trial court...   \n",
       "3  Yes, the motion to strike filed by PFM can be ...   \n",
       "4  Yes, the State has the power to refuse to ente...   \n",
       "\n",
       "                                              Prompt  \\\n",
       "0  The following is task of context based long-fo...   \n",
       "1  The following is task of context based long-fo...   \n",
       "2  The following is task of context based long-fo...   \n",
       "3  The following is task of context based long-fo...   \n",
       "4  The following is task of context based long-fo...   \n",
       "\n",
       "                                      Generated Text  \\\n",
       "0  The following is task of context based long-fo...   \n",
       "1  The following is task of context based long-fo...   \n",
       "2  The following is task of context based long-fo...   \n",
       "3  The following is task of context based long-fo...   \n",
       "4  The following is task of context based long-fo...   \n",
       "\n",
       "                                    Generated Answer  \n",
       "0  No, defendants cannot compel Dr. Nadel's servi...  \n",
       "1  Yes, Appellee's trial counsel had knowledge of...  \n",
       "2  No, Cruikshank cannot use his objections on th...  \n",
       "3  Yes, the motion for summary judgment filed by ...  \n",
       "4  No, the State is within the powers reserved to...  "
      ]
     },
     "execution_count": 6,
     "metadata": {},
     "output_type": "execute_result"
    }
   ],
   "source": [
    "gptj_few.head()"
   ]
  },
  {
   "cell_type": "code",
   "execution_count": 8,
   "metadata": {
    "execution": {
     "iopub.execute_input": "2023-08-30T21:40:37.818187Z",
     "iopub.status.busy": "2023-08-30T21:40:37.817810Z",
     "iopub.status.idle": "2023-08-30T21:40:37.824621Z",
     "shell.execute_reply": "2023-08-30T21:40:37.824187Z",
     "shell.execute_reply.started": "2023-08-30T21:40:37.818168Z"
    }
   },
   "outputs": [
    {
     "name": "stdout",
     "output_type": "stream",
     "text": [
      "0\n",
      "0\n",
      "0\n"
     ]
    }
   ],
   "source": [
    "print(gptj_zero['Generated Answer'].isnull().sum())\n",
    "print(gptj_one['Generated Answer'].isnull().sum())\n",
    "print(gptj_few['Generated Answer'].isnull().sum())"
   ]
  },
  {
   "cell_type": "code",
   "execution_count": 9,
   "metadata": {
    "execution": {
     "iopub.execute_input": "2023-08-30T21:40:37.825573Z",
     "iopub.status.busy": "2023-08-30T21:40:37.825205Z",
     "iopub.status.idle": "2023-08-30T21:40:37.839373Z",
     "shell.execute_reply": "2023-08-30T21:40:37.838831Z",
     "shell.execute_reply.started": "2023-08-30T21:40:37.825554Z"
    }
   },
   "outputs": [],
   "source": [
    "gptj_zero.dropna(inplace=True)\n",
    "gptj_one.dropna(inplace=True)\n",
    "gptj_few.dropna(inplace=True)"
   ]
  },
  {
   "cell_type": "code",
   "execution_count": 10,
   "metadata": {
    "execution": {
     "iopub.execute_input": "2023-08-30T21:40:37.840583Z",
     "iopub.status.busy": "2023-08-30T21:40:37.840050Z",
     "iopub.status.idle": "2023-08-30T21:40:37.846750Z",
     "shell.execute_reply": "2023-08-30T21:40:37.846249Z",
     "shell.execute_reply.started": "2023-08-30T21:40:37.840561Z"
    }
   },
   "outputs": [],
   "source": [
    "gptj_zero = gptj_zero[gptj_zero['Generated Answer'] != '']\n",
    "gptj_one = gptj_one[gptj_one['Generated Answer'] != '']\n",
    "gptj_few = gptj_few[gptj_few['Generated Answer'] != '']"
   ]
  },
  {
   "cell_type": "code",
   "execution_count": 14,
   "metadata": {
    "execution": {
     "iopub.execute_input": "2023-08-30T21:40:37.847939Z",
     "iopub.status.busy": "2023-08-30T21:40:37.847410Z",
     "iopub.status.idle": "2023-08-30T21:40:37.850735Z",
     "shell.execute_reply": "2023-08-30T21:40:37.850286Z",
     "shell.execute_reply.started": "2023-08-30T21:40:37.847917Z"
    }
   },
   "outputs": [],
   "source": [
    "from rouge import Rouge\n",
    "\n",
    "# Initialize the Rouge object\n",
    "rouge = Rouge()\n",
    "\n",
    "# Function to compute ROUGE scores between 'Answer' and 'Actual Answer' columns\n",
    "def compute_rouge_scores(row):\n",
    "    scores = rouge.get_scores(row['Generated Answer'], row['Answer'])\n",
    "    return scores[0]"
   ]
  },
  {
   "cell_type": "code",
   "execution_count": 15,
   "metadata": {
    "execution": {
     "iopub.execute_input": "2023-08-30T21:40:37.851667Z",
     "iopub.status.busy": "2023-08-30T21:40:37.851307Z",
     "iopub.status.idle": "2023-08-30T21:40:45.381704Z",
     "shell.execute_reply": "2023-08-30T21:40:45.381149Z",
     "shell.execute_reply.started": "2023-08-30T21:40:37.851648Z"
    }
   },
   "outputs": [],
   "source": [
    "# Apply the function to each row of the dataframe\n",
    "gptj_zero['ROUGE Scores'] = gptj_zero.apply(compute_rouge_scores, axis=1)\n",
    "gptj_one['ROUGE Scores'] = gptj_one.apply(compute_rouge_scores, axis=1)\n",
    "gptj_few['ROUGE Scores'] = gptj_few.apply(compute_rouge_scores, axis=1)"
   ]
  },
  {
   "cell_type": "code",
   "execution_count": 16,
   "metadata": {
    "execution": {
     "iopub.execute_input": "2023-08-30T21:40:45.382973Z",
     "iopub.status.busy": "2023-08-30T21:40:45.382416Z",
     "iopub.status.idle": "2023-08-30T21:40:45.388213Z",
     "shell.execute_reply": "2023-08-30T21:40:45.387775Z",
     "shell.execute_reply.started": "2023-08-30T21:40:45.382951Z"
    }
   },
   "outputs": [],
   "source": [
    "#for each row row['rouge-1']['f'], row['rouge-2']['f'], row['rouge-l']['f'], row['rouge-1']['p'], row['rouge-2']['p'], row['rouge-l']['p'], row['rouge-1']['r'], row['rouge-2']['r'], row['rouge-l']['r']\n",
    "#calculate average f, p, r\n",
    "\n",
    "def separate_scores(df):\n",
    "    rouge_1_f = []\n",
    "    rouge_2_f = []\n",
    "    rouge_l_f = []\n",
    "    rouge_1_p = []\n",
    "    rouge_2_p = []\n",
    "    rouge_l_p = []\n",
    "    rouge_1_r = []\n",
    "    rouge_2_r = []\n",
    "    rouge_l_r = []\n",
    "\n",
    "    for index, row in df.iterrows():\n",
    "        rouge_1_f.append(row['ROUGE Scores']['rouge-1']['f'])\n",
    "        rouge_2_f.append(row['ROUGE Scores']['rouge-2']['f'])\n",
    "        rouge_l_f.append(row['ROUGE Scores']['rouge-l']['f'])\n",
    "        rouge_1_p.append(row['ROUGE Scores']['rouge-1']['p'])\n",
    "        rouge_2_p.append(row['ROUGE Scores']['rouge-2']['p'])\n",
    "        rouge_l_p.append(row['ROUGE Scores']['rouge-l']['p'])\n",
    "        rouge_1_r.append(row['ROUGE Scores']['rouge-1']['r'])\n",
    "        rouge_2_r.append(row['ROUGE Scores']['rouge-2']['r'])\n",
    "        rouge_l_r.append(row['ROUGE Scores']['rouge-l']['r'])\n",
    "\n",
    "    df['rouge-1-f'] = rouge_1_f\n",
    "    df['rouge-2-f'] = rouge_2_f\n",
    "    df['rouge-l-f'] = rouge_l_f\n",
    "    df['rouge-1-p'] = rouge_1_p\n",
    "    df['rouge-2-p'] = rouge_2_p\n",
    "    df['rouge-l-p'] = rouge_l_p\n",
    "    df['rouge-1-r'] = rouge_1_r\n",
    "    df['rouge-2-r'] = rouge_2_r\n",
    "    df['rouge-l-r'] = rouge_l_r\n",
    "\n",
    "    df = df.drop(columns=['ROUGE Scores'])\n",
    "\n",
    "    return df"
   ]
  },
  {
   "cell_type": "code",
   "execution_count": 17,
   "metadata": {
    "execution": {
     "iopub.execute_input": "2023-08-30T21:40:45.389192Z",
     "iopub.status.busy": "2023-08-30T21:40:45.388812Z",
     "iopub.status.idle": "2023-08-30T21:40:45.639946Z",
     "shell.execute_reply": "2023-08-30T21:40:45.639410Z",
     "shell.execute_reply.started": "2023-08-30T21:40:45.389167Z"
    }
   },
   "outputs": [],
   "source": [
    "gptj_zero = separate_scores(gptj_zero)\n",
    "gptj_one = separate_scores(gptj_one)\n",
    "gptj_few = separate_scores(gptj_few)"
   ]
  },
  {
   "cell_type": "code",
   "execution_count": 119,
   "metadata": {
    "execution": {
     "iopub.execute_input": "2023-08-30T21:40:45.641066Z",
     "iopub.status.busy": "2023-08-30T21:40:45.640634Z",
     "iopub.status.idle": "2023-08-30T21:41:20.438954Z",
     "shell.execute_reply": "2023-08-30T21:41:20.438169Z",
     "shell.execute_reply.started": "2023-08-30T21:40:45.641044Z"
    }
   },
   "outputs": [
    {
     "name": "stderr",
     "output_type": "stream",
     "text": [
      "Some weights of the model checkpoint at microsoft/deberta-xlarge-mnli were not used when initializing DebertaModel: ['classifier.weight', 'pooler.dense.weight', 'pooler.dense.bias', 'classifier.bias']\n",
      "- This IS expected if you are initializing DebertaModel from the checkpoint of a model trained on another task or with another architecture (e.g. initializing a BertForSequenceClassification model from a BertForPreTraining model).\n",
      "- This IS NOT expected if you are initializing DebertaModel from the checkpoint of a model that you expect to be exactly identical (initializing a BertForSequenceClassification model from a BertForSequenceClassification model).\n"
     ]
    },
    {
     "name": "stdout",
     "output_type": "stream",
     "text": [
      "calculating scores...\n",
      "computing bert embedding.\n"
     ]
    },
    {
     "data": {
      "application/vnd.jupyter.widget-view+json": {
       "model_id": "cad181797f12448db7d9dc4fd216d03a",
       "version_major": 2,
       "version_minor": 0
      },
      "text/plain": [
       "  0%|          | 0/47 [00:00<?, ?it/s]"
      ]
     },
     "metadata": {},
     "output_type": "display_data"
    },
    {
     "name": "stdout",
     "output_type": "stream",
     "text": [
      "computing greedy matching.\n"
     ]
    },
    {
     "data": {
      "application/vnd.jupyter.widget-view+json": {
       "model_id": "6009ab95e645409c9bcdf368fe1271d5",
       "version_major": 2,
       "version_minor": 0
      },
      "text/plain": [
       "  0%|          | 0/24 [00:00<?, ?it/s]"
      ]
     },
     "metadata": {},
     "output_type": "display_data"
    },
    {
     "name": "stdout",
     "output_type": "stream",
     "text": [
      "done in 26.48 seconds, 56.54 sentences/sec\n"
     ]
    }
   ],
   "source": [
    "from bert_score import score\n",
    "gptj_zero_bp, gptj_zero_br, gptj_zero_bf= score(gptj_zero['Generated Answer'].tolist(), gptj_zero['Answer'].tolist(), model_type=\"microsoft/deberta-xlarge-mnli\", verbose=True)"
   ]
  },
  {
   "cell_type": "code",
   "execution_count": 120,
   "metadata": {
    "execution": {
     "iopub.execute_input": "2023-08-30T21:41:20.440398Z",
     "iopub.status.busy": "2023-08-30T21:41:20.440192Z",
     "iopub.status.idle": "2023-08-30T21:41:20.444763Z",
     "shell.execute_reply": "2023-08-30T21:41:20.444026Z",
     "shell.execute_reply.started": "2023-08-30T21:41:20.440378Z"
    }
   },
   "outputs": [
    {
     "name": "stdout",
     "output_type": "stream",
     "text": [
      "System level F1 score: 0.679\n"
     ]
    }
   ],
   "source": [
    "print(f\"System level F1 score: {gptj_zero_bf.mean():.3f}\")"
   ]
  },
  {
   "cell_type": "code",
   "execution_count": 121,
   "metadata": {
    "execution": {
     "iopub.execute_input": "2023-08-30T21:41:20.446127Z",
     "iopub.status.busy": "2023-08-30T21:41:20.445929Z",
     "iopub.status.idle": "2023-08-30T21:41:50.884684Z",
     "shell.execute_reply": "2023-08-30T21:41:50.883969Z",
     "shell.execute_reply.started": "2023-08-30T21:41:20.446109Z"
    }
   },
   "outputs": [
    {
     "name": "stderr",
     "output_type": "stream",
     "text": [
      "Some weights of the model checkpoint at microsoft/deberta-xlarge-mnli were not used when initializing DebertaModel: ['classifier.weight', 'pooler.dense.weight', 'pooler.dense.bias', 'classifier.bias']\n",
      "- This IS expected if you are initializing DebertaModel from the checkpoint of a model trained on another task or with another architecture (e.g. initializing a BertForSequenceClassification model from a BertForPreTraining model).\n",
      "- This IS NOT expected if you are initializing DebertaModel from the checkpoint of a model that you expect to be exactly identical (initializing a BertForSequenceClassification model from a BertForSequenceClassification model).\n"
     ]
    },
    {
     "name": "stdout",
     "output_type": "stream",
     "text": [
      "calculating scores...\n",
      "computing bert embedding.\n"
     ]
    },
    {
     "data": {
      "application/vnd.jupyter.widget-view+json": {
       "model_id": "df28e14053444757b5546f03605b6184",
       "version_major": 2,
       "version_minor": 0
      },
      "text/plain": [
       "  0%|          | 0/45 [00:00<?, ?it/s]"
      ]
     },
     "metadata": {},
     "output_type": "display_data"
    },
    {
     "name": "stdout",
     "output_type": "stream",
     "text": [
      "computing greedy matching.\n"
     ]
    },
    {
     "data": {
      "application/vnd.jupyter.widget-view+json": {
       "model_id": "4853d445a46e4ed59a361760403f2ed9",
       "version_major": 2,
       "version_minor": 0
      },
      "text/plain": [
       "  0%|          | 0/23 [00:00<?, ?it/s]"
      ]
     },
     "metadata": {},
     "output_type": "display_data"
    },
    {
     "name": "stdout",
     "output_type": "stream",
     "text": [
      "done in 23.14 seconds, 61.85 sentences/sec\n",
      "System level F1 score: 0.698\n"
     ]
    }
   ],
   "source": [
    "gptj_one_bp, gptj_one_br, gptj_one_bf= score(gptj_one['Generated Answer'].tolist(), gptj_one['Answer'].tolist(), model_type=\"microsoft/deberta-xlarge-mnli\", verbose=True)\n",
    "\n",
    "print(f\"System level F1 score: {gptj_one_bf.mean():.3f}\")"
   ]
  },
  {
   "cell_type": "code",
   "execution_count": 122,
   "metadata": {
    "execution": {
     "iopub.execute_input": "2023-08-30T21:41:50.886132Z",
     "iopub.status.busy": "2023-08-30T21:41:50.885649Z",
     "iopub.status.idle": "2023-08-30T21:42:49.620822Z",
     "shell.execute_reply": "2023-08-30T21:42:49.620162Z",
     "shell.execute_reply.started": "2023-08-30T21:41:50.886110Z"
    }
   },
   "outputs": [
    {
     "name": "stderr",
     "output_type": "stream",
     "text": [
      "Some weights of the model checkpoint at microsoft/deberta-xlarge-mnli were not used when initializing DebertaModel: ['classifier.weight', 'pooler.dense.weight', 'pooler.dense.bias', 'classifier.bias']\n",
      "- This IS expected if you are initializing DebertaModel from the checkpoint of a model trained on another task or with another architecture (e.g. initializing a BertForSequenceClassification model from a BertForPreTraining model).\n",
      "- This IS NOT expected if you are initializing DebertaModel from the checkpoint of a model that you expect to be exactly identical (initializing a BertForSequenceClassification model from a BertForSequenceClassification model).\n"
     ]
    },
    {
     "name": "stdout",
     "output_type": "stream",
     "text": [
      "calculating scores...\n",
      "computing bert embedding.\n"
     ]
    },
    {
     "data": {
      "application/vnd.jupyter.widget-view+json": {
       "model_id": "93b32927296b428abb31a027844ac60f",
       "version_major": 2,
       "version_minor": 0
      },
      "text/plain": [
       "  0%|          | 0/44 [00:00<?, ?it/s]"
      ]
     },
     "metadata": {},
     "output_type": "display_data"
    },
    {
     "name": "stdout",
     "output_type": "stream",
     "text": [
      "computing greedy matching.\n"
     ]
    },
    {
     "data": {
      "application/vnd.jupyter.widget-view+json": {
       "model_id": "9fa03dcba80542d59d423eab81fc6500",
       "version_major": 2,
       "version_minor": 0
      },
      "text/plain": [
       "  0%|          | 0/24 [00:00<?, ?it/s]"
      ]
     },
     "metadata": {},
     "output_type": "display_data"
    },
    {
     "name": "stdout",
     "output_type": "stream",
     "text": [
      "done in 24.86 seconds, 59.93 sentences/sec\n",
      "System level F1 score: 0.579\n"
     ]
    },
    {
     "name": "stderr",
     "output_type": "stream",
     "text": [
      "Some weights of the model checkpoint at microsoft/deberta-xlarge-mnli were not used when initializing DebertaModel: ['classifier.weight', 'pooler.dense.weight', 'pooler.dense.bias', 'classifier.bias']\n",
      "- This IS expected if you are initializing DebertaModel from the checkpoint of a model trained on another task or with another architecture (e.g. initializing a BertForSequenceClassification model from a BertForPreTraining model).\n",
      "- This IS NOT expected if you are initializing DebertaModel from the checkpoint of a model that you expect to be exactly identical (initializing a BertForSequenceClassification model from a BertForSequenceClassification model).\n"
     ]
    },
    {
     "name": "stdout",
     "output_type": "stream",
     "text": [
      "calculating scores...\n",
      "computing bert embedding.\n"
     ]
    },
    {
     "data": {
      "application/vnd.jupyter.widget-view+json": {
       "model_id": "af411f02328e4947a38b41590df2b095",
       "version_major": 2,
       "version_minor": 0
      },
      "text/plain": [
       "  0%|          | 0/28 [00:00<?, ?it/s]"
      ]
     },
     "metadata": {},
     "output_type": "display_data"
    },
    {
     "name": "stdout",
     "output_type": "stream",
     "text": [
      "computing greedy matching.\n"
     ]
    },
    {
     "data": {
      "application/vnd.jupyter.widget-view+json": {
       "model_id": "a641e0165062489d97d9497376610d33",
       "version_major": 2,
       "version_minor": 0
      },
      "text/plain": [
       "  0%|          | 0/15 [00:00<?, ?it/s]"
      ]
     },
     "metadata": {},
     "output_type": "display_data"
    },
    {
     "name": "stdout",
     "output_type": "stream",
     "text": [
      "done in 16.43 seconds, 55.82 sentences/sec\n",
      "System level F1 score: 0.585\n"
     ]
    }
   ],
   "source": [
    "gptj_few_bp, gptj_few_br, gptj_few_bf= score(gptj_few['Generated Answer'].tolist(), gptj_few['Answer'].tolist(), model_type=\"microsoft/deberta-xlarge-mnli\", verbose=True)\n",
    "\n",
    "print(f\"System level F1 score: {gptj_few_bf.mean():.3f}\")\n",
    "\n",
    "gptj_few_bp, gptj_few_br, gptj_few_bf= score(gptj_few['Generated Answer'].tolist(), gptj_few['Answer'].tolist(), model_type=\"microsoft/deberta-xlarge-mnli\", verbose=True)\n",
    "\n",
    "print(f\"System level F1 score: {gptj_few_bf.mean():.3f}\")"
   ]
  },
  {
   "cell_type": "code",
   "execution_count": 123,
   "metadata": {
    "execution": {
     "iopub.execute_input": "2023-08-30T21:42:49.621771Z",
     "iopub.status.busy": "2023-08-30T21:42:49.621585Z",
     "iopub.status.idle": "2023-08-30T21:42:49.635665Z",
     "shell.execute_reply": "2023-08-30T21:42:49.635100Z",
     "shell.execute_reply.started": "2023-08-30T21:42:49.621751Z"
    }
   },
   "outputs": [
    {
     "name": "stdout",
     "output_type": "stream",
     "text": [
      "GPT-J rouge-1-f mean: 0.4669\n",
      "GPT-J rouge-2-f mean: 0.2974\n",
      "GPT-J rouge-l-f mean: 0.4265\n",
      "GPT-J rouge-1-p mean: 0.4858\n",
      "GPT-J rouge-2-p mean: 0.3108\n",
      "GPT-J rouge-l-p mean: 0.4432\n",
      "GPT-J rouge-1-r mean: 0.5007\n",
      "GPT-J rouge-2-r mean: 0.3307\n",
      "GPT-J rouge-l-r mean: 0.4583\n",
      "GPT-J bert-f mean: 0.6794\n",
      "GPT-J bert-p mean: 0.6814\n",
      "GPT-J bert-r mean: 0.6870\n",
      "GPT-J with reasoning rouge-1-f mean: 0.4875\n",
      "GPT-J with reasoning rouge-2-f mean: 0.3080\n",
      "GPT-J with reasoning rouge-l-f mean: 0.4461\n",
      "GPT-J with reasoning rouge-1-p mean: 0.5170\n",
      "GPT-J with reasoning rouge-2-p mean: 0.3313\n",
      "GPT-J with reasoning rouge-l-p mean: 0.4734\n",
      "GPT-J with reasoning rouge-1-r mean: 0.5096\n",
      "GPT-J with reasoning rouge-2-r mean: 0.3320\n",
      "GPT-J with reasoning rouge-l-r mean: 0.4662\n",
      "GPT-J with reasoning bert-f mean: 0.6981\n",
      "GPT-J with reasoning bert-p mean: 0.7080\n",
      "GPT-J with reasoning bert-r mean: 0.6962\n",
      "LexGPT rouge-1-f mean: 0.2858\n",
      "LexGPT rouge-2-f mean: 0.1519\n",
      "LexGPT rouge-l-f mean: 0.2564\n",
      "LexGPT rouge-1-p mean: 0.3407\n",
      "LexGPT rouge-2-p mean: 0.1877\n",
      "LexGPT rouge-l-p mean: 0.3073\n",
      "LexGPT rouge-1-r mean: 0.2897\n",
      "LexGPT rouge-2-r mean: 0.1551\n",
      "LexGPT rouge-l-r mean: 0.2591\n",
      "LexGPT bert-f mean: 0.5794\n",
      "LexGPT bert-p mean: 0.6371\n",
      "LexGPT bert-r mean: 0.5550\n",
      "LexGPT with reasoning rouge-1-f mean: 0.3054\n",
      "LexGPT with reasoning rouge-2-f mean: 0.1486\n",
      "LexGPT with reasoning rouge-l-f mean: 0.2703\n",
      "LexGPT with reasoning rouge-1-p mean: 0.3423\n",
      "LexGPT with reasoning rouge-2-p mean: 0.1679\n",
      "LexGPT with reasoning rouge-l-p mean: 0.3051\n",
      "LexGPT with reasoning rouge-1-r mean: 0.3220\n",
      "LexGPT with reasoning rouge-2-r mean: 0.1644\n",
      "LexGPT with reasoning rouge-l-r mean: 0.2842\n",
      "LexGPT with reasoning bert-f mean: 0.5848\n",
      "LexGPT with reasoning bert-p mean: 0.6197\n",
      "LexGPT with reasoning bert-r mean: 0.5711\n"
     ]
    }
   ],
   "source": [
    "#mean of all rouge scores\n",
    "print(f\"GPT-J rouge-1-f mean: {gptj_zero['rouge-1-f'].mean():.4f}\")\n",
    "print(f\"GPT-J rouge-2-f mean: {gptj_zero['rouge-2-f'].mean():.4f}\")\n",
    "print(f\"GPT-J rouge-l-f mean: {gptj_zero['rouge-l-f'].mean():.4f}\")\n",
    "print(f\"GPT-J rouge-1-p mean: {gptj_zero['rouge-1-p'].mean():.4f}\")\n",
    "print(f\"GPT-J rouge-2-p mean: {gptj_zero['rouge-2-p'].mean():.4f}\")\n",
    "print(f\"GPT-J rouge-l-p mean: {gptj_zero['rouge-l-p'].mean():.4f}\")\n",
    "print(f\"GPT-J rouge-1-r mean: {gptj_zero['rouge-1-r'].mean():.4f}\")\n",
    "print(f\"GPT-J rouge-2-r mean: {gptj_zero['rouge-2-r'].mean():.4f}\")\n",
    "print(f\"GPT-J rouge-l-r mean: {gptj_zero['rouge-l-r'].mean():.4f}\")\n",
    "print(f\"GPT-J bert-f mean: {gptj_zero_bf.mean():.4f}\")\n",
    "print(f\"GPT-J bert-p mean: {gptj_zero_bp.mean():.4f}\")\n",
    "print(f\"GPT-J bert-r mean: {gptj_zero_br.mean():.4f}\")\n",
    "\n",
    "\n",
    "print(f\"GPT-J with reasoning rouge-1-f mean: {gptj_one['rouge-1-f'].mean():.4f}\")\n",
    "print(f\"GPT-J with reasoning rouge-2-f mean: {gptj_one['rouge-2-f'].mean():.4f}\")\n",
    "print(f\"GPT-J with reasoning rouge-l-f mean: {gptj_one['rouge-l-f'].mean():.4f}\")\n",
    "print(f\"GPT-J with reasoning rouge-1-p mean: {gptj_one['rouge-1-p'].mean():.4f}\")\n",
    "print(f\"GPT-J with reasoning rouge-2-p mean: {gptj_one['rouge-2-p'].mean():.4f}\")\n",
    "print(f\"GPT-J with reasoning rouge-l-p mean: {gptj_one['rouge-l-p'].mean():.4f}\")\n",
    "print(f\"GPT-J with reasoning rouge-1-r mean: {gptj_one['rouge-1-r'].mean():.4f}\")\n",
    "print(f\"GPT-J with reasoning rouge-2-r mean: {gptj_one['rouge-2-r'].mean():.4f}\")\n",
    "print(f\"GPT-J with reasoning rouge-l-r mean: {gptj_one['rouge-l-r'].mean():.4f}\")\n",
    "print(f\"GPT-J with reasoning bert-f mean: {gptj_one_bf.mean():.4f}\")\n",
    "print(f\"GPT-J with reasoning bert-p mean: {gptj_one_bp.mean():.4f}\")\n",
    "print(f\"GPT-J with reasoning bert-r mean: {gptj_one_br.mean():.4f}\")\n",
    "\n",
    "print(f\"LexGPT rouge-1-f mean: {gptj_few['rouge-1-f'].mean():.4f}\")\n",
    "print(f\"LexGPT rouge-2-f mean: {gptj_few['rouge-2-f'].mean():.4f}\")\n",
    "print(f\"LexGPT rouge-l-f mean: {gptj_few['rouge-l-f'].mean():.4f}\")\n",
    "print(f\"LexGPT rouge-1-p mean: {gptj_few['rouge-1-p'].mean():.4f}\")\n",
    "print(f\"LexGPT rouge-2-p mean: {gptj_few['rouge-2-p'].mean():.4f}\")\n",
    "print(f\"LexGPT rouge-l-p mean: {gptj_few['rouge-l-p'].mean():.4f}\")\n",
    "print(f\"LexGPT rouge-1-r mean: {gptj_few['rouge-1-r'].mean():.4f}\")\n",
    "print(f\"LexGPT rouge-2-r mean: {gptj_few['rouge-2-r'].mean():.4f}\")\n",
    "print(f\"LexGPT rouge-l-r mean: {gptj_few['rouge-l-r'].mean():.4f}\")\n",
    "print(f\"LexGPT bert-f mean: {gptj_few_bf.mean():.4f}\")\n",
    "print(f\"LexGPT bert-p mean: {gptj_few_bp.mean():.4f}\")\n",
    "print(f\"LexGPT bert-r mean: {gptj_few_br.mean():.4f}\")"
   ]
  },
  {
   "cell_type": "code",
   "execution_count": 124,
   "metadata": {
    "execution": {
     "iopub.execute_input": "2023-08-30T21:42:49.636633Z",
     "iopub.status.busy": "2023-08-30T21:42:49.636450Z",
     "iopub.status.idle": "2023-08-30T21:42:49.885857Z",
     "shell.execute_reply": "2023-08-30T21:42:49.885285Z",
     "shell.execute_reply.started": "2023-08-30T21:42:49.636615Z"
    }
   },
   "outputs": [
    {
     "data": {
      "image/png": "[encoded data removed]",
      "text/plain": [
       "<Figure size 1600x800 with 1 Axes>"
      ]
     },
     "metadata": {},
     "output_type": "display_data"
    }
   ],
   "source": [
    "import matplotlib.pyplot as plt\n",
    "\n",
    "import numpy as np\n",
    "\n",
    "# Data\n",
    "\n",
    "labels = ['Rouge-1-f', 'Rouge-2-f', 'Rouge-L-f', 'Rouge-1-p', 'Rouge-2-p', 'Rouge-L-p', 'Rouge-1-r', 'Rouge-2-r', 'Rouge-L-r', 'Bert-f', 'Bert-p', 'Bert-r']\n",
    "\n",
    "gptj_zero = [gptj_zero['rouge-1-f'].mean(), gptj_zero['rouge-2-f'].mean(), gptj_zero['rouge-l-f'].mean(), gptj_zero['rouge-1-p'].mean(), gptj_zero['rouge-2-p'].mean(), gptj_zero['rouge-l-p'].mean(), gptj_zero['rouge-1-r'].mean(), gptj_zero['rouge-2-r'].mean(), gptj_zero['rouge-l-r'].mean(), gptj_zero_bf.mean(), gptj_zero_bp.mean(), gptj_zero_br.mean()]\n",
    "\n",
    "gptj_one = [gptj_one['rouge-1-f'].mean(), gptj_one['rouge-2-f'].mean(), gptj_one['rouge-l-f'].mean(), gptj_one['rouge-1-p'].mean(), gptj_one['rouge-2-p'].mean(), gptj_one['rouge-l-p'].mean(), gptj_one['rouge-1-r'].mean(), gptj_one['rouge-2-r'].mean(), gptj_one['rouge-l-r'].mean(), gptj_one_bf.mean(), gptj_one_bp.mean(), gptj_one_br.mean()]\n",
    "\n",
    "gptj_few = [gptj_few['rouge-1-f'].mean(), gptj_few['rouge-2-f'].mean(), gptj_few['rouge-l-f'].mean(), gptj_few['rouge-1-p'].mean(), gptj_few['rouge-2-p'].mean(), gptj_few['rouge-l-p'].mean(), gptj_few['rouge-1-r'].mean(), gptj_few['rouge-2-r'].mean(), gptj_few['rouge-l-r'].mean(), gptj_few_bf.mean(), gptj_few_bp.mean(), gptj_few_br.mean()]\n",
    "\n",
    "# Plotting with updated requirements\n",
    "fig, ax = plt.subplots(figsize=(16, 8))\n",
    "\n",
    "# Different colors for each model\n",
    "colors = ['blue', 'green', 'red', 'purple']\n",
    "\n",
    "rects1 = ax.bar(x - width*1.5, gptj_zero, width, label='GPT-J Zero-Shot', color=colors[0])\n",
    "rects2 = ax.bar(x - width/2, gptj_one, width, label='GPT-J One-Shot', color=colors[1])\n",
    "rects3 = ax.bar(x + width/2, gptj_few, width, label='GPT-J Few-Shot', color=colors[2])\n",
    "\n",
    "# Add some text for labels, title and custom x-axis tick labels, etc.\n",
    "ax.set_ylabel('Metrics Value')\n",
    "ax.set_title('Comparison of NLP Metrics Across Models')\n",
    "ax.set_xticks(x)\n",
    "# Update label names to include Bert-Score prefix\n",
    "updated_labels = [label if 'Bert' not in label else 'Bert-Score ' + label.split('-')[-1] for label in labels]\n",
    "ax.set_xticklabels(updated_labels)\n",
    "ax.legend()\n",
    "\n",
    "plt.xticks(rotation=45)\n",
    "plt.tight_layout()\n",
    "plt.show()"
   ]
  }
 ],
 "metadata": {
  "kernelspec": {
   "display_name": "Python 3 (ipykernel)",
   "language": "python",
   "name": "python3"
  },
  "language_info": {
   "codemirror_mode": {
    "name": "ipython",
    "version": 3
   },
   "file_extension": ".py",
   "mimetype": "text/x-python",
   "name": "python",
   "nbconvert_exporter": "python",
   "pygments_lexer": "ipython3",
   "version": "3.10.10"
  }
 },
 "nbformat": 4,
 "nbformat_minor": 4
}
