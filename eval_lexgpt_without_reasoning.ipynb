{
 "cells": [
  {
   "cell_type": "code",
   "execution_count": 2,
   "id": "0852950a-27fa-4365-805f-cf28c26a5683",
   "metadata": {},
   "outputs": [
    {
     "data": {
      "application/vnd.jupyter.widget-view+json": {
       "model_id": "2d602a757671473796bc04e74659f03b",
       "version_major": 2,
       "version_minor": 0
      },
      "text/plain": [
       "VBox(children=(HTML(value='<center> <img\\nsrc=https://huggingface.co/front/assets/huggingface_logo-noborder.sv…"
      ]
     },
     "metadata": {},
     "output_type": "display_data"
    }
   ],
   "source": [
    "from huggingface_hub import login\n",
    "login()"
   ]
  },
  {
   "cell_type": "code",
   "execution_count": 1,
   "id": "1216c879-27d9-4462-b574-143cf95b1f61",
   "metadata": {},
   "outputs": [
    {
     "data": {
      "application/vnd.jupyter.widget-view+json": {
       "model_id": "ddeba6cd08aa4c1e9943f505be6d069d",
       "version_major": 2,
       "version_minor": 0
      },
      "text/plain": [
       "Loading checkpoint shards:   0%|          | 0/2 [00:00<?, ?it/s]"
      ]
     },
     "metadata": {},
     "output_type": "display_data"
    }
   ],
   "source": [
    "import torch\n",
    "from peft import PeftModel, PeftConfig\n",
    "from transformers import AutoModelForCausalLM, AutoTokenizer\n",
    "\n",
    "peft_model_id = \"harshasurampudi/lexgpt-lfqa-without-reasoning\"\n",
    "config = PeftConfig.from_pretrained(peft_model_id)\n",
    "model = AutoModelForCausalLM.from_pretrained(config.base_model_name_or_path, return_dict=True, load_in_8bit=True)\n",
    "tokenizer = AutoTokenizer.from_pretrained(\"patent/LexGPT-6B\")\n",
    "tokenizer.padding_side=\"left\"\n",
    "\n",
    "# Load the Lora model\n",
    "model = PeftModel.from_pretrained(model, peft_model_id)"
   ]
  },
  {
   "cell_type": "code",
   "execution_count": 2,
   "id": "222e63e0-3d50-49e0-b6cb-d3f705a20b93",
   "metadata": {},
   "outputs": [],
   "source": [
    "from transformers import GenerationConfig, pipeline\n",
    "config = GenerationConfig(\n",
    "    do_sample=True,\n",
    "    max_new_tokens=150,\n",
    "    top_p=1,\n",
    "    pad_token_id = tokenizer.eos_token_id)"
   ]
  },
  {
   "cell_type": "code",
   "execution_count": 3,
   "id": "be8b522a-572f-4f5d-a68d-0f751cfb2fd6",
   "metadata": {},
   "outputs": [
    {
     "name": "stderr",
     "output_type": "stream",
     "text": [
      "The model 'PeftModelForCausalLM' is not supported for text-generation. Supported models are ['BartForCausalLM', 'BertLMHeadModel', 'BertGenerationDecoder', 'BigBirdForCausalLM', 'BigBirdPegasusForCausalLM', 'BioGptForCausalLM', 'BlenderbotForCausalLM', 'BlenderbotSmallForCausalLM', 'BloomForCausalLM', 'CamembertForCausalLM', 'CodeGenForCausalLM', 'CpmAntForCausalLM', 'CTRLLMHeadModel', 'Data2VecTextForCausalLM', 'ElectraForCausalLM', 'ErnieForCausalLM', 'FalconForCausalLM', 'GitForCausalLM', 'GPT2LMHeadModel', 'GPT2LMHeadModel', 'GPTBigCodeForCausalLM', 'GPTNeoForCausalLM', 'GPTNeoXForCausalLM', 'GPTNeoXJapaneseForCausalLM', 'GPTJForCausalLM', 'LlamaForCausalLM', 'MarianForCausalLM', 'MBartForCausalLM', 'MegaForCausalLM', 'MegatronBertForCausalLM', 'MptForCausalLM', 'MusicgenForCausalLM', 'MvpForCausalLM', 'OpenLlamaForCausalLM', 'OpenAIGPTLMHeadModel', 'OPTForCausalLM', 'PegasusForCausalLM', 'PLBartForCausalLM', 'ProphetNetForCausalLM', 'QDQBertLMHeadModel', 'ReformerModelWithLMHead', 'RemBertForCausalLM', 'RobertaForCausalLM', 'RobertaPreLayerNormForCausalLM', 'RoCBertForCausalLM', 'RoFormerForCausalLM', 'RwkvForCausalLM', 'Speech2Text2ForCausalLM', 'TransfoXLLMHeadModel', 'TrOCRForCausalLM', 'XGLMForCausalLM', 'XLMWithLMHeadModel', 'XLMProphetNetForCausalLM', 'XLMRobertaForCausalLM', 'XLMRobertaXLForCausalLM', 'XLNetLMHeadModel', 'XmodForCausalLM'].\n"
     ]
    }
   ],
   "source": [
    "pipe = pipeline(\n",
    "    \"text-generation\",\n",
    "    model=model,\n",
    "    tokenizer=tokenizer,\n",
    "    batch_size=8,\n",
    "    generation_config=config,\n",
    ")\n",
    "pipe.tokenizer.pad_token_id = model.config.eos_token_id"
   ]
  },
  {
   "cell_type": "code",
   "execution_count": 4,
   "id": "81b4a63a-0b97-4339-95f6-daec1853794f",
   "metadata": {},
   "outputs": [
    {
     "data": {
      "text/plain": [
       "[{'generated_text': 'Context:\\nStat. § 14-32.1(a), does not make the definition an essential element of the crime pursuant to N.C. Gen. Stat. § 14-32.1(e). Therefore, we reject Defendant’s argument that it is not sufficient for the indictment to “merely state that the victim was ‘handicapped.’ ” Furthermore, the indictment provided Defendant with enough information to prepare a defense for the offense of felony assault on a handicapped person. See Leonard, _ N.C. App. at _, 711 S.E.2d at 873 (rejecting the defendant’s argument that the indictment was not sufficient because the indictment tracked the relevant language of the statute, listed “the essential elements of the offense[,]” and provided the defendant “with enough information to prepare a defense”); State v. Crisp, 126 N.C. App. 30, 36, 483 S.E.2d 462, 466 (<HOLDING>), appeal dismissed and disc. review denied, 346\\nQuestion: Is it necessary for the definition of the crime to be stated in the indictment according to N.C. Gen. Stat. § 14-32.1(a)?\\nAnswer:\\n(1) In State v. Leonard,... this Court found that language “as used” in N.C. Gen. Stat. § 14-52.1(a) is “as used” in N.C.G.S. § 14-32.1(b) and that “[a]fter construing the statute, this Court concluded that it was intended simply to clarify the application of the statutes defining the offenses charged[.]” The language used in the indictment in the present case, “as used” in N.C.G.S. § 14-32.1(a), clearly mirrors the wording contained in N.C.G.S. § 14-52.1 and provides sufficient detail regarding'}]"
      ]
     },
     "execution_count": 4,
     "metadata": {},
     "output_type": "execute_result"
    }
   ],
   "source": [
    "inp_text =\"\"\"Context:\n",
    "Stat. § 14-32.1(a), does not make the definition an essential element of the crime pursuant to N.C. Gen. Stat. § 14-32.1(e). Therefore, we reject Defendant’s argument that it is not sufficient for the indictment to “merely state that the victim was ‘handicapped.’ ” Furthermore, the indictment provided Defendant with enough information to prepare a defense for the offense of felony assault on a handicapped person. See Leonard, _ N.C. App. at _, 711 S.E.2d at 873 (rejecting the defendant’s argument that the indictment was not sufficient because the indictment tracked the relevant language of the statute, listed “the essential elements of the offense[,]” and provided the defendant “with enough information to prepare a defense”); State v. Crisp, 126 N.C. App. 30, 36, 483 S.E.2d 462, 466 (<HOLDING>), appeal dismissed and disc. review denied, 346\n",
    "Question: Is it necessary for the definition of the crime to be stated in the indictment according to N.C. Gen. Stat. § 14-32.1(a)?\n",
    "Answer:\n",
    "\"\"\"\n",
    "\n",
    "pipe(inp_text)"
   ]
  },
  {
   "cell_type": "code",
   "execution_count": 5,
   "id": "b908e5dd-f741-427c-9627-2ecc443c3362",
   "metadata": {},
   "outputs": [
    {
     "data": {
      "text/html": [
       "<div>\n",
       "<style scoped>\n",
       "    .dataframe tbody tr th:only-of-type {\n",
       "        vertical-align: middle;\n",
       "    }\n",
       "\n",
       "    .dataframe tbody tr th {\n",
       "        vertical-align: top;\n",
       "    }\n",
       "\n",
       "    .dataframe thead th {\n",
       "        text-align: right;\n",
       "    }\n",
       "</style>\n",
       "<table border=\"1\" class=\"dataframe\">\n",
       "  <thead>\n",
       "    <tr style=\"text-align: right;\">\n",
       "      <th></th>\n",
       "      <th>Context</th>\n",
       "      <th>Question</th>\n",
       "      <th>Legal Reasoning</th>\n",
       "      <th>Answer</th>\n",
       "    </tr>\n",
       "  </thead>\n",
       "  <tbody>\n",
       "    <tr>\n",
       "      <th>0</th>\n",
       "      <td>and Statistical Manual of Mental Disorders 446...</td>\n",
       "      <td>Can the defendants force Dr. Nadel to provide ...</td>\n",
       "      <td>The issue at hand pertains to the compulsion o...</td>\n",
       "      <td>No, according to the Graham v. Gielchinsky cas...</td>\n",
       "    </tr>\n",
       "    <tr>\n",
       "      <th>1</th>\n",
       "      <td>one of his trial counsel as a witness, so the ...</td>\n",
       "      <td>Did the Appellee's trial counsel have knowledg...</td>\n",
       "      <td>The question at hand pertains to the knowledge...</td>\n",
       "      <td>It is uncertain whether the Appellee's trial c...</td>\n",
       "    </tr>\n",
       "    <tr>\n",
       "      <th>2</th>\n",
       "      <td>Some of Cruikshank’s objections on appeal appe...</td>\n",
       "      <td>Can Cruikshank's objections on the trial court...</td>\n",
       "      <td>The issue at hand pertains to the admissibilit...</td>\n",
       "      <td>No, Cruikshank's objections on the trial court...</td>\n",
       "    </tr>\n",
       "    <tr>\n",
       "      <th>3</th>\n",
       "      <td>noting that the additional materials provided ...</td>\n",
       "      <td>Can the motion to strike filed by PFM be consi...</td>\n",
       "      <td>The question pertains to the categorization of...</td>\n",
       "      <td>Yes, the motion to strike filed by PFM can be ...</td>\n",
       "    </tr>\n",
       "    <tr>\n",
       "      <th>4</th>\n",
       "      <td>The State is within the powers reserved to it ...</td>\n",
       "      <td>Can the State refuse to enter into agreements ...</td>\n",
       "      <td>The question revolves around the State's power...</td>\n",
       "      <td>Yes, the State has the power to refuse to ente...</td>\n",
       "    </tr>\n",
       "    <tr>\n",
       "      <th>...</th>\n",
       "      <td>...</td>\n",
       "      <td>...</td>\n",
       "      <td>...</td>\n",
       "      <td>...</td>\n",
       "    </tr>\n",
       "    <tr>\n",
       "      <th>1492</th>\n",
       "      <td>The new biological opinion included an inciden...</td>\n",
       "      <td>Is the Consent Decree considered an injunction...</td>\n",
       "      <td>The question revolves around whether the Conse...</td>\n",
       "      <td>The classification of the Consent Decree as an...</td>\n",
       "    </tr>\n",
       "    <tr>\n",
       "      <th>1493</th>\n",
       "      <td>(a) Appealable Orders. (1) The following order...</td>\n",
       "      <td>Can a party appeal a disposition, review, no r...</td>\n",
       "      <td>The question pertains to the appealability of ...</td>\n",
       "      <td>Yes, a party can appeal a disposition, review,...</td>\n",
       "    </tr>\n",
       "    <tr>\n",
       "      <th>1494</th>\n",
       "      <td>criminal laws.” Spaziano v. Florida, 468 U.S. ...</td>\n",
       "      <td>Can the sentence imposed on Williams be consid...</td>\n",
       "      <td>The question pertains to the constitutionality...</td>\n",
       "      <td>No, the sentence imposed on Williams is not un...</td>\n",
       "    </tr>\n",
       "    <tr>\n",
       "      <th>1495</th>\n",
       "      <td>F.Supp.3d 700, 703, No. 3:14CV200 (JMM), 2014 ...</td>\n",
       "      <td>Can an entity be held liable for unsolicited c...</td>\n",
       "      <td>The question pertains to the liability of an e...</td>\n",
       "      <td>Yes, an entity can be held liable for unsolici...</td>\n",
       "    </tr>\n",
       "    <tr>\n",
       "      <th>1496</th>\n",
       "      <td>First, the proposed Second Amended Complaint m...</td>\n",
       "      <td>Is there a causal relationship between Plainti...</td>\n",
       "      <td>The question pertains to the causal relationsh...</td>\n",
       "      <td>No, there is no established causal relationshi...</td>\n",
       "    </tr>\n",
       "  </tbody>\n",
       "</table>\n",
       "<p>1497 rows × 4 columns</p>\n",
       "</div>"
      ],
      "text/plain": [
       "                                                Context  \\\n",
       "0     and Statistical Manual of Mental Disorders 446...   \n",
       "1     one of his trial counsel as a witness, so the ...   \n",
       "2     Some of Cruikshank’s objections on appeal appe...   \n",
       "3     noting that the additional materials provided ...   \n",
       "4     The State is within the powers reserved to it ...   \n",
       "...                                                 ...   \n",
       "1492  The new biological opinion included an inciden...   \n",
       "1493  (a) Appealable Orders. (1) The following order...   \n",
       "1494  criminal laws.” Spaziano v. Florida, 468 U.S. ...   \n",
       "1495  F.Supp.3d 700, 703, No. 3:14CV200 (JMM), 2014 ...   \n",
       "1496  First, the proposed Second Amended Complaint m...   \n",
       "\n",
       "                                               Question  \\\n",
       "0     Can the defendants force Dr. Nadel to provide ...   \n",
       "1     Did the Appellee's trial counsel have knowledg...   \n",
       "2     Can Cruikshank's objections on the trial court...   \n",
       "3     Can the motion to strike filed by PFM be consi...   \n",
       "4     Can the State refuse to enter into agreements ...   \n",
       "...                                                 ...   \n",
       "1492  Is the Consent Decree considered an injunction...   \n",
       "1493  Can a party appeal a disposition, review, no r...   \n",
       "1494  Can the sentence imposed on Williams be consid...   \n",
       "1495  Can an entity be held liable for unsolicited c...   \n",
       "1496  Is there a causal relationship between Plainti...   \n",
       "\n",
       "                                        Legal Reasoning  \\\n",
       "0     The issue at hand pertains to the compulsion o...   \n",
       "1     The question at hand pertains to the knowledge...   \n",
       "2     The issue at hand pertains to the admissibilit...   \n",
       "3     The question pertains to the categorization of...   \n",
       "4     The question revolves around the State's power...   \n",
       "...                                                 ...   \n",
       "1492  The question revolves around whether the Conse...   \n",
       "1493  The question pertains to the appealability of ...   \n",
       "1494  The question pertains to the constitutionality...   \n",
       "1495  The question pertains to the liability of an e...   \n",
       "1496  The question pertains to the causal relationsh...   \n",
       "\n",
       "                                                 Answer  \n",
       "0     No, according to the Graham v. Gielchinsky cas...  \n",
       "1     It is uncertain whether the Appellee's trial c...  \n",
       "2     No, Cruikshank's objections on the trial court...  \n",
       "3     Yes, the motion to strike filed by PFM can be ...  \n",
       "4     Yes, the State has the power to refuse to ente...  \n",
       "...                                                 ...  \n",
       "1492  The classification of the Consent Decree as an...  \n",
       "1493  Yes, a party can appeal a disposition, review,...  \n",
       "1494  No, the sentence imposed on Williams is not un...  \n",
       "1495  Yes, an entity can be held liable for unsolici...  \n",
       "1496  No, there is no established causal relationshi...  \n",
       "\n",
       "[1497 rows x 4 columns]"
      ]
     },
     "execution_count": 5,
     "metadata": {},
     "output_type": "execute_result"
    }
   ],
   "source": [
    "import pandas as pd\n",
    "\n",
    "df = pd.read_csv('test_extracted.csv')\n",
    "df"
   ]
  },
  {
   "cell_type": "code",
   "execution_count": 6,
   "id": "ebaaa0fa-0ecc-46b2-bbc0-328d2692f41d",
   "metadata": {},
   "outputs": [],
   "source": [
    "df['Prompt'] = df.apply(lambda row:f\"\"\"Context:\n",
    "{row['Context']}\n",
    "Question:\n",
    "{row['Question']}\n",
    "Answer:\n",
    "\"\"\", axis=1)\n",
    "\n",
    "prompts = df['Prompt'].to_list()"
   ]
  },
  {
   "cell_type": "code",
   "execution_count": 7,
   "id": "c26108da-e7be-4fcd-842c-bcc930a18794",
   "metadata": {},
   "outputs": [],
   "source": [
    "from datasets import Dataset\n",
    "test_dataset = Dataset.from_pandas(df[['Prompt']])"
   ]
  },
  {
   "cell_type": "code",
   "execution_count": 8,
   "id": "10b133e1-01aa-47d7-84b5-191aa4a3e022",
   "metadata": {},
   "outputs": [
    {
     "data": {
      "text/plain": [
       "Dataset({\n",
       "    features: ['Prompt'],\n",
       "    num_rows: 1497\n",
       "})"
      ]
     },
     "execution_count": 8,
     "metadata": {},
     "output_type": "execute_result"
    }
   ],
   "source": [
    "test_dataset"
   ]
  },
  {
   "cell_type": "code",
   "execution_count": 9,
   "id": "d60c23ac-cb6c-47a9-89e1-6718dcc4ad40",
   "metadata": {},
   "outputs": [
    {
     "name": "stdout",
     "output_type": "stream",
     "text": [
      "1497\r"
     ]
    }
   ],
   "source": [
    "i=0\n",
    "from transformers.pipelines.pt_utils import KeyDataset\n",
    "for out in pipe(KeyDataset(test_dataset, \"Prompt\")):\n",
    "    df.loc[i, 'Generated Text'] = out[0]['generated_text']\n",
    "    df.to_csv('lex_test_generated.csv', index=False)\n",
    "    i+=1\n",
    "    print(i, end='\\r')"
   ]
  },
  {
   "cell_type": "code",
   "execution_count": null,
   "id": "43ebcf2b-4b83-4490-b2b0-7bfc5eee5ecc",
   "metadata": {},
   "outputs": [],
   "source": []
  }
 ],
 "metadata": {
  "kernelspec": {
   "display_name": "Python 3 (ipykernel)",
   "language": "python",
   "name": "python3"
  },
  "language_info": {
   "codemirror_mode": {
    "name": "ipython",
    "version": 3
   },
   "file_extension": ".py",
   "mimetype": "text/x-python",
   "name": "python",
   "nbconvert_exporter": "python",
   "pygments_lexer": "ipython3",
   "version": "3.9.16"
  }
 },
 "nbformat": 4,
 "nbformat_minor": 5
}
